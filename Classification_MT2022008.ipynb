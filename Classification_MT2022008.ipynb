{
  "metadata": {
    "kernelspec": {
      "language": "python",
      "display_name": "Python 3",
      "name": "python3"
    },
    "language_info": {
      "name": "python",
      "version": "3.7.12",
      "mimetype": "text/x-python",
      "codemirror_mode": {
        "name": "ipython",
        "version": 3
      },
      "pygments_lexer": "ipython3",
      "nbconvert_exporter": "python",
      "file_extension": ".py"
    },
    "colab": {
      "provenance": []
    }
  },
  "nbformat_minor": 0,
  "nbformat": 4,
  "cells": [
    {
      "cell_type": "code",
      "source": [
        "import  numpy as np  #importing libraries\n",
        "import pandas as pd\n",
        "import matplotlib.pyplot as plt\n",
        "import seaborn as sns"
      ],
      "metadata": {
        "execution": {
          "iopub.status.busy": "2022-09-02T06:29:30.834811Z",
          "iopub.execute_input": "2022-09-02T06:29:30.835769Z",
          "iopub.status.idle": "2022-09-02T06:29:30.843108Z",
          "shell.execute_reply.started": "2022-09-02T06:29:30.835723Z",
          "shell.execute_reply": "2022-09-02T06:29:30.841077Z"
        },
        "trusted": true,
        "id": "mgWNbMyIi4rT"
      },
      "execution_count": 153,
      "outputs": []
    },
    {
      "cell_type": "markdown",
      "source": [
        "# Data Preprocessing"
      ],
      "metadata": {
        "id": "5SVzVf_-i4rU"
      }
    },
    {
      "cell_type": "code",
      "source": [
        "from google.colab import drive\n",
        "drive.mount('/content/drive')"
      ],
      "metadata": {
        "colab": {
          "base_uri": "https://localhost:8080/"
        },
        "id": "h0-wgrd2jCoj",
        "outputId": "8335ac5d-6627-4a98-8964-cb06337e6f68"
      },
      "execution_count": 154,
      "outputs": [
        {
          "output_type": "stream",
          "name": "stdout",
          "text": [
            "Drive already mounted at /content/drive; to attempt to forcibly remount, call drive.mount(\"/content/drive\", force_remount=True).\n"
          ]
        }
      ]
    },
    {
      "cell_type": "code",
      "source": [
        "data=pd.read_csv('/content/drive/MyDrive/ML_Assignment/titanic.csv')   #reading dataset"
      ],
      "metadata": {
        "execution": {
          "iopub.status.busy": "2022-09-02T06:29:30.845133Z",
          "iopub.execute_input": "2022-09-02T06:29:30.845979Z",
          "iopub.status.idle": "2022-09-02T06:29:30.861347Z",
          "shell.execute_reply.started": "2022-09-02T06:29:30.845933Z",
          "shell.execute_reply": "2022-09-02T06:29:30.860372Z"
        },
        "trusted": true,
        "id": "EkrB6GJei4rX"
      },
      "execution_count": 155,
      "outputs": []
    },
    {
      "cell_type": "code",
      "source": [
        "data.head()"
      ],
      "metadata": {
        "execution": {
          "iopub.status.busy": "2022-09-02T06:29:30.863396Z",
          "iopub.execute_input": "2022-09-02T06:29:30.863791Z",
          "iopub.status.idle": "2022-09-02T06:29:30.882657Z",
          "shell.execute_reply.started": "2022-09-02T06:29:30.863757Z",
          "shell.execute_reply": "2022-09-02T06:29:30.881258Z"
        },
        "trusted": true,
        "colab": {
          "base_uri": "https://localhost:8080/",
          "height": 206
        },
        "id": "fhpN09sbi4rY",
        "outputId": "0d5e707d-bf6c-4e24-d5fd-8986b9ff2211"
      },
      "execution_count": 156,
      "outputs": [
        {
          "output_type": "execute_result",
          "data": {
            "text/plain": [
              "   PassengerId  Survived  Pclass  \\\n",
              "0            1         0       3   \n",
              "1            2         1       1   \n",
              "2            3         1       3   \n",
              "3            4         1       1   \n",
              "4            5         0       3   \n",
              "\n",
              "                                                Name     Sex   Age  SibSp  \\\n",
              "0                            Braund, Mr. Owen Harris    male  22.0      1   \n",
              "1  Cumings, Mrs. John Bradley (Florence Briggs Th...  female  38.0      1   \n",
              "2                             Heikkinen, Miss. Laina  female  26.0      0   \n",
              "3       Futrelle, Mrs. Jacques Heath (Lily May Peel)  female  35.0      1   \n",
              "4                           Allen, Mr. William Henry    male  35.0      0   \n",
              "\n",
              "   Parch            Ticket     Fare Cabin Embarked  \n",
              "0      0         A/5 21171   7.2500   NaN        S  \n",
              "1      0          PC 17599  71.2833   C85        C  \n",
              "2      0  STON/O2. 3101282   7.9250   NaN        S  \n",
              "3      0            113803  53.1000  C123        S  \n",
              "4      0            373450   8.0500   NaN        S  "
            ],
            "text/html": [
              "\n",
              "  <div id=\"df-7113a8b0-e78d-49b5-8e72-20c2c7880057\">\n",
              "    <div class=\"colab-df-container\">\n",
              "      <div>\n",
              "<style scoped>\n",
              "    .dataframe tbody tr th:only-of-type {\n",
              "        vertical-align: middle;\n",
              "    }\n",
              "\n",
              "    .dataframe tbody tr th {\n",
              "        vertical-align: top;\n",
              "    }\n",
              "\n",
              "    .dataframe thead th {\n",
              "        text-align: right;\n",
              "    }\n",
              "</style>\n",
              "<table border=\"1\" class=\"dataframe\">\n",
              "  <thead>\n",
              "    <tr style=\"text-align: right;\">\n",
              "      <th></th>\n",
              "      <th>PassengerId</th>\n",
              "      <th>Survived</th>\n",
              "      <th>Pclass</th>\n",
              "      <th>Name</th>\n",
              "      <th>Sex</th>\n",
              "      <th>Age</th>\n",
              "      <th>SibSp</th>\n",
              "      <th>Parch</th>\n",
              "      <th>Ticket</th>\n",
              "      <th>Fare</th>\n",
              "      <th>Cabin</th>\n",
              "      <th>Embarked</th>\n",
              "    </tr>\n",
              "  </thead>\n",
              "  <tbody>\n",
              "    <tr>\n",
              "      <th>0</th>\n",
              "      <td>1</td>\n",
              "      <td>0</td>\n",
              "      <td>3</td>\n",
              "      <td>Braund, Mr. Owen Harris</td>\n",
              "      <td>male</td>\n",
              "      <td>22.0</td>\n",
              "      <td>1</td>\n",
              "      <td>0</td>\n",
              "      <td>A/5 21171</td>\n",
              "      <td>7.2500</td>\n",
              "      <td>NaN</td>\n",
              "      <td>S</td>\n",
              "    </tr>\n",
              "    <tr>\n",
              "      <th>1</th>\n",
              "      <td>2</td>\n",
              "      <td>1</td>\n",
              "      <td>1</td>\n",
              "      <td>Cumings, Mrs. John Bradley (Florence Briggs Th...</td>\n",
              "      <td>female</td>\n",
              "      <td>38.0</td>\n",
              "      <td>1</td>\n",
              "      <td>0</td>\n",
              "      <td>PC 17599</td>\n",
              "      <td>71.2833</td>\n",
              "      <td>C85</td>\n",
              "      <td>C</td>\n",
              "    </tr>\n",
              "    <tr>\n",
              "      <th>2</th>\n",
              "      <td>3</td>\n",
              "      <td>1</td>\n",
              "      <td>3</td>\n",
              "      <td>Heikkinen, Miss. Laina</td>\n",
              "      <td>female</td>\n",
              "      <td>26.0</td>\n",
              "      <td>0</td>\n",
              "      <td>0</td>\n",
              "      <td>STON/O2. 3101282</td>\n",
              "      <td>7.9250</td>\n",
              "      <td>NaN</td>\n",
              "      <td>S</td>\n",
              "    </tr>\n",
              "    <tr>\n",
              "      <th>3</th>\n",
              "      <td>4</td>\n",
              "      <td>1</td>\n",
              "      <td>1</td>\n",
              "      <td>Futrelle, Mrs. Jacques Heath (Lily May Peel)</td>\n",
              "      <td>female</td>\n",
              "      <td>35.0</td>\n",
              "      <td>1</td>\n",
              "      <td>0</td>\n",
              "      <td>113803</td>\n",
              "      <td>53.1000</td>\n",
              "      <td>C123</td>\n",
              "      <td>S</td>\n",
              "    </tr>\n",
              "    <tr>\n",
              "      <th>4</th>\n",
              "      <td>5</td>\n",
              "      <td>0</td>\n",
              "      <td>3</td>\n",
              "      <td>Allen, Mr. William Henry</td>\n",
              "      <td>male</td>\n",
              "      <td>35.0</td>\n",
              "      <td>0</td>\n",
              "      <td>0</td>\n",
              "      <td>373450</td>\n",
              "      <td>8.0500</td>\n",
              "      <td>NaN</td>\n",
              "      <td>S</td>\n",
              "    </tr>\n",
              "  </tbody>\n",
              "</table>\n",
              "</div>\n",
              "      <button class=\"colab-df-convert\" onclick=\"convertToInteractive('df-7113a8b0-e78d-49b5-8e72-20c2c7880057')\"\n",
              "              title=\"Convert this dataframe to an interactive table.\"\n",
              "              style=\"display:none;\">\n",
              "        \n",
              "  <svg xmlns=\"http://www.w3.org/2000/svg\" height=\"24px\"viewBox=\"0 0 24 24\"\n",
              "       width=\"24px\">\n",
              "    <path d=\"M0 0h24v24H0V0z\" fill=\"none\"/>\n",
              "    <path d=\"M18.56 5.44l.94 2.06.94-2.06 2.06-.94-2.06-.94-.94-2.06-.94 2.06-2.06.94zm-11 1L8.5 8.5l.94-2.06 2.06-.94-2.06-.94L8.5 2.5l-.94 2.06-2.06.94zm10 10l.94 2.06.94-2.06 2.06-.94-2.06-.94-.94-2.06-.94 2.06-2.06.94z\"/><path d=\"M17.41 7.96l-1.37-1.37c-.4-.4-.92-.59-1.43-.59-.52 0-1.04.2-1.43.59L10.3 9.45l-7.72 7.72c-.78.78-.78 2.05 0 2.83L4 21.41c.39.39.9.59 1.41.59.51 0 1.02-.2 1.41-.59l7.78-7.78 2.81-2.81c.8-.78.8-2.07 0-2.86zM5.41 20L4 18.59l7.72-7.72 1.47 1.35L5.41 20z\"/>\n",
              "  </svg>\n",
              "      </button>\n",
              "      \n",
              "  <style>\n",
              "    .colab-df-container {\n",
              "      display:flex;\n",
              "      flex-wrap:wrap;\n",
              "      gap: 12px;\n",
              "    }\n",
              "\n",
              "    .colab-df-convert {\n",
              "      background-color: #E8F0FE;\n",
              "      border: none;\n",
              "      border-radius: 50%;\n",
              "      cursor: pointer;\n",
              "      display: none;\n",
              "      fill: #1967D2;\n",
              "      height: 32px;\n",
              "      padding: 0 0 0 0;\n",
              "      width: 32px;\n",
              "    }\n",
              "\n",
              "    .colab-df-convert:hover {\n",
              "      background-color: #E2EBFA;\n",
              "      box-shadow: 0px 1px 2px rgba(60, 64, 67, 0.3), 0px 1px 3px 1px rgba(60, 64, 67, 0.15);\n",
              "      fill: #174EA6;\n",
              "    }\n",
              "\n",
              "    [theme=dark] .colab-df-convert {\n",
              "      background-color: #3B4455;\n",
              "      fill: #D2E3FC;\n",
              "    }\n",
              "\n",
              "    [theme=dark] .colab-df-convert:hover {\n",
              "      background-color: #434B5C;\n",
              "      box-shadow: 0px 1px 3px 1px rgba(0, 0, 0, 0.15);\n",
              "      filter: drop-shadow(0px 1px 2px rgba(0, 0, 0, 0.3));\n",
              "      fill: #FFFFFF;\n",
              "    }\n",
              "  </style>\n",
              "\n",
              "      <script>\n",
              "        const buttonEl =\n",
              "          document.querySelector('#df-7113a8b0-e78d-49b5-8e72-20c2c7880057 button.colab-df-convert');\n",
              "        buttonEl.style.display =\n",
              "          google.colab.kernel.accessAllowed ? 'block' : 'none';\n",
              "\n",
              "        async function convertToInteractive(key) {\n",
              "          const element = document.querySelector('#df-7113a8b0-e78d-49b5-8e72-20c2c7880057');\n",
              "          const dataTable =\n",
              "            await google.colab.kernel.invokeFunction('convertToInteractive',\n",
              "                                                     [key], {});\n",
              "          if (!dataTable) return;\n",
              "\n",
              "          const docLinkHtml = 'Like what you see? Visit the ' +\n",
              "            '<a target=\"_blank\" href=https://colab.research.google.com/notebooks/data_table.ipynb>data table notebook</a>'\n",
              "            + ' to learn more about interactive tables.';\n",
              "          element.innerHTML = '';\n",
              "          dataTable['output_type'] = 'display_data';\n",
              "          await google.colab.output.renderOutput(dataTable, element);\n",
              "          const docLink = document.createElement('div');\n",
              "          docLink.innerHTML = docLinkHtml;\n",
              "          element.appendChild(docLink);\n",
              "        }\n",
              "      </script>\n",
              "    </div>\n",
              "  </div>\n",
              "  "
            ]
          },
          "metadata": {},
          "execution_count": 156
        }
      ]
    },
    {
      "cell_type": "code",
      "source": [
        "data['Pclass'].unique()        "
      ],
      "metadata": {
        "execution": {
          "iopub.status.busy": "2022-09-02T06:29:30.884737Z",
          "iopub.execute_input": "2022-09-02T06:29:30.885401Z",
          "iopub.status.idle": "2022-09-02T06:29:30.896021Z",
          "shell.execute_reply.started": "2022-09-02T06:29:30.885361Z",
          "shell.execute_reply": "2022-09-02T06:29:30.894670Z"
        },
        "trusted": true,
        "colab": {
          "base_uri": "https://localhost:8080/"
        },
        "id": "l2AF42LNi4rZ",
        "outputId": "28dc9d67-d9dc-4d0a-bdcc-81995432fc16"
      },
      "execution_count": 157,
      "outputs": [
        {
          "output_type": "execute_result",
          "data": {
            "text/plain": [
              "array([3, 1, 2])"
            ]
          },
          "metadata": {},
          "execution_count": 157
        }
      ]
    },
    {
      "cell_type": "code",
      "source": [
        "data.isna().sum()   # checking for null values"
      ],
      "metadata": {
        "execution": {
          "iopub.status.busy": "2022-09-02T06:29:30.897892Z",
          "iopub.execute_input": "2022-09-02T06:29:30.898441Z",
          "iopub.status.idle": "2022-09-02T06:29:30.915106Z",
          "shell.execute_reply.started": "2022-09-02T06:29:30.898403Z",
          "shell.execute_reply": "2022-09-02T06:29:30.913799Z"
        },
        "trusted": true,
        "colab": {
          "base_uri": "https://localhost:8080/"
        },
        "id": "f0eNDoCVi4ra",
        "outputId": "bb882663-a123-4175-f37d-2267723da79e"
      },
      "execution_count": 158,
      "outputs": [
        {
          "output_type": "execute_result",
          "data": {
            "text/plain": [
              "PassengerId      0\n",
              "Survived         0\n",
              "Pclass           0\n",
              "Name             0\n",
              "Sex              0\n",
              "Age            177\n",
              "SibSp            0\n",
              "Parch            0\n",
              "Ticket           0\n",
              "Fare             0\n",
              "Cabin          687\n",
              "Embarked         2\n",
              "dtype: int64"
            ]
          },
          "metadata": {},
          "execution_count": 158
        }
      ]
    },
    {
      "cell_type": "code",
      "source": [
        "data.describe()         # getting the information about the dataset"
      ],
      "metadata": {
        "execution": {
          "iopub.status.busy": "2022-09-02T06:29:30.916574Z",
          "iopub.execute_input": "2022-09-02T06:29:30.917690Z",
          "iopub.status.idle": "2022-09-02T06:29:30.951205Z",
          "shell.execute_reply.started": "2022-09-02T06:29:30.917651Z",
          "shell.execute_reply": "2022-09-02T06:29:30.950045Z"
        },
        "trusted": true,
        "colab": {
          "base_uri": "https://localhost:8080/",
          "height": 300
        },
        "id": "gwZT5UL_i4ra",
        "outputId": "1bb99986-0b6a-4eb1-b56d-27e699b2f7cc"
      },
      "execution_count": 159,
      "outputs": [
        {
          "output_type": "execute_result",
          "data": {
            "text/plain": [
              "       PassengerId    Survived      Pclass         Age       SibSp  \\\n",
              "count   891.000000  891.000000  891.000000  714.000000  891.000000   \n",
              "mean    446.000000    0.383838    2.308642   29.699118    0.523008   \n",
              "std     257.353842    0.486592    0.836071   14.526497    1.102743   \n",
              "min       1.000000    0.000000    1.000000    0.420000    0.000000   \n",
              "25%     223.500000    0.000000    2.000000   20.125000    0.000000   \n",
              "50%     446.000000    0.000000    3.000000   28.000000    0.000000   \n",
              "75%     668.500000    1.000000    3.000000   38.000000    1.000000   \n",
              "max     891.000000    1.000000    3.000000   80.000000    8.000000   \n",
              "\n",
              "            Parch        Fare  \n",
              "count  891.000000  891.000000  \n",
              "mean     0.381594   32.204208  \n",
              "std      0.806057   49.693429  \n",
              "min      0.000000    0.000000  \n",
              "25%      0.000000    7.910400  \n",
              "50%      0.000000   14.454200  \n",
              "75%      0.000000   31.000000  \n",
              "max      6.000000  512.329200  "
            ],
            "text/html": [
              "\n",
              "  <div id=\"df-3735b26d-ab2a-49c0-ab96-e7da03bcc053\">\n",
              "    <div class=\"colab-df-container\">\n",
              "      <div>\n",
              "<style scoped>\n",
              "    .dataframe tbody tr th:only-of-type {\n",
              "        vertical-align: middle;\n",
              "    }\n",
              "\n",
              "    .dataframe tbody tr th {\n",
              "        vertical-align: top;\n",
              "    }\n",
              "\n",
              "    .dataframe thead th {\n",
              "        text-align: right;\n",
              "    }\n",
              "</style>\n",
              "<table border=\"1\" class=\"dataframe\">\n",
              "  <thead>\n",
              "    <tr style=\"text-align: right;\">\n",
              "      <th></th>\n",
              "      <th>PassengerId</th>\n",
              "      <th>Survived</th>\n",
              "      <th>Pclass</th>\n",
              "      <th>Age</th>\n",
              "      <th>SibSp</th>\n",
              "      <th>Parch</th>\n",
              "      <th>Fare</th>\n",
              "    </tr>\n",
              "  </thead>\n",
              "  <tbody>\n",
              "    <tr>\n",
              "      <th>count</th>\n",
              "      <td>891.000000</td>\n",
              "      <td>891.000000</td>\n",
              "      <td>891.000000</td>\n",
              "      <td>714.000000</td>\n",
              "      <td>891.000000</td>\n",
              "      <td>891.000000</td>\n",
              "      <td>891.000000</td>\n",
              "    </tr>\n",
              "    <tr>\n",
              "      <th>mean</th>\n",
              "      <td>446.000000</td>\n",
              "      <td>0.383838</td>\n",
              "      <td>2.308642</td>\n",
              "      <td>29.699118</td>\n",
              "      <td>0.523008</td>\n",
              "      <td>0.381594</td>\n",
              "      <td>32.204208</td>\n",
              "    </tr>\n",
              "    <tr>\n",
              "      <th>std</th>\n",
              "      <td>257.353842</td>\n",
              "      <td>0.486592</td>\n",
              "      <td>0.836071</td>\n",
              "      <td>14.526497</td>\n",
              "      <td>1.102743</td>\n",
              "      <td>0.806057</td>\n",
              "      <td>49.693429</td>\n",
              "    </tr>\n",
              "    <tr>\n",
              "      <th>min</th>\n",
              "      <td>1.000000</td>\n",
              "      <td>0.000000</td>\n",
              "      <td>1.000000</td>\n",
              "      <td>0.420000</td>\n",
              "      <td>0.000000</td>\n",
              "      <td>0.000000</td>\n",
              "      <td>0.000000</td>\n",
              "    </tr>\n",
              "    <tr>\n",
              "      <th>25%</th>\n",
              "      <td>223.500000</td>\n",
              "      <td>0.000000</td>\n",
              "      <td>2.000000</td>\n",
              "      <td>20.125000</td>\n",
              "      <td>0.000000</td>\n",
              "      <td>0.000000</td>\n",
              "      <td>7.910400</td>\n",
              "    </tr>\n",
              "    <tr>\n",
              "      <th>50%</th>\n",
              "      <td>446.000000</td>\n",
              "      <td>0.000000</td>\n",
              "      <td>3.000000</td>\n",
              "      <td>28.000000</td>\n",
              "      <td>0.000000</td>\n",
              "      <td>0.000000</td>\n",
              "      <td>14.454200</td>\n",
              "    </tr>\n",
              "    <tr>\n",
              "      <th>75%</th>\n",
              "      <td>668.500000</td>\n",
              "      <td>1.000000</td>\n",
              "      <td>3.000000</td>\n",
              "      <td>38.000000</td>\n",
              "      <td>1.000000</td>\n",
              "      <td>0.000000</td>\n",
              "      <td>31.000000</td>\n",
              "    </tr>\n",
              "    <tr>\n",
              "      <th>max</th>\n",
              "      <td>891.000000</td>\n",
              "      <td>1.000000</td>\n",
              "      <td>3.000000</td>\n",
              "      <td>80.000000</td>\n",
              "      <td>8.000000</td>\n",
              "      <td>6.000000</td>\n",
              "      <td>512.329200</td>\n",
              "    </tr>\n",
              "  </tbody>\n",
              "</table>\n",
              "</div>\n",
              "      <button class=\"colab-df-convert\" onclick=\"convertToInteractive('df-3735b26d-ab2a-49c0-ab96-e7da03bcc053')\"\n",
              "              title=\"Convert this dataframe to an interactive table.\"\n",
              "              style=\"display:none;\">\n",
              "        \n",
              "  <svg xmlns=\"http://www.w3.org/2000/svg\" height=\"24px\"viewBox=\"0 0 24 24\"\n",
              "       width=\"24px\">\n",
              "    <path d=\"M0 0h24v24H0V0z\" fill=\"none\"/>\n",
              "    <path d=\"M18.56 5.44l.94 2.06.94-2.06 2.06-.94-2.06-.94-.94-2.06-.94 2.06-2.06.94zm-11 1L8.5 8.5l.94-2.06 2.06-.94-2.06-.94L8.5 2.5l-.94 2.06-2.06.94zm10 10l.94 2.06.94-2.06 2.06-.94-2.06-.94-.94-2.06-.94 2.06-2.06.94z\"/><path d=\"M17.41 7.96l-1.37-1.37c-.4-.4-.92-.59-1.43-.59-.52 0-1.04.2-1.43.59L10.3 9.45l-7.72 7.72c-.78.78-.78 2.05 0 2.83L4 21.41c.39.39.9.59 1.41.59.51 0 1.02-.2 1.41-.59l7.78-7.78 2.81-2.81c.8-.78.8-2.07 0-2.86zM5.41 20L4 18.59l7.72-7.72 1.47 1.35L5.41 20z\"/>\n",
              "  </svg>\n",
              "      </button>\n",
              "      \n",
              "  <style>\n",
              "    .colab-df-container {\n",
              "      display:flex;\n",
              "      flex-wrap:wrap;\n",
              "      gap: 12px;\n",
              "    }\n",
              "\n",
              "    .colab-df-convert {\n",
              "      background-color: #E8F0FE;\n",
              "      border: none;\n",
              "      border-radius: 50%;\n",
              "      cursor: pointer;\n",
              "      display: none;\n",
              "      fill: #1967D2;\n",
              "      height: 32px;\n",
              "      padding: 0 0 0 0;\n",
              "      width: 32px;\n",
              "    }\n",
              "\n",
              "    .colab-df-convert:hover {\n",
              "      background-color: #E2EBFA;\n",
              "      box-shadow: 0px 1px 2px rgba(60, 64, 67, 0.3), 0px 1px 3px 1px rgba(60, 64, 67, 0.15);\n",
              "      fill: #174EA6;\n",
              "    }\n",
              "\n",
              "    [theme=dark] .colab-df-convert {\n",
              "      background-color: #3B4455;\n",
              "      fill: #D2E3FC;\n",
              "    }\n",
              "\n",
              "    [theme=dark] .colab-df-convert:hover {\n",
              "      background-color: #434B5C;\n",
              "      box-shadow: 0px 1px 3px 1px rgba(0, 0, 0, 0.15);\n",
              "      filter: drop-shadow(0px 1px 2px rgba(0, 0, 0, 0.3));\n",
              "      fill: #FFFFFF;\n",
              "    }\n",
              "  </style>\n",
              "\n",
              "      <script>\n",
              "        const buttonEl =\n",
              "          document.querySelector('#df-3735b26d-ab2a-49c0-ab96-e7da03bcc053 button.colab-df-convert');\n",
              "        buttonEl.style.display =\n",
              "          google.colab.kernel.accessAllowed ? 'block' : 'none';\n",
              "\n",
              "        async function convertToInteractive(key) {\n",
              "          const element = document.querySelector('#df-3735b26d-ab2a-49c0-ab96-e7da03bcc053');\n",
              "          const dataTable =\n",
              "            await google.colab.kernel.invokeFunction('convertToInteractive',\n",
              "                                                     [key], {});\n",
              "          if (!dataTable) return;\n",
              "\n",
              "          const docLinkHtml = 'Like what you see? Visit the ' +\n",
              "            '<a target=\"_blank\" href=https://colab.research.google.com/notebooks/data_table.ipynb>data table notebook</a>'\n",
              "            + ' to learn more about interactive tables.';\n",
              "          element.innerHTML = '';\n",
              "          dataTable['output_type'] = 'display_data';\n",
              "          await google.colab.output.renderOutput(dataTable, element);\n",
              "          const docLink = document.createElement('div');\n",
              "          docLink.innerHTML = docLinkHtml;\n",
              "          element.appendChild(docLink);\n",
              "        }\n",
              "      </script>\n",
              "    </div>\n",
              "  </div>\n",
              "  "
            ]
          },
          "metadata": {},
          "execution_count": 159
        }
      ]
    },
    {
      "cell_type": "code",
      "source": [
        "d=data['Age'].mean()                      # replacing the null values in age column with the mean of the column\n",
        "data['Age']=data['Age'].replace(to_replace=np.nan,value=d)\n"
      ],
      "metadata": {
        "execution": {
          "iopub.status.busy": "2022-09-02T06:29:30.953549Z",
          "iopub.execute_input": "2022-09-02T06:29:30.954266Z",
          "iopub.status.idle": "2022-09-02T06:29:30.961274Z",
          "shell.execute_reply.started": "2022-09-02T06:29:30.954222Z",
          "shell.execute_reply": "2022-09-02T06:29:30.959980Z"
        },
        "trusted": true,
        "id": "TcDMqu6gi4rb"
      },
      "execution_count": 160,
      "outputs": []
    },
    {
      "cell_type": "code",
      "source": [
        "data.head()\n"
      ],
      "metadata": {
        "execution": {
          "iopub.status.busy": "2022-09-02T06:29:30.976125Z",
          "iopub.execute_input": "2022-09-02T06:29:30.976550Z",
          "iopub.status.idle": "2022-09-02T06:29:30.993891Z",
          "shell.execute_reply.started": "2022-09-02T06:29:30.976516Z",
          "shell.execute_reply": "2022-09-02T06:29:30.992634Z"
        },
        "trusted": true,
        "colab": {
          "base_uri": "https://localhost:8080/",
          "height": 206
        },
        "id": "Fv8NjT8xi4rc",
        "outputId": "7dae2d38-c7b2-42d7-e030-4449116e964f"
      },
      "execution_count": 161,
      "outputs": [
        {
          "output_type": "execute_result",
          "data": {
            "text/plain": [
              "   PassengerId  Survived  Pclass  \\\n",
              "0            1         0       3   \n",
              "1            2         1       1   \n",
              "2            3         1       3   \n",
              "3            4         1       1   \n",
              "4            5         0       3   \n",
              "\n",
              "                                                Name     Sex   Age  SibSp  \\\n",
              "0                            Braund, Mr. Owen Harris    male  22.0      1   \n",
              "1  Cumings, Mrs. John Bradley (Florence Briggs Th...  female  38.0      1   \n",
              "2                             Heikkinen, Miss. Laina  female  26.0      0   \n",
              "3       Futrelle, Mrs. Jacques Heath (Lily May Peel)  female  35.0      1   \n",
              "4                           Allen, Mr. William Henry    male  35.0      0   \n",
              "\n",
              "   Parch            Ticket     Fare Cabin Embarked  \n",
              "0      0         A/5 21171   7.2500   NaN        S  \n",
              "1      0          PC 17599  71.2833   C85        C  \n",
              "2      0  STON/O2. 3101282   7.9250   NaN        S  \n",
              "3      0            113803  53.1000  C123        S  \n",
              "4      0            373450   8.0500   NaN        S  "
            ],
            "text/html": [
              "\n",
              "  <div id=\"df-446eda4f-dbbf-4700-b022-24f5e7d4798a\">\n",
              "    <div class=\"colab-df-container\">\n",
              "      <div>\n",
              "<style scoped>\n",
              "    .dataframe tbody tr th:only-of-type {\n",
              "        vertical-align: middle;\n",
              "    }\n",
              "\n",
              "    .dataframe tbody tr th {\n",
              "        vertical-align: top;\n",
              "    }\n",
              "\n",
              "    .dataframe thead th {\n",
              "        text-align: right;\n",
              "    }\n",
              "</style>\n",
              "<table border=\"1\" class=\"dataframe\">\n",
              "  <thead>\n",
              "    <tr style=\"text-align: right;\">\n",
              "      <th></th>\n",
              "      <th>PassengerId</th>\n",
              "      <th>Survived</th>\n",
              "      <th>Pclass</th>\n",
              "      <th>Name</th>\n",
              "      <th>Sex</th>\n",
              "      <th>Age</th>\n",
              "      <th>SibSp</th>\n",
              "      <th>Parch</th>\n",
              "      <th>Ticket</th>\n",
              "      <th>Fare</th>\n",
              "      <th>Cabin</th>\n",
              "      <th>Embarked</th>\n",
              "    </tr>\n",
              "  </thead>\n",
              "  <tbody>\n",
              "    <tr>\n",
              "      <th>0</th>\n",
              "      <td>1</td>\n",
              "      <td>0</td>\n",
              "      <td>3</td>\n",
              "      <td>Braund, Mr. Owen Harris</td>\n",
              "      <td>male</td>\n",
              "      <td>22.0</td>\n",
              "      <td>1</td>\n",
              "      <td>0</td>\n",
              "      <td>A/5 21171</td>\n",
              "      <td>7.2500</td>\n",
              "      <td>NaN</td>\n",
              "      <td>S</td>\n",
              "    </tr>\n",
              "    <tr>\n",
              "      <th>1</th>\n",
              "      <td>2</td>\n",
              "      <td>1</td>\n",
              "      <td>1</td>\n",
              "      <td>Cumings, Mrs. John Bradley (Florence Briggs Th...</td>\n",
              "      <td>female</td>\n",
              "      <td>38.0</td>\n",
              "      <td>1</td>\n",
              "      <td>0</td>\n",
              "      <td>PC 17599</td>\n",
              "      <td>71.2833</td>\n",
              "      <td>C85</td>\n",
              "      <td>C</td>\n",
              "    </tr>\n",
              "    <tr>\n",
              "      <th>2</th>\n",
              "      <td>3</td>\n",
              "      <td>1</td>\n",
              "      <td>3</td>\n",
              "      <td>Heikkinen, Miss. Laina</td>\n",
              "      <td>female</td>\n",
              "      <td>26.0</td>\n",
              "      <td>0</td>\n",
              "      <td>0</td>\n",
              "      <td>STON/O2. 3101282</td>\n",
              "      <td>7.9250</td>\n",
              "      <td>NaN</td>\n",
              "      <td>S</td>\n",
              "    </tr>\n",
              "    <tr>\n",
              "      <th>3</th>\n",
              "      <td>4</td>\n",
              "      <td>1</td>\n",
              "      <td>1</td>\n",
              "      <td>Futrelle, Mrs. Jacques Heath (Lily May Peel)</td>\n",
              "      <td>female</td>\n",
              "      <td>35.0</td>\n",
              "      <td>1</td>\n",
              "      <td>0</td>\n",
              "      <td>113803</td>\n",
              "      <td>53.1000</td>\n",
              "      <td>C123</td>\n",
              "      <td>S</td>\n",
              "    </tr>\n",
              "    <tr>\n",
              "      <th>4</th>\n",
              "      <td>5</td>\n",
              "      <td>0</td>\n",
              "      <td>3</td>\n",
              "      <td>Allen, Mr. William Henry</td>\n",
              "      <td>male</td>\n",
              "      <td>35.0</td>\n",
              "      <td>0</td>\n",
              "      <td>0</td>\n",
              "      <td>373450</td>\n",
              "      <td>8.0500</td>\n",
              "      <td>NaN</td>\n",
              "      <td>S</td>\n",
              "    </tr>\n",
              "  </tbody>\n",
              "</table>\n",
              "</div>\n",
              "      <button class=\"colab-df-convert\" onclick=\"convertToInteractive('df-446eda4f-dbbf-4700-b022-24f5e7d4798a')\"\n",
              "              title=\"Convert this dataframe to an interactive table.\"\n",
              "              style=\"display:none;\">\n",
              "        \n",
              "  <svg xmlns=\"http://www.w3.org/2000/svg\" height=\"24px\"viewBox=\"0 0 24 24\"\n",
              "       width=\"24px\">\n",
              "    <path d=\"M0 0h24v24H0V0z\" fill=\"none\"/>\n",
              "    <path d=\"M18.56 5.44l.94 2.06.94-2.06 2.06-.94-2.06-.94-.94-2.06-.94 2.06-2.06.94zm-11 1L8.5 8.5l.94-2.06 2.06-.94-2.06-.94L8.5 2.5l-.94 2.06-2.06.94zm10 10l.94 2.06.94-2.06 2.06-.94-2.06-.94-.94-2.06-.94 2.06-2.06.94z\"/><path d=\"M17.41 7.96l-1.37-1.37c-.4-.4-.92-.59-1.43-.59-.52 0-1.04.2-1.43.59L10.3 9.45l-7.72 7.72c-.78.78-.78 2.05 0 2.83L4 21.41c.39.39.9.59 1.41.59.51 0 1.02-.2 1.41-.59l7.78-7.78 2.81-2.81c.8-.78.8-2.07 0-2.86zM5.41 20L4 18.59l7.72-7.72 1.47 1.35L5.41 20z\"/>\n",
              "  </svg>\n",
              "      </button>\n",
              "      \n",
              "  <style>\n",
              "    .colab-df-container {\n",
              "      display:flex;\n",
              "      flex-wrap:wrap;\n",
              "      gap: 12px;\n",
              "    }\n",
              "\n",
              "    .colab-df-convert {\n",
              "      background-color: #E8F0FE;\n",
              "      border: none;\n",
              "      border-radius: 50%;\n",
              "      cursor: pointer;\n",
              "      display: none;\n",
              "      fill: #1967D2;\n",
              "      height: 32px;\n",
              "      padding: 0 0 0 0;\n",
              "      width: 32px;\n",
              "    }\n",
              "\n",
              "    .colab-df-convert:hover {\n",
              "      background-color: #E2EBFA;\n",
              "      box-shadow: 0px 1px 2px rgba(60, 64, 67, 0.3), 0px 1px 3px 1px rgba(60, 64, 67, 0.15);\n",
              "      fill: #174EA6;\n",
              "    }\n",
              "\n",
              "    [theme=dark] .colab-df-convert {\n",
              "      background-color: #3B4455;\n",
              "      fill: #D2E3FC;\n",
              "    }\n",
              "\n",
              "    [theme=dark] .colab-df-convert:hover {\n",
              "      background-color: #434B5C;\n",
              "      box-shadow: 0px 1px 3px 1px rgba(0, 0, 0, 0.15);\n",
              "      filter: drop-shadow(0px 1px 2px rgba(0, 0, 0, 0.3));\n",
              "      fill: #FFFFFF;\n",
              "    }\n",
              "  </style>\n",
              "\n",
              "      <script>\n",
              "        const buttonEl =\n",
              "          document.querySelector('#df-446eda4f-dbbf-4700-b022-24f5e7d4798a button.colab-df-convert');\n",
              "        buttonEl.style.display =\n",
              "          google.colab.kernel.accessAllowed ? 'block' : 'none';\n",
              "\n",
              "        async function convertToInteractive(key) {\n",
              "          const element = document.querySelector('#df-446eda4f-dbbf-4700-b022-24f5e7d4798a');\n",
              "          const dataTable =\n",
              "            await google.colab.kernel.invokeFunction('convertToInteractive',\n",
              "                                                     [key], {});\n",
              "          if (!dataTable) return;\n",
              "\n",
              "          const docLinkHtml = 'Like what you see? Visit the ' +\n",
              "            '<a target=\"_blank\" href=https://colab.research.google.com/notebooks/data_table.ipynb>data table notebook</a>'\n",
              "            + ' to learn more about interactive tables.';\n",
              "          element.innerHTML = '';\n",
              "          dataTable['output_type'] = 'display_data';\n",
              "          await google.colab.output.renderOutput(dataTable, element);\n",
              "          const docLink = document.createElement('div');\n",
              "          docLink.innerHTML = docLinkHtml;\n",
              "          element.appendChild(docLink);\n",
              "        }\n",
              "      </script>\n",
              "    </div>\n",
              "  </div>\n",
              "  "
            ]
          },
          "metadata": {},
          "execution_count": 161
        }
      ]
    },
    {
      "cell_type": "code",
      "source": [
        "data.isna().sum()    # again checking for null values"
      ],
      "metadata": {
        "execution": {
          "iopub.status.busy": "2022-09-02T06:29:31.021347Z",
          "iopub.execute_input": "2022-09-02T06:29:31.021745Z",
          "iopub.status.idle": "2022-09-02T06:29:31.033768Z",
          "shell.execute_reply.started": "2022-09-02T06:29:31.021714Z",
          "shell.execute_reply": "2022-09-02T06:29:31.032439Z"
        },
        "trusted": true,
        "colab": {
          "base_uri": "https://localhost:8080/"
        },
        "id": "nqVkrpHfi4rc",
        "outputId": "18bb4ed3-82bb-4556-f8f4-af7e8b7b06db"
      },
      "execution_count": 162,
      "outputs": [
        {
          "output_type": "execute_result",
          "data": {
            "text/plain": [
              "PassengerId      0\n",
              "Survived         0\n",
              "Pclass           0\n",
              "Name             0\n",
              "Sex              0\n",
              "Age              0\n",
              "SibSp            0\n",
              "Parch            0\n",
              "Ticket           0\n",
              "Fare             0\n",
              "Cabin          687\n",
              "Embarked         2\n",
              "dtype: int64"
            ]
          },
          "metadata": {},
          "execution_count": 162
        }
      ]
    },
    {
      "cell_type": "code",
      "source": [
        "data=data.drop(['Cabin'],axis=1)       #dropping the cabin column as it has 687 null values\n"
      ],
      "metadata": {
        "execution": {
          "iopub.status.busy": "2022-09-02T06:29:31.036110Z",
          "iopub.execute_input": "2022-09-02T06:29:31.036701Z",
          "iopub.status.idle": "2022-09-02T06:29:31.043938Z",
          "shell.execute_reply.started": "2022-09-02T06:29:31.036659Z",
          "shell.execute_reply": "2022-09-02T06:29:31.042720Z"
        },
        "trusted": true,
        "id": "TfU83BOZi4rd"
      },
      "execution_count": 163,
      "outputs": []
    },
    {
      "cell_type": "code",
      "source": [
        "data.shape     # checking the shape of data"
      ],
      "metadata": {
        "execution": {
          "iopub.status.busy": "2022-09-02T06:29:31.046060Z",
          "iopub.execute_input": "2022-09-02T06:29:31.046929Z",
          "iopub.status.idle": "2022-09-02T06:29:31.057182Z",
          "shell.execute_reply.started": "2022-09-02T06:29:31.046766Z",
          "shell.execute_reply": "2022-09-02T06:29:31.055882Z"
        },
        "trusted": true,
        "colab": {
          "base_uri": "https://localhost:8080/"
        },
        "id": "2bmgYg-Ni4re",
        "outputId": "c9699ca9-6657-4227-b6b7-8530cb10ba95"
      },
      "execution_count": 164,
      "outputs": [
        {
          "output_type": "execute_result",
          "data": {
            "text/plain": [
              "(891, 11)"
            ]
          },
          "metadata": {},
          "execution_count": 164
        }
      ]
    },
    {
      "cell_type": "code",
      "source": [
        "data.isna().sum()       "
      ],
      "metadata": {
        "execution": {
          "iopub.status.busy": "2022-09-02T06:29:31.062756Z",
          "iopub.execute_input": "2022-09-02T06:29:31.063387Z",
          "iopub.status.idle": "2022-09-02T06:29:31.075389Z",
          "shell.execute_reply.started": "2022-09-02T06:29:31.063350Z",
          "shell.execute_reply": "2022-09-02T06:29:31.074224Z"
        },
        "trusted": true,
        "colab": {
          "base_uri": "https://localhost:8080/"
        },
        "id": "Oit5-IMfi4rf",
        "outputId": "20d78ae3-9bf5-4e78-f5e3-bffd8e2ea744"
      },
      "execution_count": 165,
      "outputs": [
        {
          "output_type": "execute_result",
          "data": {
            "text/plain": [
              "PassengerId    0\n",
              "Survived       0\n",
              "Pclass         0\n",
              "Name           0\n",
              "Sex            0\n",
              "Age            0\n",
              "SibSp          0\n",
              "Parch          0\n",
              "Ticket         0\n",
              "Fare           0\n",
              "Embarked       2\n",
              "dtype: int64"
            ]
          },
          "metadata": {},
          "execution_count": 165
        }
      ]
    },
    {
      "cell_type": "code",
      "source": [
        "data=data.dropna(subset=['Embarked'])   # dropping the rows where embarked column value is null"
      ],
      "metadata": {
        "execution": {
          "iopub.status.busy": "2022-09-02T06:29:31.077525Z",
          "iopub.execute_input": "2022-09-02T06:29:31.078653Z",
          "iopub.status.idle": "2022-09-02T06:29:31.086819Z",
          "shell.execute_reply.started": "2022-09-02T06:29:31.078594Z",
          "shell.execute_reply": "2022-09-02T06:29:31.085573Z"
        },
        "trusted": true,
        "id": "aq3fLfmbi4rg"
      },
      "execution_count": 166,
      "outputs": []
    },
    {
      "cell_type": "code",
      "source": [
        "data.isna().sum()      "
      ],
      "metadata": {
        "execution": {
          "iopub.status.busy": "2022-09-02T06:29:31.095209Z",
          "iopub.execute_input": "2022-09-02T06:29:31.095635Z",
          "iopub.status.idle": "2022-09-02T06:29:31.105271Z",
          "shell.execute_reply.started": "2022-09-02T06:29:31.095598Z",
          "shell.execute_reply": "2022-09-02T06:29:31.104498Z"
        },
        "trusted": true,
        "colab": {
          "base_uri": "https://localhost:8080/"
        },
        "id": "JICGKQvmi4rg",
        "outputId": "774ab326-9070-404d-f5b6-9d02aca8adfd"
      },
      "execution_count": 167,
      "outputs": [
        {
          "output_type": "execute_result",
          "data": {
            "text/plain": [
              "PassengerId    0\n",
              "Survived       0\n",
              "Pclass         0\n",
              "Name           0\n",
              "Sex            0\n",
              "Age            0\n",
              "SibSp          0\n",
              "Parch          0\n",
              "Ticket         0\n",
              "Fare           0\n",
              "Embarked       0\n",
              "dtype: int64"
            ]
          },
          "metadata": {},
          "execution_count": 167
        }
      ]
    },
    {
      "cell_type": "code",
      "source": [
        "data.shape"
      ],
      "metadata": {
        "execution": {
          "iopub.status.busy": "2022-09-02T06:29:31.110091Z",
          "iopub.execute_input": "2022-09-02T06:29:31.110849Z",
          "iopub.status.idle": "2022-09-02T06:29:31.119841Z",
          "shell.execute_reply.started": "2022-09-02T06:29:31.110811Z",
          "shell.execute_reply": "2022-09-02T06:29:31.118648Z"
        },
        "trusted": true,
        "colab": {
          "base_uri": "https://localhost:8080/"
        },
        "id": "2-xYPn80i4rh",
        "outputId": "c3f054e7-25e1-4c3c-9fec-e594593588f5"
      },
      "execution_count": 168,
      "outputs": [
        {
          "output_type": "execute_result",
          "data": {
            "text/plain": [
              "(889, 11)"
            ]
          },
          "metadata": {},
          "execution_count": 168
        }
      ]
    },
    {
      "cell_type": "code",
      "source": [
        "data.head()"
      ],
      "metadata": {
        "execution": {
          "iopub.status.busy": "2022-09-02T06:29:31.124799Z",
          "iopub.execute_input": "2022-09-02T06:29:31.125684Z",
          "iopub.status.idle": "2022-09-02T06:29:31.145901Z",
          "shell.execute_reply.started": "2022-09-02T06:29:31.125642Z",
          "shell.execute_reply": "2022-09-02T06:29:31.144660Z"
        },
        "trusted": true,
        "colab": {
          "base_uri": "https://localhost:8080/",
          "height": 206
        },
        "id": "yS06dQWri4rh",
        "outputId": "0daf11fc-23f6-4b87-d8ae-069ccf1442ef"
      },
      "execution_count": 169,
      "outputs": [
        {
          "output_type": "execute_result",
          "data": {
            "text/plain": [
              "   PassengerId  Survived  Pclass  \\\n",
              "0            1         0       3   \n",
              "1            2         1       1   \n",
              "2            3         1       3   \n",
              "3            4         1       1   \n",
              "4            5         0       3   \n",
              "\n",
              "                                                Name     Sex   Age  SibSp  \\\n",
              "0                            Braund, Mr. Owen Harris    male  22.0      1   \n",
              "1  Cumings, Mrs. John Bradley (Florence Briggs Th...  female  38.0      1   \n",
              "2                             Heikkinen, Miss. Laina  female  26.0      0   \n",
              "3       Futrelle, Mrs. Jacques Heath (Lily May Peel)  female  35.0      1   \n",
              "4                           Allen, Mr. William Henry    male  35.0      0   \n",
              "\n",
              "   Parch            Ticket     Fare Embarked  \n",
              "0      0         A/5 21171   7.2500        S  \n",
              "1      0          PC 17599  71.2833        C  \n",
              "2      0  STON/O2. 3101282   7.9250        S  \n",
              "3      0            113803  53.1000        S  \n",
              "4      0            373450   8.0500        S  "
            ],
            "text/html": [
              "\n",
              "  <div id=\"df-48b0ae26-f066-43db-b6d4-e858b5515d3b\">\n",
              "    <div class=\"colab-df-container\">\n",
              "      <div>\n",
              "<style scoped>\n",
              "    .dataframe tbody tr th:only-of-type {\n",
              "        vertical-align: middle;\n",
              "    }\n",
              "\n",
              "    .dataframe tbody tr th {\n",
              "        vertical-align: top;\n",
              "    }\n",
              "\n",
              "    .dataframe thead th {\n",
              "        text-align: right;\n",
              "    }\n",
              "</style>\n",
              "<table border=\"1\" class=\"dataframe\">\n",
              "  <thead>\n",
              "    <tr style=\"text-align: right;\">\n",
              "      <th></th>\n",
              "      <th>PassengerId</th>\n",
              "      <th>Survived</th>\n",
              "      <th>Pclass</th>\n",
              "      <th>Name</th>\n",
              "      <th>Sex</th>\n",
              "      <th>Age</th>\n",
              "      <th>SibSp</th>\n",
              "      <th>Parch</th>\n",
              "      <th>Ticket</th>\n",
              "      <th>Fare</th>\n",
              "      <th>Embarked</th>\n",
              "    </tr>\n",
              "  </thead>\n",
              "  <tbody>\n",
              "    <tr>\n",
              "      <th>0</th>\n",
              "      <td>1</td>\n",
              "      <td>0</td>\n",
              "      <td>3</td>\n",
              "      <td>Braund, Mr. Owen Harris</td>\n",
              "      <td>male</td>\n",
              "      <td>22.0</td>\n",
              "      <td>1</td>\n",
              "      <td>0</td>\n",
              "      <td>A/5 21171</td>\n",
              "      <td>7.2500</td>\n",
              "      <td>S</td>\n",
              "    </tr>\n",
              "    <tr>\n",
              "      <th>1</th>\n",
              "      <td>2</td>\n",
              "      <td>1</td>\n",
              "      <td>1</td>\n",
              "      <td>Cumings, Mrs. John Bradley (Florence Briggs Th...</td>\n",
              "      <td>female</td>\n",
              "      <td>38.0</td>\n",
              "      <td>1</td>\n",
              "      <td>0</td>\n",
              "      <td>PC 17599</td>\n",
              "      <td>71.2833</td>\n",
              "      <td>C</td>\n",
              "    </tr>\n",
              "    <tr>\n",
              "      <th>2</th>\n",
              "      <td>3</td>\n",
              "      <td>1</td>\n",
              "      <td>3</td>\n",
              "      <td>Heikkinen, Miss. Laina</td>\n",
              "      <td>female</td>\n",
              "      <td>26.0</td>\n",
              "      <td>0</td>\n",
              "      <td>0</td>\n",
              "      <td>STON/O2. 3101282</td>\n",
              "      <td>7.9250</td>\n",
              "      <td>S</td>\n",
              "    </tr>\n",
              "    <tr>\n",
              "      <th>3</th>\n",
              "      <td>4</td>\n",
              "      <td>1</td>\n",
              "      <td>1</td>\n",
              "      <td>Futrelle, Mrs. Jacques Heath (Lily May Peel)</td>\n",
              "      <td>female</td>\n",
              "      <td>35.0</td>\n",
              "      <td>1</td>\n",
              "      <td>0</td>\n",
              "      <td>113803</td>\n",
              "      <td>53.1000</td>\n",
              "      <td>S</td>\n",
              "    </tr>\n",
              "    <tr>\n",
              "      <th>4</th>\n",
              "      <td>5</td>\n",
              "      <td>0</td>\n",
              "      <td>3</td>\n",
              "      <td>Allen, Mr. William Henry</td>\n",
              "      <td>male</td>\n",
              "      <td>35.0</td>\n",
              "      <td>0</td>\n",
              "      <td>0</td>\n",
              "      <td>373450</td>\n",
              "      <td>8.0500</td>\n",
              "      <td>S</td>\n",
              "    </tr>\n",
              "  </tbody>\n",
              "</table>\n",
              "</div>\n",
              "      <button class=\"colab-df-convert\" onclick=\"convertToInteractive('df-48b0ae26-f066-43db-b6d4-e858b5515d3b')\"\n",
              "              title=\"Convert this dataframe to an interactive table.\"\n",
              "              style=\"display:none;\">\n",
              "        \n",
              "  <svg xmlns=\"http://www.w3.org/2000/svg\" height=\"24px\"viewBox=\"0 0 24 24\"\n",
              "       width=\"24px\">\n",
              "    <path d=\"M0 0h24v24H0V0z\" fill=\"none\"/>\n",
              "    <path d=\"M18.56 5.44l.94 2.06.94-2.06 2.06-.94-2.06-.94-.94-2.06-.94 2.06-2.06.94zm-11 1L8.5 8.5l.94-2.06 2.06-.94-2.06-.94L8.5 2.5l-.94 2.06-2.06.94zm10 10l.94 2.06.94-2.06 2.06-.94-2.06-.94-.94-2.06-.94 2.06-2.06.94z\"/><path d=\"M17.41 7.96l-1.37-1.37c-.4-.4-.92-.59-1.43-.59-.52 0-1.04.2-1.43.59L10.3 9.45l-7.72 7.72c-.78.78-.78 2.05 0 2.83L4 21.41c.39.39.9.59 1.41.59.51 0 1.02-.2 1.41-.59l7.78-7.78 2.81-2.81c.8-.78.8-2.07 0-2.86zM5.41 20L4 18.59l7.72-7.72 1.47 1.35L5.41 20z\"/>\n",
              "  </svg>\n",
              "      </button>\n",
              "      \n",
              "  <style>\n",
              "    .colab-df-container {\n",
              "      display:flex;\n",
              "      flex-wrap:wrap;\n",
              "      gap: 12px;\n",
              "    }\n",
              "\n",
              "    .colab-df-convert {\n",
              "      background-color: #E8F0FE;\n",
              "      border: none;\n",
              "      border-radius: 50%;\n",
              "      cursor: pointer;\n",
              "      display: none;\n",
              "      fill: #1967D2;\n",
              "      height: 32px;\n",
              "      padding: 0 0 0 0;\n",
              "      width: 32px;\n",
              "    }\n",
              "\n",
              "    .colab-df-convert:hover {\n",
              "      background-color: #E2EBFA;\n",
              "      box-shadow: 0px 1px 2px rgba(60, 64, 67, 0.3), 0px 1px 3px 1px rgba(60, 64, 67, 0.15);\n",
              "      fill: #174EA6;\n",
              "    }\n",
              "\n",
              "    [theme=dark] .colab-df-convert {\n",
              "      background-color: #3B4455;\n",
              "      fill: #D2E3FC;\n",
              "    }\n",
              "\n",
              "    [theme=dark] .colab-df-convert:hover {\n",
              "      background-color: #434B5C;\n",
              "      box-shadow: 0px 1px 3px 1px rgba(0, 0, 0, 0.15);\n",
              "      filter: drop-shadow(0px 1px 2px rgba(0, 0, 0, 0.3));\n",
              "      fill: #FFFFFF;\n",
              "    }\n",
              "  </style>\n",
              "\n",
              "      <script>\n",
              "        const buttonEl =\n",
              "          document.querySelector('#df-48b0ae26-f066-43db-b6d4-e858b5515d3b button.colab-df-convert');\n",
              "        buttonEl.style.display =\n",
              "          google.colab.kernel.accessAllowed ? 'block' : 'none';\n",
              "\n",
              "        async function convertToInteractive(key) {\n",
              "          const element = document.querySelector('#df-48b0ae26-f066-43db-b6d4-e858b5515d3b');\n",
              "          const dataTable =\n",
              "            await google.colab.kernel.invokeFunction('convertToInteractive',\n",
              "                                                     [key], {});\n",
              "          if (!dataTable) return;\n",
              "\n",
              "          const docLinkHtml = 'Like what you see? Visit the ' +\n",
              "            '<a target=\"_blank\" href=https://colab.research.google.com/notebooks/data_table.ipynb>data table notebook</a>'\n",
              "            + ' to learn more about interactive tables.';\n",
              "          element.innerHTML = '';\n",
              "          dataTable['output_type'] = 'display_data';\n",
              "          await google.colab.output.renderOutput(dataTable, element);\n",
              "          const docLink = document.createElement('div');\n",
              "          docLink.innerHTML = docLinkHtml;\n",
              "          element.appendChild(docLink);\n",
              "        }\n",
              "      </script>\n",
              "    </div>\n",
              "  </div>\n",
              "  "
            ]
          },
          "metadata": {},
          "execution_count": 169
        }
      ]
    },
    {
      "cell_type": "code",
      "source": [
        "data['Ticket'].unique()"
      ],
      "metadata": {
        "execution": {
          "iopub.status.busy": "2022-09-02T06:29:31.148128Z",
          "iopub.execute_input": "2022-09-02T06:29:31.148523Z",
          "iopub.status.idle": "2022-09-02T06:29:31.158002Z",
          "shell.execute_reply.started": "2022-09-02T06:29:31.148488Z",
          "shell.execute_reply": "2022-09-02T06:29:31.157149Z"
        },
        "trusted": true,
        "colab": {
          "base_uri": "https://localhost:8080/"
        },
        "id": "x7zEf_-ti4ri",
        "outputId": "6f711e61-9d0f-4a59-e95f-efc190fdbae4"
      },
      "execution_count": 170,
      "outputs": [
        {
          "output_type": "execute_result",
          "data": {
            "text/plain": [
              "array(['A/5 21171', 'PC 17599', 'STON/O2. 3101282', '113803', '373450',\n",
              "       '330877', '17463', '349909', '347742', '237736', 'PP 9549',\n",
              "       '113783', 'A/5. 2151', '347082', '350406', '248706', '382652',\n",
              "       '244373', '345763', '2649', '239865', '248698', '330923', '113788',\n",
              "       '347077', '2631', '19950', '330959', '349216', 'PC 17601',\n",
              "       'PC 17569', '335677', 'C.A. 24579', 'PC 17604', '113789', '2677',\n",
              "       'A./5. 2152', '345764', '2651', '7546', '11668', '349253',\n",
              "       'SC/Paris 2123', '330958', 'S.C./A.4. 23567', '370371', '14311',\n",
              "       '2662', '349237', '3101295', 'A/4. 39886', 'PC 17572', '2926',\n",
              "       '113509', '19947', 'C.A. 31026', '2697', 'C.A. 34651', 'CA 2144',\n",
              "       '2669', '36973', '347088', 'PC 17605', '2661', 'C.A. 29395',\n",
              "       'S.P. 3464', '3101281', '315151', 'C.A. 33111', 'S.O.C. 14879',\n",
              "       '2680', '1601', '348123', '349208', '374746', '248738', '364516',\n",
              "       '345767', '345779', '330932', '113059', 'SO/C 14885', '3101278',\n",
              "       'W./C. 6608', 'SOTON/OQ 392086', '343275', '343276', '347466',\n",
              "       'W.E.P. 5734', 'C.A. 2315', '364500', '374910', 'PC 17754',\n",
              "       'PC 17759', '231919', '244367', '349245', '349215', '35281',\n",
              "       '7540', '3101276', '349207', '343120', '312991', '349249',\n",
              "       '371110', '110465', '2665', '324669', '4136', '2627',\n",
              "       'STON/O 2. 3101294', '370369', 'PC 17558', 'A4. 54510', '27267',\n",
              "       '370372', 'C 17369', '2668', '347061', '349241',\n",
              "       'SOTON/O.Q. 3101307', 'A/5. 3337', '228414', 'C.A. 29178',\n",
              "       'SC/PARIS 2133', '11752', '7534', 'PC 17593', '2678', '347081',\n",
              "       'STON/O2. 3101279', '365222', '231945', 'C.A. 33112', '350043',\n",
              "       '230080', '244310', 'S.O.P. 1166', '113776', 'A.5. 11206',\n",
              "       'A/5. 851', 'Fa 265302', 'PC 17597', '35851', 'SOTON/OQ 392090',\n",
              "       '315037', 'CA. 2343', '371362', 'C.A. 33595', '347068', '315093',\n",
              "       '363291', '113505', 'PC 17318', '111240', 'STON/O 2. 3101280',\n",
              "       '17764', '350404', '4133', 'PC 17595', '250653', 'LINE',\n",
              "       'SC/PARIS 2131', '230136', '315153', '113767', '370365', '111428',\n",
              "       '364849', '349247', '234604', '28424', '350046', 'PC 17610',\n",
              "       '368703', '4579', '370370', '248747', '345770', '3101264', '2628',\n",
              "       'A/5 3540', '347054', '2699', '367231', '112277',\n",
              "       'SOTON/O.Q. 3101311', 'F.C.C. 13528', 'A/5 21174', '250646',\n",
              "       '367229', '35273', 'STON/O2. 3101283', '243847', '11813',\n",
              "       'W/C 14208', 'SOTON/OQ 392089', '220367', '21440', '349234',\n",
              "       '19943', 'PP 4348', 'SW/PP 751', 'A/5 21173', '236171', '347067',\n",
              "       '237442', 'C.A. 29566', 'W./C. 6609', '26707', 'C.A. 31921',\n",
              "       '28665', 'SCO/W 1585', '367230', 'W./C. 14263',\n",
              "       'STON/O 2. 3101275', '2694', '19928', '347071', '250649', '11751',\n",
              "       '244252', '362316', '113514', 'A/5. 3336', '370129', '2650',\n",
              "       'PC 17585', '110152', 'PC 17755', '230433', '384461', '110413',\n",
              "       '112059', '382649', 'C.A. 17248', '347083', 'PC 17582', 'PC 17760',\n",
              "       '113798', '250644', 'PC 17596', '370375', '13502', '347073',\n",
              "       '239853', 'C.A. 2673', '336439', '347464', '345778', 'A/5. 10482',\n",
              "       '113056', '349239', '345774', '349206', '237798', '370373',\n",
              "       '19877', '11967', 'SC/Paris 2163', '349236', '349233', 'PC 17612',\n",
              "       '2693', '113781', '19988', '9234', '367226', '226593', 'A/5 2466',\n",
              "       '17421', 'PC 17758', 'P/PP 3381', 'PC 17485', '11767', 'PC 17608',\n",
              "       '250651', '349243', 'F.C.C. 13529', '347470', '29011', '36928',\n",
              "       '16966', 'A/5 21172', '349219', '234818', '345364', '28551',\n",
              "       '111361', '113043', 'PC 17611', '349225', '7598', '113784',\n",
              "       '248740', '244361', '229236', '248733', '31418', '386525',\n",
              "       'C.A. 37671', '315088', '7267', '113510', '2695', '2647', '345783',\n",
              "       '237671', '330931', '330980', 'SC/PARIS 2167', '2691',\n",
              "       'SOTON/O.Q. 3101310', 'C 7076', '110813', '2626', '14313',\n",
              "       'PC 17477', '11765', '3101267', '323951', 'C 7077', '113503',\n",
              "       '2648', '347069', 'PC 17757', '2653', 'STON/O 2. 3101293',\n",
              "       '349227', '27849', '367655', 'SC 1748', '113760', '350034',\n",
              "       '3101277', '350052', '350407', '28403', '244278', '240929',\n",
              "       'STON/O 2. 3101289', '341826', '4137', '315096', '28664', '347064',\n",
              "       '29106', '312992', '349222', '394140', 'STON/O 2. 3101269',\n",
              "       '343095', '28220', '250652', '28228', '345773', '349254',\n",
              "       'A/5. 13032', '315082', '347080', 'A/4. 34244', '2003', '250655',\n",
              "       '364851', 'SOTON/O.Q. 392078', '110564', '376564', 'SC/AH 3085',\n",
              "       'STON/O 2. 3101274', '13507', 'C.A. 18723', '345769', '347076',\n",
              "       '230434', '65306', '33638', '113794', '2666', '113786', '65303',\n",
              "       '113051', '17453', 'A/5 2817', '349240', '13509', '17464',\n",
              "       'F.C.C. 13531', '371060', '19952', '364506', '111320', '234360',\n",
              "       'A/S 2816', 'SOTON/O.Q. 3101306', '113792', '36209', '323592',\n",
              "       '315089', 'SC/AH Basle 541', '7553', '31027', '3460', '350060',\n",
              "       '3101298', '239854', 'A/5 3594', '4134', '11771', 'A.5. 18509',\n",
              "       '65304', 'SOTON/OQ 3101317', '113787', 'PC 17609', 'A/4 45380',\n",
              "       '36947', 'C.A. 6212', '350035', '315086', '364846', '330909',\n",
              "       '4135', '26360', '111427', 'C 4001', '382651', 'SOTON/OQ 3101316',\n",
              "       'PC 17473', 'PC 17603', '349209', '36967', 'C.A. 34260', '226875',\n",
              "       '349242', '12749', '349252', '2624', '2700', '367232',\n",
              "       'W./C. 14258', 'PC 17483', '3101296', '29104', '2641', '2690',\n",
              "       '315084', '113050', 'PC 17761', '364498', '13568', 'WE/P 5735',\n",
              "       '2908', '693', 'SC/PARIS 2146', '244358', '330979', '2620',\n",
              "       '347085', '113807', '11755', '345572', '372622', '349251',\n",
              "       '218629', 'SOTON/OQ 392082', 'SOTON/O.Q. 392087', 'A/4 48871',\n",
              "       '349205', '2686', '350417', 'S.W./PP 752', '11769', 'PC 17474',\n",
              "       '14312', 'A/4. 20589', '358585', '243880', '2689',\n",
              "       'STON/O 2. 3101286', '237789', '13049', '3411', '237565', '13567',\n",
              "       '14973', 'A./5. 3235', 'STON/O 2. 3101273', 'A/5 3902', '364848',\n",
              "       'SC/AH 29037', '248727', '2664', '349214', '113796', '364511',\n",
              "       '111426', '349910', '349246', '113804', 'SOTON/O.Q. 3101305',\n",
              "       '370377', '364512', '220845', '31028', '2659', '11753', '350029',\n",
              "       '54636', '36963', '219533', '349224', '334912', '27042', '347743',\n",
              "       '13214', '112052', '237668', 'STON/O 2. 3101292', '350050',\n",
              "       '349231', '13213', 'S.O./P.P. 751', 'CA. 2314', '349221', '8475',\n",
              "       '330919', '365226', '349223', '29751', '2623', '5727', '349210',\n",
              "       'STON/O 2. 3101285', '234686', '312993', 'A/5 3536', '19996',\n",
              "       '29750', 'F.C. 12750', 'C.A. 24580', '244270', '239856', '349912',\n",
              "       '342826', '4138', '330935', '6563', '349228', '350036', '24160',\n",
              "       '17474', '349256', '2672', '113800', '248731', '363592', '35852',\n",
              "       '348121', 'PC 17475', '36864', '350025', '223596', 'PC 17476',\n",
              "       'PC 17482', '113028', '7545', '250647', '348124', '34218', '36568',\n",
              "       '347062', '350048', '12233', '250643', '113806', '315094', '36866',\n",
              "       '236853', 'STON/O2. 3101271', '239855', '28425', '233639',\n",
              "       '349201', '349218', '16988', '376566', 'STON/O 2. 3101288',\n",
              "       '250648', '113773', '335097', '29103', '392096', '345780',\n",
              "       '349204', '350042', '29108', '363294', 'SOTON/O2 3101272', '2663',\n",
              "       '347074', '112379', '364850', '8471', '345781', '350047',\n",
              "       'S.O./P.P. 3', '2674', '29105', '347078', '383121', '36865',\n",
              "       '2687', '113501', 'W./C. 6607', 'SOTON/O.Q. 3101312', '374887',\n",
              "       '3101265', '12460', 'PC 17600', '349203', '28213', '17465',\n",
              "       '349244', '2685', '2625', '347089', '347063', '112050', '347087',\n",
              "       '248723', '3474', '28206', '364499', '112058', 'STON/O2. 3101290',\n",
              "       'S.C./PARIS 2079', 'C 7075', '315098', '19972', '368323', '367228',\n",
              "       '2671', '347468', '2223', 'PC 17756', '315097', '392092', '11774',\n",
              "       'SOTON/O2 3101287', '2683', '315090', 'C.A. 5547', '349213',\n",
              "       '347060', 'PC 17592', '392091', '113055', '2629', '350026',\n",
              "       '28134', '17466', '233866', '236852', 'SC/PARIS 2149', 'PC 17590',\n",
              "       '345777', '349248', '695', '345765', '2667', '349212', '349217',\n",
              "       '349257', '7552', 'C.A./SOTON 34068', 'SOTON/OQ 392076', '211536',\n",
              "       '112053', '111369', '370376'], dtype=object)"
            ]
          },
          "metadata": {},
          "execution_count": 170
        }
      ]
    },
    {
      "cell_type": "code",
      "source": [
        "data=data.drop(['Name','PassengerId','Ticket'],axis=1)        # dropping the columns which are not useful"
      ],
      "metadata": {
        "execution": {
          "iopub.status.busy": "2022-09-02T06:29:31.199732Z",
          "iopub.execute_input": "2022-09-02T06:29:31.200839Z",
          "iopub.status.idle": "2022-09-02T06:29:31.207978Z",
          "shell.execute_reply.started": "2022-09-02T06:29:31.200790Z",
          "shell.execute_reply": "2022-09-02T06:29:31.206882Z"
        },
        "trusted": true,
        "id": "lsLrGkkei4rj"
      },
      "execution_count": 171,
      "outputs": []
    },
    {
      "cell_type": "markdown",
      "source": [
        "label encoding of categorical data"
      ],
      "metadata": {
        "id": "pviXYNx7i4rj"
      }
    },
    {
      "cell_type": "code",
      "source": [
        "from sklearn.preprocessing import LabelEncoder          # label encoding of categorical data using sklearn\n",
        "le=LabelEncoder()\n",
        "label=le.fit_transform(data['Sex'])\n",
        "l2=le.fit_transform(data['Embarked'])\n",
        "\n"
      ],
      "metadata": {
        "execution": {
          "iopub.status.busy": "2022-09-02T06:29:31.210216Z",
          "iopub.execute_input": "2022-09-02T06:29:31.210766Z",
          "iopub.status.idle": "2022-09-02T06:29:31.221054Z",
          "shell.execute_reply.started": "2022-09-02T06:29:31.210732Z",
          "shell.execute_reply": "2022-09-02T06:29:31.220062Z"
        },
        "trusted": true,
        "id": "QPfuxVXOi4rk"
      },
      "execution_count": 172,
      "outputs": []
    },
    {
      "cell_type": "code",
      "source": [
        "data=data.drop(['Sex','Embarked'],axis=1)       # dropping the categorical data"
      ],
      "metadata": {
        "execution": {
          "iopub.status.busy": "2022-09-02T06:29:31.222860Z",
          "iopub.execute_input": "2022-09-02T06:29:31.224379Z",
          "iopub.status.idle": "2022-09-02T06:29:31.233149Z",
          "shell.execute_reply.started": "2022-09-02T06:29:31.224328Z",
          "shell.execute_reply": "2022-09-02T06:29:31.231804Z"
        },
        "trusted": true,
        "id": "eAVkC2dqi4rk"
      },
      "execution_count": 173,
      "outputs": []
    },
    {
      "cell_type": "code",
      "source": [
        "data['Sex']=label                    # appending the encoded columns to the dataset\n",
        "data['Embarked']=l2"
      ],
      "metadata": {
        "execution": {
          "iopub.status.busy": "2022-09-02T06:29:31.234408Z",
          "iopub.execute_input": "2022-09-02T06:29:31.234999Z",
          "iopub.status.idle": "2022-09-02T06:29:31.246375Z",
          "shell.execute_reply.started": "2022-09-02T06:29:31.234950Z",
          "shell.execute_reply": "2022-09-02T06:29:31.245534Z"
        },
        "trusted": true,
        "id": "pTqGIR9ti4rl"
      },
      "execution_count": 174,
      "outputs": []
    },
    {
      "cell_type": "code",
      "source": [
        "data"
      ],
      "metadata": {
        "execution": {
          "iopub.status.busy": "2022-09-02T06:29:31.248726Z",
          "iopub.execute_input": "2022-09-02T06:29:31.249377Z",
          "iopub.status.idle": "2022-09-02T06:29:31.271002Z",
          "shell.execute_reply.started": "2022-09-02T06:29:31.249247Z",
          "shell.execute_reply": "2022-09-02T06:29:31.270125Z"
        },
        "trusted": true,
        "colab": {
          "base_uri": "https://localhost:8080/",
          "height": 424
        },
        "id": "eiOSSUWGi4rm",
        "outputId": "003a2b94-9e7c-49ae-a03c-f49d284adfe7"
      },
      "execution_count": 175,
      "outputs": [
        {
          "output_type": "execute_result",
          "data": {
            "text/plain": [
              "     Survived  Pclass        Age  SibSp  Parch     Fare  Sex  Embarked\n",
              "0           0       3  22.000000      1      0   7.2500    1         2\n",
              "1           1       1  38.000000      1      0  71.2833    0         0\n",
              "2           1       3  26.000000      0      0   7.9250    0         2\n",
              "3           1       1  35.000000      1      0  53.1000    0         2\n",
              "4           0       3  35.000000      0      0   8.0500    1         2\n",
              "..        ...     ...        ...    ...    ...      ...  ...       ...\n",
              "886         0       2  27.000000      0      0  13.0000    1         2\n",
              "887         1       1  19.000000      0      0  30.0000    0         2\n",
              "888         0       3  29.699118      1      2  23.4500    0         2\n",
              "889         1       1  26.000000      0      0  30.0000    1         0\n",
              "890         0       3  32.000000      0      0   7.7500    1         1\n",
              "\n",
              "[889 rows x 8 columns]"
            ],
            "text/html": [
              "\n",
              "  <div id=\"df-abab49c9-2898-4c7c-8018-b95ce5334fbe\">\n",
              "    <div class=\"colab-df-container\">\n",
              "      <div>\n",
              "<style scoped>\n",
              "    .dataframe tbody tr th:only-of-type {\n",
              "        vertical-align: middle;\n",
              "    }\n",
              "\n",
              "    .dataframe tbody tr th {\n",
              "        vertical-align: top;\n",
              "    }\n",
              "\n",
              "    .dataframe thead th {\n",
              "        text-align: right;\n",
              "    }\n",
              "</style>\n",
              "<table border=\"1\" class=\"dataframe\">\n",
              "  <thead>\n",
              "    <tr style=\"text-align: right;\">\n",
              "      <th></th>\n",
              "      <th>Survived</th>\n",
              "      <th>Pclass</th>\n",
              "      <th>Age</th>\n",
              "      <th>SibSp</th>\n",
              "      <th>Parch</th>\n",
              "      <th>Fare</th>\n",
              "      <th>Sex</th>\n",
              "      <th>Embarked</th>\n",
              "    </tr>\n",
              "  </thead>\n",
              "  <tbody>\n",
              "    <tr>\n",
              "      <th>0</th>\n",
              "      <td>0</td>\n",
              "      <td>3</td>\n",
              "      <td>22.000000</td>\n",
              "      <td>1</td>\n",
              "      <td>0</td>\n",
              "      <td>7.2500</td>\n",
              "      <td>1</td>\n",
              "      <td>2</td>\n",
              "    </tr>\n",
              "    <tr>\n",
              "      <th>1</th>\n",
              "      <td>1</td>\n",
              "      <td>1</td>\n",
              "      <td>38.000000</td>\n",
              "      <td>1</td>\n",
              "      <td>0</td>\n",
              "      <td>71.2833</td>\n",
              "      <td>0</td>\n",
              "      <td>0</td>\n",
              "    </tr>\n",
              "    <tr>\n",
              "      <th>2</th>\n",
              "      <td>1</td>\n",
              "      <td>3</td>\n",
              "      <td>26.000000</td>\n",
              "      <td>0</td>\n",
              "      <td>0</td>\n",
              "      <td>7.9250</td>\n",
              "      <td>0</td>\n",
              "      <td>2</td>\n",
              "    </tr>\n",
              "    <tr>\n",
              "      <th>3</th>\n",
              "      <td>1</td>\n",
              "      <td>1</td>\n",
              "      <td>35.000000</td>\n",
              "      <td>1</td>\n",
              "      <td>0</td>\n",
              "      <td>53.1000</td>\n",
              "      <td>0</td>\n",
              "      <td>2</td>\n",
              "    </tr>\n",
              "    <tr>\n",
              "      <th>4</th>\n",
              "      <td>0</td>\n",
              "      <td>3</td>\n",
              "      <td>35.000000</td>\n",
              "      <td>0</td>\n",
              "      <td>0</td>\n",
              "      <td>8.0500</td>\n",
              "      <td>1</td>\n",
              "      <td>2</td>\n",
              "    </tr>\n",
              "    <tr>\n",
              "      <th>...</th>\n",
              "      <td>...</td>\n",
              "      <td>...</td>\n",
              "      <td>...</td>\n",
              "      <td>...</td>\n",
              "      <td>...</td>\n",
              "      <td>...</td>\n",
              "      <td>...</td>\n",
              "      <td>...</td>\n",
              "    </tr>\n",
              "    <tr>\n",
              "      <th>886</th>\n",
              "      <td>0</td>\n",
              "      <td>2</td>\n",
              "      <td>27.000000</td>\n",
              "      <td>0</td>\n",
              "      <td>0</td>\n",
              "      <td>13.0000</td>\n",
              "      <td>1</td>\n",
              "      <td>2</td>\n",
              "    </tr>\n",
              "    <tr>\n",
              "      <th>887</th>\n",
              "      <td>1</td>\n",
              "      <td>1</td>\n",
              "      <td>19.000000</td>\n",
              "      <td>0</td>\n",
              "      <td>0</td>\n",
              "      <td>30.0000</td>\n",
              "      <td>0</td>\n",
              "      <td>2</td>\n",
              "    </tr>\n",
              "    <tr>\n",
              "      <th>888</th>\n",
              "      <td>0</td>\n",
              "      <td>3</td>\n",
              "      <td>29.699118</td>\n",
              "      <td>1</td>\n",
              "      <td>2</td>\n",
              "      <td>23.4500</td>\n",
              "      <td>0</td>\n",
              "      <td>2</td>\n",
              "    </tr>\n",
              "    <tr>\n",
              "      <th>889</th>\n",
              "      <td>1</td>\n",
              "      <td>1</td>\n",
              "      <td>26.000000</td>\n",
              "      <td>0</td>\n",
              "      <td>0</td>\n",
              "      <td>30.0000</td>\n",
              "      <td>1</td>\n",
              "      <td>0</td>\n",
              "    </tr>\n",
              "    <tr>\n",
              "      <th>890</th>\n",
              "      <td>0</td>\n",
              "      <td>3</td>\n",
              "      <td>32.000000</td>\n",
              "      <td>0</td>\n",
              "      <td>0</td>\n",
              "      <td>7.7500</td>\n",
              "      <td>1</td>\n",
              "      <td>1</td>\n",
              "    </tr>\n",
              "  </tbody>\n",
              "</table>\n",
              "<p>889 rows × 8 columns</p>\n",
              "</div>\n",
              "      <button class=\"colab-df-convert\" onclick=\"convertToInteractive('df-abab49c9-2898-4c7c-8018-b95ce5334fbe')\"\n",
              "              title=\"Convert this dataframe to an interactive table.\"\n",
              "              style=\"display:none;\">\n",
              "        \n",
              "  <svg xmlns=\"http://www.w3.org/2000/svg\" height=\"24px\"viewBox=\"0 0 24 24\"\n",
              "       width=\"24px\">\n",
              "    <path d=\"M0 0h24v24H0V0z\" fill=\"none\"/>\n",
              "    <path d=\"M18.56 5.44l.94 2.06.94-2.06 2.06-.94-2.06-.94-.94-2.06-.94 2.06-2.06.94zm-11 1L8.5 8.5l.94-2.06 2.06-.94-2.06-.94L8.5 2.5l-.94 2.06-2.06.94zm10 10l.94 2.06.94-2.06 2.06-.94-2.06-.94-.94-2.06-.94 2.06-2.06.94z\"/><path d=\"M17.41 7.96l-1.37-1.37c-.4-.4-.92-.59-1.43-.59-.52 0-1.04.2-1.43.59L10.3 9.45l-7.72 7.72c-.78.78-.78 2.05 0 2.83L4 21.41c.39.39.9.59 1.41.59.51 0 1.02-.2 1.41-.59l7.78-7.78 2.81-2.81c.8-.78.8-2.07 0-2.86zM5.41 20L4 18.59l7.72-7.72 1.47 1.35L5.41 20z\"/>\n",
              "  </svg>\n",
              "      </button>\n",
              "      \n",
              "  <style>\n",
              "    .colab-df-container {\n",
              "      display:flex;\n",
              "      flex-wrap:wrap;\n",
              "      gap: 12px;\n",
              "    }\n",
              "\n",
              "    .colab-df-convert {\n",
              "      background-color: #E8F0FE;\n",
              "      border: none;\n",
              "      border-radius: 50%;\n",
              "      cursor: pointer;\n",
              "      display: none;\n",
              "      fill: #1967D2;\n",
              "      height: 32px;\n",
              "      padding: 0 0 0 0;\n",
              "      width: 32px;\n",
              "    }\n",
              "\n",
              "    .colab-df-convert:hover {\n",
              "      background-color: #E2EBFA;\n",
              "      box-shadow: 0px 1px 2px rgba(60, 64, 67, 0.3), 0px 1px 3px 1px rgba(60, 64, 67, 0.15);\n",
              "      fill: #174EA6;\n",
              "    }\n",
              "\n",
              "    [theme=dark] .colab-df-convert {\n",
              "      background-color: #3B4455;\n",
              "      fill: #D2E3FC;\n",
              "    }\n",
              "\n",
              "    [theme=dark] .colab-df-convert:hover {\n",
              "      background-color: #434B5C;\n",
              "      box-shadow: 0px 1px 3px 1px rgba(0, 0, 0, 0.15);\n",
              "      filter: drop-shadow(0px 1px 2px rgba(0, 0, 0, 0.3));\n",
              "      fill: #FFFFFF;\n",
              "    }\n",
              "  </style>\n",
              "\n",
              "      <script>\n",
              "        const buttonEl =\n",
              "          document.querySelector('#df-abab49c9-2898-4c7c-8018-b95ce5334fbe button.colab-df-convert');\n",
              "        buttonEl.style.display =\n",
              "          google.colab.kernel.accessAllowed ? 'block' : 'none';\n",
              "\n",
              "        async function convertToInteractive(key) {\n",
              "          const element = document.querySelector('#df-abab49c9-2898-4c7c-8018-b95ce5334fbe');\n",
              "          const dataTable =\n",
              "            await google.colab.kernel.invokeFunction('convertToInteractive',\n",
              "                                                     [key], {});\n",
              "          if (!dataTable) return;\n",
              "\n",
              "          const docLinkHtml = 'Like what you see? Visit the ' +\n",
              "            '<a target=\"_blank\" href=https://colab.research.google.com/notebooks/data_table.ipynb>data table notebook</a>'\n",
              "            + ' to learn more about interactive tables.';\n",
              "          element.innerHTML = '';\n",
              "          dataTable['output_type'] = 'display_data';\n",
              "          await google.colab.output.renderOutput(dataTable, element);\n",
              "          const docLink = document.createElement('div');\n",
              "          docLink.innerHTML = docLinkHtml;\n",
              "          element.appendChild(docLink);\n",
              "        }\n",
              "      </script>\n",
              "    </div>\n",
              "  </div>\n",
              "  "
            ]
          },
          "metadata": {},
          "execution_count": 175
        }
      ]
    },
    {
      "cell_type": "markdown",
      "source": [
        "feature scaling:min max normalization"
      ],
      "metadata": {
        "id": "ksaGPSvOi4rn"
      }
    },
    {
      "cell_type": "code",
      "source": [
        "data['Age']=data['Age'].apply(lambda v:(v-data['Age'].min())/(data['Age'].max()-data['Age'].min(0)))   # feature scaling of the continuous data\n",
        "data['Fare']=data['Fare'].apply(lambda v:(v-data['Fare'].min())/(data['Fare'].max()-data['Fare'].min(0)))\n"
      ],
      "metadata": {
        "execution": {
          "iopub.status.busy": "2022-09-02T06:29:31.272360Z",
          "iopub.execute_input": "2022-09-02T06:29:31.273015Z",
          "iopub.status.idle": "2022-09-02T06:29:31.588209Z",
          "shell.execute_reply.started": "2022-09-02T06:29:31.272981Z",
          "shell.execute_reply": "2022-09-02T06:29:31.586862Z"
        },
        "trusted": true,
        "id": "HwlN_BQmi4rn"
      },
      "execution_count": 176,
      "outputs": []
    },
    {
      "cell_type": "code",
      "source": [
        "data.head()\n",
        "data.to_csv(\"Titanic.csv\")            #saving the preprocessed data for later use"
      ],
      "metadata": {
        "execution": {
          "iopub.status.busy": "2022-09-02T06:29:31.589547Z",
          "iopub.execute_input": "2022-09-02T06:29:31.589884Z",
          "iopub.status.idle": "2022-09-02T06:29:31.604077Z",
          "shell.execute_reply.started": "2022-09-02T06:29:31.589852Z",
          "shell.execute_reply": "2022-09-02T06:29:31.602973Z"
        },
        "trusted": true,
        "id": "j-OWSlWxi4ro"
      },
      "execution_count": 177,
      "outputs": []
    },
    {
      "cell_type": "markdown",
      "source": [
        "# # train test split"
      ],
      "metadata": {
        "id": "XUBfSXs6i4ro"
      }
    },
    {
      "cell_type": "code",
      "source": [
        "train_data=data.sample(frac=0.80,replace=False)         #spliting of dataset into training(80%) and testing(20%)\n",
        "test_data=data.drop(train_data.index)\n",
        "\n",
        "train_data=train_data.to_numpy()\n",
        "test_data=test_data.to_numpy()\n",
        "\n",
        "train_x=np.delete(train_data,0,1)\n",
        "test_x=np.delete(test_data,0,1)\n",
        "\n",
        "train_y=train_data[:,0]\n",
        "test_y=test_data[:,0]"
      ],
      "metadata": {
        "execution": {
          "iopub.status.busy": "2022-09-02T06:29:31.622791Z",
          "iopub.execute_input": "2022-09-02T06:29:31.623177Z",
          "iopub.status.idle": "2022-09-02T06:29:31.635098Z",
          "shell.execute_reply.started": "2022-09-02T06:29:31.623144Z",
          "shell.execute_reply": "2022-09-02T06:29:31.633771Z"
        },
        "trusted": true,
        "id": "xO77Lnfmi4rp"
      },
      "execution_count": 178,
      "outputs": []
    },
    {
      "cell_type": "code",
      "source": [
        "print(train_x.shape)        # getting the shape of train and test data\n",
        "print(train_y.shape)\n",
        "print(test_x.shape)\n",
        "print(test_y.shape)"
      ],
      "metadata": {
        "execution": {
          "iopub.status.busy": "2022-09-02T06:29:31.637122Z",
          "iopub.execute_input": "2022-09-02T06:29:31.637579Z",
          "iopub.status.idle": "2022-09-02T06:29:31.648896Z",
          "shell.execute_reply.started": "2022-09-02T06:29:31.637537Z",
          "shell.execute_reply": "2022-09-02T06:29:31.647531Z"
        },
        "trusted": true,
        "colab": {
          "base_uri": "https://localhost:8080/"
        },
        "id": "im6CeOjFi4rq",
        "outputId": "c6591f4b-8c52-4dff-940a-f3ad4c366e65"
      },
      "execution_count": 179,
      "outputs": [
        {
          "output_type": "stream",
          "name": "stdout",
          "text": [
            "(711, 7)\n",
            "(711,)\n",
            "(178, 7)\n",
            "(178,)\n"
          ]
        }
      ]
    },
    {
      "cell_type": "code",
      "source": [
        "train_x=train_x.T                      \n",
        "train_y=train_y.reshape((1,711))\n",
        "\n",
        "test_x=test_x.T\n",
        "test_y=test_y.reshape((1,178))"
      ],
      "metadata": {
        "execution": {
          "iopub.status.busy": "2022-09-02T06:29:31.649910Z",
          "iopub.execute_input": "2022-09-02T06:29:31.650235Z",
          "iopub.status.idle": "2022-09-02T06:29:31.660913Z",
          "shell.execute_reply.started": "2022-09-02T06:29:31.650206Z",
          "shell.execute_reply": "2022-09-02T06:29:31.659989Z"
        },
        "trusted": true,
        "id": "oZBMOhyTi4rq"
      },
      "execution_count": 180,
      "outputs": []
    },
    {
      "cell_type": "code",
      "source": [
        "print(train_x.shape)\n",
        "print(train_y.shape)\n",
        "print(test_x.shape)\n",
        "print(test_y.shape)"
      ],
      "metadata": {
        "execution": {
          "iopub.status.busy": "2022-09-02T06:29:31.662323Z",
          "iopub.execute_input": "2022-09-02T06:29:31.663562Z",
          "iopub.status.idle": "2022-09-02T06:29:31.674074Z",
          "shell.execute_reply.started": "2022-09-02T06:29:31.663517Z",
          "shell.execute_reply": "2022-09-02T06:29:31.673029Z"
        },
        "trusted": true,
        "colab": {
          "base_uri": "https://localhost:8080/"
        },
        "id": "7utL21aTi4rr",
        "outputId": "e59c688c-19c6-40a6-9272-f7fbc1fc8bdb"
      },
      "execution_count": 181,
      "outputs": [
        {
          "output_type": "stream",
          "name": "stdout",
          "text": [
            "(7, 711)\n",
            "(1, 711)\n",
            "(7, 178)\n",
            "(1, 178)\n"
          ]
        }
      ]
    },
    {
      "cell_type": "markdown",
      "source": [
        "# # logistic regression"
      ],
      "metadata": {
        "id": "ho5WGKJ-i4rr"
      }
    },
    {
      "cell_type": "code",
      "source": [
        "def sigmoid(x):                        # calculating the sigmoid function\n",
        "    return 1/(1 + np.exp(-x))\n"
      ],
      "metadata": {
        "execution": {
          "iopub.status.busy": "2022-09-02T06:29:31.675527Z",
          "iopub.execute_input": "2022-09-02T06:29:31.675844Z",
          "iopub.status.idle": "2022-09-02T06:29:31.685958Z",
          "shell.execute_reply.started": "2022-09-02T06:29:31.675815Z",
          "shell.execute_reply": "2022-09-02T06:29:31.685052Z"
        },
        "trusted": true,
        "id": "sYTIKBVBi4rs"
      },
      "execution_count": 182,
      "outputs": []
    },
    {
      "cell_type": "code",
      "source": [
        "def logisticRegression(X, Y, learning_rate, itr):      # computing the cost function and parameters using gradient descent\n",
        "    \n",
        "    m = train_x.shape[1]\n",
        "    n = train_x.shape[0]\n",
        "    \n",
        "    w = np.zeros((n,1))\n",
        "    b = 0\n",
        "    \n",
        "    cost_lt = []\n",
        "    \n",
        "    for i in range(itr):\n",
        "        \n",
        "        y_pred = np.dot(w.T, X) + b\n",
        "        A = sigmoid(y_pred)\n",
        "        \n",
        "       \n",
        "        cost = -(1/m)*np.sum( Y*np.log(A) + (1-Y)*np.log(1-A))    # cost function\n",
        "        \n",
        "       \n",
        "        dW = (1/m)*np.dot(A-Y, X.T)     # Gradient Descent\n",
        "        dB = (1/m)*np.sum(A - Y)\n",
        "        \n",
        "        w = w - learning_rate*dW.T\n",
        "        b = b - learning_rate*dB\n",
        "        \n",
        "                             \n",
        "        cost_lt.append(cost)       # Keeping track of our cost function value\n",
        "        \n",
        "        if(i%(iterations/10) == 0):\n",
        "            print(\"cost:\", cost)\n",
        "        \n",
        "    return w, b, cost_lt\n"
      ],
      "metadata": {
        "execution": {
          "iopub.status.busy": "2022-09-02T06:29:31.687259Z",
          "iopub.execute_input": "2022-09-02T06:29:31.687622Z",
          "iopub.status.idle": "2022-09-02T06:29:31.701608Z",
          "shell.execute_reply.started": "2022-09-02T06:29:31.687589Z",
          "shell.execute_reply": "2022-09-02T06:29:31.700267Z"
        },
        "trusted": true,
        "id": "3n8purdpi4rs"
      },
      "execution_count": 183,
      "outputs": []
    },
    {
      "cell_type": "code",
      "source": [
        "iterations = 100000 #no of iterations\n",
        "learning_rate = 0.0015  #learning rate\n",
        "W, B, cost_list = logisticRegression(train_x, train_y, learning_rate = learning_rate, itr = iterations)     "
      ],
      "metadata": {
        "execution": {
          "iopub.status.busy": "2022-09-02T06:29:31.703134Z",
          "iopub.execute_input": "2022-09-02T06:29:31.704840Z",
          "iopub.status.idle": "2022-09-02T06:29:38.689611Z",
          "shell.execute_reply.started": "2022-09-02T06:29:31.704799Z",
          "shell.execute_reply": "2022-09-02T06:29:38.688358Z"
        },
        "trusted": true,
        "colab": {
          "base_uri": "https://localhost:8080/"
        },
        "id": "WeFod4mei4rt",
        "outputId": "1a40722e-7f33-4a65-9fb6-487a37ed1d34"
      },
      "execution_count": 184,
      "outputs": [
        {
          "output_type": "stream",
          "name": "stdout",
          "text": [
            "cost: 0.6931471805599454\n",
            "cost: 0.5326011048855513\n",
            "cost: 0.49894740271691473\n",
            "cost: 0.48195096056071646\n",
            "cost: 0.47176411308372695\n",
            "cost: 0.4649724974250559\n",
            "cost: 0.4600954627579331\n",
            "cost: 0.4563913969078156\n",
            "cost: 0.4534512288810824\n",
            "cost: 0.45103397443801674\n"
          ]
        }
      ]
    },
    {
      "cell_type": "markdown",
      "source": [
        "# cost vs iteration"
      ],
      "metadata": {
        "id": "V35nJuwUi4ru"
      }
    },
    {
      "cell_type": "code",
      "source": [
        "plt.plot(np.arange(iterations), cost_list)     #curve of iterations vs cost\n",
        "plt.show()"
      ],
      "metadata": {
        "execution": {
          "iopub.status.busy": "2022-09-02T06:29:38.691241Z",
          "iopub.execute_input": "2022-09-02T06:29:38.691618Z",
          "iopub.status.idle": "2022-09-02T06:29:38.905030Z",
          "shell.execute_reply.started": "2022-09-02T06:29:38.691586Z",
          "shell.execute_reply": "2022-09-02T06:29:38.903858Z"
        },
        "trusted": true,
        "colab": {
          "base_uri": "https://localhost:8080/",
          "height": 265
        },
        "id": "St6SRZ5Ri4rv",
        "outputId": "efa22048-2b76-4575-dc23-48c6498eaea6"
      },
      "execution_count": 185,
      "outputs": [
        {
          "output_type": "display_data",
          "data": {
            "text/plain": [
              "<Figure size 432x288 with 1 Axes>"
            ],
            "image/png": "[encoded data removed]"
          },
          "metadata": {
            "needs_background": "light"
          }
        }
      ]
    },
    {
      "cell_type": "markdown",
      "source": [
        "# testing model accuracy"
      ],
      "metadata": {
        "id": "AwplfLdRi4rv"
      }
    },
    {
      "cell_type": "code",
      "source": [
        "z=np.dot(W.T,test_x)+B         #testing accuracy of model using F1 score\n",
        "pred_y=sigmoid(z);\n",
        "pred_y=pred_y>0.5\n",
        "pred_y=np.array(pred_y,dtype='int32')\n",
        "pred_y"
      ],
      "metadata": {
        "execution": {
          "iopub.status.busy": "2022-09-02T06:29:38.906568Z",
          "iopub.execute_input": "2022-09-02T06:29:38.906921Z",
          "iopub.status.idle": "2022-09-02T06:29:38.916752Z",
          "shell.execute_reply.started": "2022-09-02T06:29:38.906889Z",
          "shell.execute_reply": "2022-09-02T06:29:38.915505Z"
        },
        "trusted": true,
        "colab": {
          "base_uri": "https://localhost:8080/"
        },
        "id": "OXDcI-GYi4rw",
        "outputId": "ff91dc36-ad6a-4be1-c0ba-49a0e8147cb2"
      },
      "execution_count": 186,
      "outputs": [
        {
          "output_type": "execute_result",
          "data": {
            "text/plain": [
              "array([[0, 0, 0, 1, 0, 1, 0, 1, 1, 1, 1, 1, 0, 0, 0, 0, 1, 0, 1, 1, 0, 0,\n",
              "        0, 1, 0, 0, 0, 0, 0, 1, 0, 0, 1, 0, 0, 0, 0, 1, 0, 0, 0, 0, 0, 0,\n",
              "        0, 1, 0, 1, 0, 0, 0, 0, 0, 0, 0, 1, 0, 0, 0, 0, 0, 0, 1, 0, 0, 0,\n",
              "        0, 0, 1, 1, 0, 1, 1, 1, 1, 1, 0, 1, 0, 0, 1, 0, 0, 0, 1, 0, 0, 0,\n",
              "        0, 0, 0, 0, 1, 1, 1, 0, 0, 0, 0, 1, 1, 0, 0, 0, 1, 0, 0, 1, 1, 0,\n",
              "        1, 0, 0, 0, 1, 1, 0, 0, 0, 0, 1, 0, 1, 0, 0, 0, 0, 0, 0, 0, 0, 0,\n",
              "        1, 0, 1, 0, 0, 0, 1, 1, 1, 1, 0, 0, 0, 1, 1, 0, 0, 1, 0, 0, 0, 0,\n",
              "        0, 0, 0, 1, 0, 0, 0, 0, 0, 0, 0, 0, 0, 0, 0, 1, 0, 0, 0, 0, 0, 0,\n",
              "        1, 0]], dtype=int32)"
            ]
          },
          "metadata": {},
          "execution_count": 186
        }
      ]
    },
    {
      "cell_type": "code",
      "source": [
        "test_y=np.array(test_y,dtype='int32')     \n",
        "test_y"
      ],
      "metadata": {
        "execution": {
          "iopub.status.busy": "2022-09-02T06:29:38.918804Z",
          "iopub.execute_input": "2022-09-02T06:29:38.919804Z",
          "iopub.status.idle": "2022-09-02T06:29:38.930312Z",
          "shell.execute_reply.started": "2022-09-02T06:29:38.919758Z",
          "shell.execute_reply": "2022-09-02T06:29:38.929398Z"
        },
        "trusted": true,
        "colab": {
          "base_uri": "https://localhost:8080/"
        },
        "id": "WZwxqXWni4rx",
        "outputId": "ca1743a3-a2c0-45f0-85d9-8b5153fd13f4"
      },
      "execution_count": 187,
      "outputs": [
        {
          "output_type": "execute_result",
          "data": {
            "text/plain": [
              "array([[0, 0, 1, 1, 0, 1, 0, 1, 0, 1, 1, 1, 0, 0, 1, 0, 1, 0, 1, 0, 0, 0,\n",
              "        0, 1, 0, 1, 0, 0, 0, 1, 0, 0, 1, 0, 0, 0, 0, 1, 0, 0, 0, 1, 0, 0,\n",
              "        1, 0, 1, 1, 1, 0, 0, 1, 1, 0, 0, 1, 0, 0, 0, 0, 0, 1, 1, 1, 0, 0,\n",
              "        0, 1, 1, 1, 0, 1, 1, 1, 1, 1, 0, 1, 0, 0, 0, 0, 1, 0, 1, 0, 1, 0,\n",
              "        0, 0, 0, 0, 1, 1, 1, 0, 0, 0, 0, 1, 0, 0, 1, 1, 1, 0, 0, 1, 1, 0,\n",
              "        1, 0, 0, 0, 0, 0, 1, 0, 0, 0, 1, 0, 1, 0, 1, 0, 0, 1, 0, 0, 0, 0,\n",
              "        1, 0, 1, 0, 0, 1, 1, 1, 1, 1, 0, 0, 0, 1, 0, 0, 0, 1, 1, 0, 0, 0,\n",
              "        0, 1, 0, 1, 0, 0, 0, 0, 0, 0, 1, 0, 1, 0, 0, 1, 0, 0, 1, 0, 0, 0,\n",
              "        1, 0]], dtype=int32)"
            ]
          },
          "metadata": {},
          "execution_count": 187
        }
      ]
    },
    {
      "cell_type": "code",
      "source": [
        "tp=np.sum((pred_y==1)& (test_y==1))\n",
        "tn=np.sum((pred_y==0)& (test_y==0))\n",
        "fp=np.sum((pred_y==1)& (test_y==0))\n",
        "fn=np.sum((pred_y==0)& (test_y==1))"
      ],
      "metadata": {
        "execution": {
          "iopub.status.busy": "2022-09-02T06:29:38.931884Z",
          "iopub.execute_input": "2022-09-02T06:29:38.932562Z",
          "iopub.status.idle": "2022-09-02T06:29:38.939055Z",
          "shell.execute_reply.started": "2022-09-02T06:29:38.932529Z",
          "shell.execute_reply": "2022-09-02T06:29:38.938085Z"
        },
        "trusted": true,
        "id": "5q2eyeHMi4ry"
      },
      "execution_count": 188,
      "outputs": []
    },
    {
      "cell_type": "code",
      "source": [
        "rt=tp/(tp+fn)\n",
        "rt"
      ],
      "metadata": {
        "execution": {
          "iopub.status.busy": "2022-09-02T06:29:38.942918Z",
          "iopub.execute_input": "2022-09-02T06:29:38.943759Z",
          "iopub.status.idle": "2022-09-02T06:29:38.954175Z",
          "shell.execute_reply.started": "2022-09-02T06:29:38.943722Z",
          "shell.execute_reply": "2022-09-02T06:29:38.952738Z"
        },
        "trusted": true,
        "colab": {
          "base_uri": "https://localhost:8080/"
        },
        "id": "mjRZy6qwi4ry",
        "outputId": "a14b0e5c-3d62-4282-c316-7f94c51272d3"
      },
      "execution_count": 189,
      "outputs": [
        {
          "output_type": "execute_result",
          "data": {
            "text/plain": [
              "0.6428571428571429"
            ]
          },
          "metadata": {},
          "execution_count": 189
        }
      ]
    },
    {
      "cell_type": "code",
      "source": [
        "pt=tp/(tp+fp)\n",
        "pt"
      ],
      "metadata": {
        "execution": {
          "iopub.status.busy": "2022-09-02T06:29:38.956380Z",
          "iopub.execute_input": "2022-09-02T06:29:38.956866Z",
          "iopub.status.idle": "2022-09-02T06:29:38.966918Z",
          "shell.execute_reply.started": "2022-09-02T06:29:38.956823Z",
          "shell.execute_reply": "2022-09-02T06:29:38.965512Z"
        },
        "trusted": true,
        "colab": {
          "base_uri": "https://localhost:8080/"
        },
        "id": "M0FfmvPdi4rz",
        "outputId": "36c25850-11c4-40cc-ea69-801d4274a214"
      },
      "execution_count": 190,
      "outputs": [
        {
          "output_type": "execute_result",
          "data": {
            "text/plain": [
              "0.8490566037735849"
            ]
          },
          "metadata": {},
          "execution_count": 190
        }
      ]
    },
    {
      "cell_type": "code",
      "source": [
        "f1_s=2*(rt*pt)/(rt+pt)\n",
        "print(\"The F1 score is \",f1_s*100)"
      ],
      "metadata": {
        "execution": {
          "iopub.status.busy": "2022-09-02T06:29:38.968536Z",
          "iopub.execute_input": "2022-09-02T06:29:38.968872Z",
          "iopub.status.idle": "2022-09-02T06:29:38.978995Z",
          "shell.execute_reply.started": "2022-09-02T06:29:38.968842Z",
          "shell.execute_reply": "2022-09-02T06:29:38.977849Z"
        },
        "trusted": true,
        "colab": {
          "base_uri": "https://localhost:8080/"
        },
        "id": "I-v96Hvni4rz",
        "outputId": "d7caa009-9c4f-4f1a-fea9-9129a2a88e82"
      },
      "execution_count": 191,
      "outputs": [
        {
          "output_type": "stream",
          "name": "stdout",
          "text": [
            "The F1 score is  73.17073170731709\n"
          ]
        }
      ]
    },
    {
      "cell_type": "markdown",
      "source": [
        "# **Naive Bayes**"
      ],
      "metadata": {
        "id": "owBmRxM8BSn2"
      }
    },
    {
      "cell_type": "code",
      "source": [
        "df=pd.read_csv('Titanic.csv')            #reading the above saved preprocessed data "
      ],
      "metadata": {
        "id": "vMrqe0-RBSDU"
      },
      "execution_count": 192,
      "outputs": []
    },
    {
      "cell_type": "markdown",
      "source": [
        "# **Data preprocessing**"
      ],
      "metadata": {
        "id": "W4F03TwgI3kz"
      }
    },
    {
      "cell_type": "code",
      "source": [
        "df.head(10)"
      ],
      "metadata": {
        "colab": {
          "base_uri": "https://localhost:8080/",
          "height": 363
        },
        "id": "zdt7NmHLDseb",
        "outputId": "4872cf32-af0e-49ac-b0fb-8bb64f0b781c"
      },
      "execution_count": 193,
      "outputs": [
        {
          "output_type": "execute_result",
          "data": {
            "text/plain": [
              "   Unnamed: 0  Survived  Pclass       Age  SibSp  Parch      Fare  Sex  \\\n",
              "0           0         0       3  0.271174      1      0  0.014151    1   \n",
              "1           1         1       1  0.472229      1      0  0.139136    0   \n",
              "2           2         1       3  0.321438      0      0  0.015469    0   \n",
              "3           3         1       1  0.434531      1      0  0.103644    0   \n",
              "4           4         0       3  0.434531      0      0  0.015713    1   \n",
              "5           5         0       3  0.367921      0      0  0.016510    1   \n",
              "6           6         0       1  0.673285      0      0  0.101229    1   \n",
              "7           7         0       3  0.019854      3      1  0.041136    1   \n",
              "8           8         1       3  0.334004      0      2  0.021731    0   \n",
              "9           9         1       2  0.170646      1      0  0.058694    0   \n",
              "\n",
              "   Embarked  \n",
              "0         2  \n",
              "1         0  \n",
              "2         2  \n",
              "3         2  \n",
              "4         2  \n",
              "5         1  \n",
              "6         2  \n",
              "7         2  \n",
              "8         2  \n",
              "9         0  "
            ],
            "text/html": [
              "\n",
              "  <div id=\"df-66367030-dfd6-4d95-a360-63deb7d5bd40\">\n",
              "    <div class=\"colab-df-container\">\n",
              "      <div>\n",
              "<style scoped>\n",
              "    .dataframe tbody tr th:only-of-type {\n",
              "        vertical-align: middle;\n",
              "    }\n",
              "\n",
              "    .dataframe tbody tr th {\n",
              "        vertical-align: top;\n",
              "    }\n",
              "\n",
              "    .dataframe thead th {\n",
              "        text-align: right;\n",
              "    }\n",
              "</style>\n",
              "<table border=\"1\" class=\"dataframe\">\n",
              "  <thead>\n",
              "    <tr style=\"text-align: right;\">\n",
              "      <th></th>\n",
              "      <th>Unnamed: 0</th>\n",
              "      <th>Survived</th>\n",
              "      <th>Pclass</th>\n",
              "      <th>Age</th>\n",
              "      <th>SibSp</th>\n",
              "      <th>Parch</th>\n",
              "      <th>Fare</th>\n",
              "      <th>Sex</th>\n",
              "      <th>Embarked</th>\n",
              "    </tr>\n",
              "  </thead>\n",
              "  <tbody>\n",
              "    <tr>\n",
              "      <th>0</th>\n",
              "      <td>0</td>\n",
              "      <td>0</td>\n",
              "      <td>3</td>\n",
              "      <td>0.271174</td>\n",
              "      <td>1</td>\n",
              "      <td>0</td>\n",
              "      <td>0.014151</td>\n",
              "      <td>1</td>\n",
              "      <td>2</td>\n",
              "    </tr>\n",
              "    <tr>\n",
              "      <th>1</th>\n",
              "      <td>1</td>\n",
              "      <td>1</td>\n",
              "      <td>1</td>\n",
              "      <td>0.472229</td>\n",
              "      <td>1</td>\n",
              "      <td>0</td>\n",
              "      <td>0.139136</td>\n",
              "      <td>0</td>\n",
              "      <td>0</td>\n",
              "    </tr>\n",
              "    <tr>\n",
              "      <th>2</th>\n",
              "      <td>2</td>\n",
              "      <td>1</td>\n",
              "      <td>3</td>\n",
              "      <td>0.321438</td>\n",
              "      <td>0</td>\n",
              "      <td>0</td>\n",
              "      <td>0.015469</td>\n",
              "      <td>0</td>\n",
              "      <td>2</td>\n",
              "    </tr>\n",
              "    <tr>\n",
              "      <th>3</th>\n",
              "      <td>3</td>\n",
              "      <td>1</td>\n",
              "      <td>1</td>\n",
              "      <td>0.434531</td>\n",
              "      <td>1</td>\n",
              "      <td>0</td>\n",
              "      <td>0.103644</td>\n",
              "      <td>0</td>\n",
              "      <td>2</td>\n",
              "    </tr>\n",
              "    <tr>\n",
              "      <th>4</th>\n",
              "      <td>4</td>\n",
              "      <td>0</td>\n",
              "      <td>3</td>\n",
              "      <td>0.434531</td>\n",
              "      <td>0</td>\n",
              "      <td>0</td>\n",
              "      <td>0.015713</td>\n",
              "      <td>1</td>\n",
              "      <td>2</td>\n",
              "    </tr>\n",
              "    <tr>\n",
              "      <th>5</th>\n",
              "      <td>5</td>\n",
              "      <td>0</td>\n",
              "      <td>3</td>\n",
              "      <td>0.367921</td>\n",
              "      <td>0</td>\n",
              "      <td>0</td>\n",
              "      <td>0.016510</td>\n",
              "      <td>1</td>\n",
              "      <td>1</td>\n",
              "    </tr>\n",
              "    <tr>\n",
              "      <th>6</th>\n",
              "      <td>6</td>\n",
              "      <td>0</td>\n",
              "      <td>1</td>\n",
              "      <td>0.673285</td>\n",
              "      <td>0</td>\n",
              "      <td>0</td>\n",
              "      <td>0.101229</td>\n",
              "      <td>1</td>\n",
              "      <td>2</td>\n",
              "    </tr>\n",
              "    <tr>\n",
              "      <th>7</th>\n",
              "      <td>7</td>\n",
              "      <td>0</td>\n",
              "      <td>3</td>\n",
              "      <td>0.019854</td>\n",
              "      <td>3</td>\n",
              "      <td>1</td>\n",
              "      <td>0.041136</td>\n",
              "      <td>1</td>\n",
              "      <td>2</td>\n",
              "    </tr>\n",
              "    <tr>\n",
              "      <th>8</th>\n",
              "      <td>8</td>\n",
              "      <td>1</td>\n",
              "      <td>3</td>\n",
              "      <td>0.334004</td>\n",
              "      <td>0</td>\n",
              "      <td>2</td>\n",
              "      <td>0.021731</td>\n",
              "      <td>0</td>\n",
              "      <td>2</td>\n",
              "    </tr>\n",
              "    <tr>\n",
              "      <th>9</th>\n",
              "      <td>9</td>\n",
              "      <td>1</td>\n",
              "      <td>2</td>\n",
              "      <td>0.170646</td>\n",
              "      <td>1</td>\n",
              "      <td>0</td>\n",
              "      <td>0.058694</td>\n",
              "      <td>0</td>\n",
              "      <td>0</td>\n",
              "    </tr>\n",
              "  </tbody>\n",
              "</table>\n",
              "</div>\n",
              "      <button class=\"colab-df-convert\" onclick=\"convertToInteractive('df-66367030-dfd6-4d95-a360-63deb7d5bd40')\"\n",
              "              title=\"Convert this dataframe to an interactive table.\"\n",
              "              style=\"display:none;\">\n",
              "        \n",
              "  <svg xmlns=\"http://www.w3.org/2000/svg\" height=\"24px\"viewBox=\"0 0 24 24\"\n",
              "       width=\"24px\">\n",
              "    <path d=\"M0 0h24v24H0V0z\" fill=\"none\"/>\n",
              "    <path d=\"M18.56 5.44l.94 2.06.94-2.06 2.06-.94-2.06-.94-.94-2.06-.94 2.06-2.06.94zm-11 1L8.5 8.5l.94-2.06 2.06-.94-2.06-.94L8.5 2.5l-.94 2.06-2.06.94zm10 10l.94 2.06.94-2.06 2.06-.94-2.06-.94-.94-2.06-.94 2.06-2.06.94z\"/><path d=\"M17.41 7.96l-1.37-1.37c-.4-.4-.92-.59-1.43-.59-.52 0-1.04.2-1.43.59L10.3 9.45l-7.72 7.72c-.78.78-.78 2.05 0 2.83L4 21.41c.39.39.9.59 1.41.59.51 0 1.02-.2 1.41-.59l7.78-7.78 2.81-2.81c.8-.78.8-2.07 0-2.86zM5.41 20L4 18.59l7.72-7.72 1.47 1.35L5.41 20z\"/>\n",
              "  </svg>\n",
              "      </button>\n",
              "      \n",
              "  <style>\n",
              "    .colab-df-container {\n",
              "      display:flex;\n",
              "      flex-wrap:wrap;\n",
              "      gap: 12px;\n",
              "    }\n",
              "\n",
              "    .colab-df-convert {\n",
              "      background-color: #E8F0FE;\n",
              "      border: none;\n",
              "      border-radius: 50%;\n",
              "      cursor: pointer;\n",
              "      display: none;\n",
              "      fill: #1967D2;\n",
              "      height: 32px;\n",
              "      padding: 0 0 0 0;\n",
              "      width: 32px;\n",
              "    }\n",
              "\n",
              "    .colab-df-convert:hover {\n",
              "      background-color: #E2EBFA;\n",
              "      box-shadow: 0px 1px 2px rgba(60, 64, 67, 0.3), 0px 1px 3px 1px rgba(60, 64, 67, 0.15);\n",
              "      fill: #174EA6;\n",
              "    }\n",
              "\n",
              "    [theme=dark] .colab-df-convert {\n",
              "      background-color: #3B4455;\n",
              "      fill: #D2E3FC;\n",
              "    }\n",
              "\n",
              "    [theme=dark] .colab-df-convert:hover {\n",
              "      background-color: #434B5C;\n",
              "      box-shadow: 0px 1px 3px 1px rgba(0, 0, 0, 0.15);\n",
              "      filter: drop-shadow(0px 1px 2px rgba(0, 0, 0, 0.3));\n",
              "      fill: #FFFFFF;\n",
              "    }\n",
              "  </style>\n",
              "\n",
              "      <script>\n",
              "        const buttonEl =\n",
              "          document.querySelector('#df-66367030-dfd6-4d95-a360-63deb7d5bd40 button.colab-df-convert');\n",
              "        buttonEl.style.display =\n",
              "          google.colab.kernel.accessAllowed ? 'block' : 'none';\n",
              "\n",
              "        async function convertToInteractive(key) {\n",
              "          const element = document.querySelector('#df-66367030-dfd6-4d95-a360-63deb7d5bd40');\n",
              "          const dataTable =\n",
              "            await google.colab.kernel.invokeFunction('convertToInteractive',\n",
              "                                                     [key], {});\n",
              "          if (!dataTable) return;\n",
              "\n",
              "          const docLinkHtml = 'Like what you see? Visit the ' +\n",
              "            '<a target=\"_blank\" href=https://colab.research.google.com/notebooks/data_table.ipynb>data table notebook</a>'\n",
              "            + ' to learn more about interactive tables.';\n",
              "          element.innerHTML = '';\n",
              "          dataTable['output_type'] = 'display_data';\n",
              "          await google.colab.output.renderOutput(dataTable, element);\n",
              "          const docLink = document.createElement('div');\n",
              "          docLink.innerHTML = docLinkHtml;\n",
              "          element.appendChild(docLink);\n",
              "        }\n",
              "      </script>\n",
              "    </div>\n",
              "  </div>\n",
              "  "
            ]
          },
          "metadata": {},
          "execution_count": 193
        }
      ]
    },
    {
      "cell_type": "code",
      "source": [
        "df.describe()  # getting the information about the data"
      ],
      "metadata": {
        "colab": {
          "base_uri": "https://localhost:8080/",
          "height": 300
        },
        "id": "JMwAwwdSpHSm",
        "outputId": "d16c73ca-3ff8-4def-9394-05031cee872c"
      },
      "execution_count": 194,
      "outputs": [
        {
          "output_type": "execute_result",
          "data": {
            "text/plain": [
              "       Unnamed: 0    Survived      Pclass         Age       SibSp       Parch  \\\n",
              "count  889.000000  889.000000  889.000000  889.000000  889.000000  889.000000   \n",
              "mean   445.000000    0.382452    2.311586    0.367347    0.524184    0.382452   \n",
              "std    256.998173    0.486260    0.834700    0.162960    1.103705    0.806761   \n",
              "min      0.000000    0.000000    1.000000    0.000000    0.000000    0.000000   \n",
              "25%    223.000000    0.000000    2.000000    0.271174    0.000000    0.000000   \n",
              "50%    445.000000    0.000000    3.000000    0.367921    0.000000    0.000000   \n",
              "75%    667.000000    1.000000    3.000000    0.434531    1.000000    0.000000   \n",
              "max    890.000000    1.000000    3.000000    1.000000    8.000000    6.000000   \n",
              "\n",
              "             Fare         Sex    Embarked  \n",
              "count  889.000000  889.000000  889.000000  \n",
              "mean     0.062649    0.649044    1.535433  \n",
              "std      0.097003    0.477538    0.792088  \n",
              "min      0.000000    0.000000    0.000000  \n",
              "25%      0.015412    0.000000    1.000000  \n",
              "50%      0.028213    1.000000    2.000000  \n",
              "75%      0.060508    1.000000    2.000000  \n",
              "max      1.000000    1.000000    2.000000  "
            ],
            "text/html": [
              "\n",
              "  <div id=\"df-f79100d8-9588-49f6-b564-0014bf6c34a8\">\n",
              "    <div class=\"colab-df-container\">\n",
              "      <div>\n",
              "<style scoped>\n",
              "    .dataframe tbody tr th:only-of-type {\n",
              "        vertical-align: middle;\n",
              "    }\n",
              "\n",
              "    .dataframe tbody tr th {\n",
              "        vertical-align: top;\n",
              "    }\n",
              "\n",
              "    .dataframe thead th {\n",
              "        text-align: right;\n",
              "    }\n",
              "</style>\n",
              "<table border=\"1\" class=\"dataframe\">\n",
              "  <thead>\n",
              "    <tr style=\"text-align: right;\">\n",
              "      <th></th>\n",
              "      <th>Unnamed: 0</th>\n",
              "      <th>Survived</th>\n",
              "      <th>Pclass</th>\n",
              "      <th>Age</th>\n",
              "      <th>SibSp</th>\n",
              "      <th>Parch</th>\n",
              "      <th>Fare</th>\n",
              "      <th>Sex</th>\n",
              "      <th>Embarked</th>\n",
              "    </tr>\n",
              "  </thead>\n",
              "  <tbody>\n",
              "    <tr>\n",
              "      <th>count</th>\n",
              "      <td>889.000000</td>\n",
              "      <td>889.000000</td>\n",
              "      <td>889.000000</td>\n",
              "      <td>889.000000</td>\n",
              "      <td>889.000000</td>\n",
              "      <td>889.000000</td>\n",
              "      <td>889.000000</td>\n",
              "      <td>889.000000</td>\n",
              "      <td>889.000000</td>\n",
              "    </tr>\n",
              "    <tr>\n",
              "      <th>mean</th>\n",
              "      <td>445.000000</td>\n",
              "      <td>0.382452</td>\n",
              "      <td>2.311586</td>\n",
              "      <td>0.367347</td>\n",
              "      <td>0.524184</td>\n",
              "      <td>0.382452</td>\n",
              "      <td>0.062649</td>\n",
              "      <td>0.649044</td>\n",
              "      <td>1.535433</td>\n",
              "    </tr>\n",
              "    <tr>\n",
              "      <th>std</th>\n",
              "      <td>256.998173</td>\n",
              "      <td>0.486260</td>\n",
              "      <td>0.834700</td>\n",
              "      <td>0.162960</td>\n",
              "      <td>1.103705</td>\n",
              "      <td>0.806761</td>\n",
              "      <td>0.097003</td>\n",
              "      <td>0.477538</td>\n",
              "      <td>0.792088</td>\n",
              "    </tr>\n",
              "    <tr>\n",
              "      <th>min</th>\n",
              "      <td>0.000000</td>\n",
              "      <td>0.000000</td>\n",
              "      <td>1.000000</td>\n",
              "      <td>0.000000</td>\n",
              "      <td>0.000000</td>\n",
              "      <td>0.000000</td>\n",
              "      <td>0.000000</td>\n",
              "      <td>0.000000</td>\n",
              "      <td>0.000000</td>\n",
              "    </tr>\n",
              "    <tr>\n",
              "      <th>25%</th>\n",
              "      <td>223.000000</td>\n",
              "      <td>0.000000</td>\n",
              "      <td>2.000000</td>\n",
              "      <td>0.271174</td>\n",
              "      <td>0.000000</td>\n",
              "      <td>0.000000</td>\n",
              "      <td>0.015412</td>\n",
              "      <td>0.000000</td>\n",
              "      <td>1.000000</td>\n",
              "    </tr>\n",
              "    <tr>\n",
              "      <th>50%</th>\n",
              "      <td>445.000000</td>\n",
              "      <td>0.000000</td>\n",
              "      <td>3.000000</td>\n",
              "      <td>0.367921</td>\n",
              "      <td>0.000000</td>\n",
              "      <td>0.000000</td>\n",
              "      <td>0.028213</td>\n",
              "      <td>1.000000</td>\n",
              "      <td>2.000000</td>\n",
              "    </tr>\n",
              "    <tr>\n",
              "      <th>75%</th>\n",
              "      <td>667.000000</td>\n",
              "      <td>1.000000</td>\n",
              "      <td>3.000000</td>\n",
              "      <td>0.434531</td>\n",
              "      <td>1.000000</td>\n",
              "      <td>0.000000</td>\n",
              "      <td>0.060508</td>\n",
              "      <td>1.000000</td>\n",
              "      <td>2.000000</td>\n",
              "    </tr>\n",
              "    <tr>\n",
              "      <th>max</th>\n",
              "      <td>890.000000</td>\n",
              "      <td>1.000000</td>\n",
              "      <td>3.000000</td>\n",
              "      <td>1.000000</td>\n",
              "      <td>8.000000</td>\n",
              "      <td>6.000000</td>\n",
              "      <td>1.000000</td>\n",
              "      <td>1.000000</td>\n",
              "      <td>2.000000</td>\n",
              "    </tr>\n",
              "  </tbody>\n",
              "</table>\n",
              "</div>\n",
              "      <button class=\"colab-df-convert\" onclick=\"convertToInteractive('df-f79100d8-9588-49f6-b564-0014bf6c34a8')\"\n",
              "              title=\"Convert this dataframe to an interactive table.\"\n",
              "              style=\"display:none;\">\n",
              "        \n",
              "  <svg xmlns=\"http://www.w3.org/2000/svg\" height=\"24px\"viewBox=\"0 0 24 24\"\n",
              "       width=\"24px\">\n",
              "    <path d=\"M0 0h24v24H0V0z\" fill=\"none\"/>\n",
              "    <path d=\"M18.56 5.44l.94 2.06.94-2.06 2.06-.94-2.06-.94-.94-2.06-.94 2.06-2.06.94zm-11 1L8.5 8.5l.94-2.06 2.06-.94-2.06-.94L8.5 2.5l-.94 2.06-2.06.94zm10 10l.94 2.06.94-2.06 2.06-.94-2.06-.94-.94-2.06-.94 2.06-2.06.94z\"/><path d=\"M17.41 7.96l-1.37-1.37c-.4-.4-.92-.59-1.43-.59-.52 0-1.04.2-1.43.59L10.3 9.45l-7.72 7.72c-.78.78-.78 2.05 0 2.83L4 21.41c.39.39.9.59 1.41.59.51 0 1.02-.2 1.41-.59l7.78-7.78 2.81-2.81c.8-.78.8-2.07 0-2.86zM5.41 20L4 18.59l7.72-7.72 1.47 1.35L5.41 20z\"/>\n",
              "  </svg>\n",
              "      </button>\n",
              "      \n",
              "  <style>\n",
              "    .colab-df-container {\n",
              "      display:flex;\n",
              "      flex-wrap:wrap;\n",
              "      gap: 12px;\n",
              "    }\n",
              "\n",
              "    .colab-df-convert {\n",
              "      background-color: #E8F0FE;\n",
              "      border: none;\n",
              "      border-radius: 50%;\n",
              "      cursor: pointer;\n",
              "      display: none;\n",
              "      fill: #1967D2;\n",
              "      height: 32px;\n",
              "      padding: 0 0 0 0;\n",
              "      width: 32px;\n",
              "    }\n",
              "\n",
              "    .colab-df-convert:hover {\n",
              "      background-color: #E2EBFA;\n",
              "      box-shadow: 0px 1px 2px rgba(60, 64, 67, 0.3), 0px 1px 3px 1px rgba(60, 64, 67, 0.15);\n",
              "      fill: #174EA6;\n",
              "    }\n",
              "\n",
              "    [theme=dark] .colab-df-convert {\n",
              "      background-color: #3B4455;\n",
              "      fill: #D2E3FC;\n",
              "    }\n",
              "\n",
              "    [theme=dark] .colab-df-convert:hover {\n",
              "      background-color: #434B5C;\n",
              "      box-shadow: 0px 1px 3px 1px rgba(0, 0, 0, 0.15);\n",
              "      filter: drop-shadow(0px 1px 2px rgba(0, 0, 0, 0.3));\n",
              "      fill: #FFFFFF;\n",
              "    }\n",
              "  </style>\n",
              "\n",
              "      <script>\n",
              "        const buttonEl =\n",
              "          document.querySelector('#df-f79100d8-9588-49f6-b564-0014bf6c34a8 button.colab-df-convert');\n",
              "        buttonEl.style.display =\n",
              "          google.colab.kernel.accessAllowed ? 'block' : 'none';\n",
              "\n",
              "        async function convertToInteractive(key) {\n",
              "          const element = document.querySelector('#df-f79100d8-9588-49f6-b564-0014bf6c34a8');\n",
              "          const dataTable =\n",
              "            await google.colab.kernel.invokeFunction('convertToInteractive',\n",
              "                                                     [key], {});\n",
              "          if (!dataTable) return;\n",
              "\n",
              "          const docLinkHtml = 'Like what you see? Visit the ' +\n",
              "            '<a target=\"_blank\" href=https://colab.research.google.com/notebooks/data_table.ipynb>data table notebook</a>'\n",
              "            + ' to learn more about interactive tables.';\n",
              "          element.innerHTML = '';\n",
              "          dataTable['output_type'] = 'display_data';\n",
              "          await google.colab.output.renderOutput(dataTable, element);\n",
              "          const docLink = document.createElement('div');\n",
              "          docLink.innerHTML = docLinkHtml;\n",
              "          element.appendChild(docLink);\n",
              "        }\n",
              "      </script>\n",
              "    </div>\n",
              "  </div>\n",
              "  "
            ]
          },
          "metadata": {},
          "execution_count": 194
        }
      ]
    },
    {
      "cell_type": "code",
      "source": [
        "df=df.drop(['Unnamed: 0'],axis=1)   # dropping the Unnamed column\n",
        "df.head(2)"
      ],
      "metadata": {
        "colab": {
          "base_uri": "https://localhost:8080/",
          "height": 112
        },
        "id": "_Q1wrgzLDupl",
        "outputId": "d82270ec-b538-40ed-95a5-096dcac2e0ef"
      },
      "execution_count": 195,
      "outputs": [
        {
          "output_type": "execute_result",
          "data": {
            "text/plain": [
              "   Survived  Pclass       Age  SibSp  Parch      Fare  Sex  Embarked\n",
              "0         0       3  0.271174      1      0  0.014151    1         2\n",
              "1         1       1  0.472229      1      0  0.139136    0         0"
            ],
            "text/html": [
              "\n",
              "  <div id=\"df-c2742163-37ba-421a-b519-c91207df731b\">\n",
              "    <div class=\"colab-df-container\">\n",
              "      <div>\n",
              "<style scoped>\n",
              "    .dataframe tbody tr th:only-of-type {\n",
              "        vertical-align: middle;\n",
              "    }\n",
              "\n",
              "    .dataframe tbody tr th {\n",
              "        vertical-align: top;\n",
              "    }\n",
              "\n",
              "    .dataframe thead th {\n",
              "        text-align: right;\n",
              "    }\n",
              "</style>\n",
              "<table border=\"1\" class=\"dataframe\">\n",
              "  <thead>\n",
              "    <tr style=\"text-align: right;\">\n",
              "      <th></th>\n",
              "      <th>Survived</th>\n",
              "      <th>Pclass</th>\n",
              "      <th>Age</th>\n",
              "      <th>SibSp</th>\n",
              "      <th>Parch</th>\n",
              "      <th>Fare</th>\n",
              "      <th>Sex</th>\n",
              "      <th>Embarked</th>\n",
              "    </tr>\n",
              "  </thead>\n",
              "  <tbody>\n",
              "    <tr>\n",
              "      <th>0</th>\n",
              "      <td>0</td>\n",
              "      <td>3</td>\n",
              "      <td>0.271174</td>\n",
              "      <td>1</td>\n",
              "      <td>0</td>\n",
              "      <td>0.014151</td>\n",
              "      <td>1</td>\n",
              "      <td>2</td>\n",
              "    </tr>\n",
              "    <tr>\n",
              "      <th>1</th>\n",
              "      <td>1</td>\n",
              "      <td>1</td>\n",
              "      <td>0.472229</td>\n",
              "      <td>1</td>\n",
              "      <td>0</td>\n",
              "      <td>0.139136</td>\n",
              "      <td>0</td>\n",
              "      <td>0</td>\n",
              "    </tr>\n",
              "  </tbody>\n",
              "</table>\n",
              "</div>\n",
              "      <button class=\"colab-df-convert\" onclick=\"convertToInteractive('df-c2742163-37ba-421a-b519-c91207df731b')\"\n",
              "              title=\"Convert this dataframe to an interactive table.\"\n",
              "              style=\"display:none;\">\n",
              "        \n",
              "  <svg xmlns=\"http://www.w3.org/2000/svg\" height=\"24px\"viewBox=\"0 0 24 24\"\n",
              "       width=\"24px\">\n",
              "    <path d=\"M0 0h24v24H0V0z\" fill=\"none\"/>\n",
              "    <path d=\"M18.56 5.44l.94 2.06.94-2.06 2.06-.94-2.06-.94-.94-2.06-.94 2.06-2.06.94zm-11 1L8.5 8.5l.94-2.06 2.06-.94-2.06-.94L8.5 2.5l-.94 2.06-2.06.94zm10 10l.94 2.06.94-2.06 2.06-.94-2.06-.94-.94-2.06-.94 2.06-2.06.94z\"/><path d=\"M17.41 7.96l-1.37-1.37c-.4-.4-.92-.59-1.43-.59-.52 0-1.04.2-1.43.59L10.3 9.45l-7.72 7.72c-.78.78-.78 2.05 0 2.83L4 21.41c.39.39.9.59 1.41.59.51 0 1.02-.2 1.41-.59l7.78-7.78 2.81-2.81c.8-.78.8-2.07 0-2.86zM5.41 20L4 18.59l7.72-7.72 1.47 1.35L5.41 20z\"/>\n",
              "  </svg>\n",
              "      </button>\n",
              "      \n",
              "  <style>\n",
              "    .colab-df-container {\n",
              "      display:flex;\n",
              "      flex-wrap:wrap;\n",
              "      gap: 12px;\n",
              "    }\n",
              "\n",
              "    .colab-df-convert {\n",
              "      background-color: #E8F0FE;\n",
              "      border: none;\n",
              "      border-radius: 50%;\n",
              "      cursor: pointer;\n",
              "      display: none;\n",
              "      fill: #1967D2;\n",
              "      height: 32px;\n",
              "      padding: 0 0 0 0;\n",
              "      width: 32px;\n",
              "    }\n",
              "\n",
              "    .colab-df-convert:hover {\n",
              "      background-color: #E2EBFA;\n",
              "      box-shadow: 0px 1px 2px rgba(60, 64, 67, 0.3), 0px 1px 3px 1px rgba(60, 64, 67, 0.15);\n",
              "      fill: #174EA6;\n",
              "    }\n",
              "\n",
              "    [theme=dark] .colab-df-convert {\n",
              "      background-color: #3B4455;\n",
              "      fill: #D2E3FC;\n",
              "    }\n",
              "\n",
              "    [theme=dark] .colab-df-convert:hover {\n",
              "      background-color: #434B5C;\n",
              "      box-shadow: 0px 1px 3px 1px rgba(0, 0, 0, 0.15);\n",
              "      filter: drop-shadow(0px 1px 2px rgba(0, 0, 0, 0.3));\n",
              "      fill: #FFFFFF;\n",
              "    }\n",
              "  </style>\n",
              "\n",
              "      <script>\n",
              "        const buttonEl =\n",
              "          document.querySelector('#df-c2742163-37ba-421a-b519-c91207df731b button.colab-df-convert');\n",
              "        buttonEl.style.display =\n",
              "          google.colab.kernel.accessAllowed ? 'block' : 'none';\n",
              "\n",
              "        async function convertToInteractive(key) {\n",
              "          const element = document.querySelector('#df-c2742163-37ba-421a-b519-c91207df731b');\n",
              "          const dataTable =\n",
              "            await google.colab.kernel.invokeFunction('convertToInteractive',\n",
              "                                                     [key], {});\n",
              "          if (!dataTable) return;\n",
              "\n",
              "          const docLinkHtml = 'Like what you see? Visit the ' +\n",
              "            '<a target=\"_blank\" href=https://colab.research.google.com/notebooks/data_table.ipynb>data table notebook</a>'\n",
              "            + ' to learn more about interactive tables.';\n",
              "          element.innerHTML = '';\n",
              "          dataTable['output_type'] = 'display_data';\n",
              "          await google.colab.output.renderOutput(dataTable, element);\n",
              "          const docLink = document.createElement('div');\n",
              "          docLink.innerHTML = docLinkHtml;\n",
              "          element.appendChild(docLink);\n",
              "        }\n",
              "      </script>\n",
              "    </div>\n",
              "  </div>\n",
              "  "
            ]
          },
          "metadata": {},
          "execution_count": 195
        }
      ]
    },
    {
      "cell_type": "code",
      "source": [
        "import seaborn as sns       #importing seaborn for plotting heatmap"
      ],
      "metadata": {
        "id": "icMXtB-EG4KH"
      },
      "execution_count": 196,
      "outputs": []
    },
    {
      "cell_type": "code",
      "source": [
        "corr=df.iloc[:,:-1].corr(method='pearson')       # finding correlation between columns\n",
        "cmap=sns.diverging_palette(250,354,80,60,center='dark',as_cmap=True)    # plotting the heatmap\n",
        "sns.heatmap(corr,vmax=1,vmin=-.5,cmap=cmap,square=True,Linewidths=.2)"
      ],
      "metadata": {
        "colab": {
          "base_uri": "https://localhost:8080/",
          "height": 320
        },
        "id": "8aoFXRnhLbVU",
        "outputId": "d1c8f333-57ef-4458-85c0-63436e11fc35"
      },
      "execution_count": 197,
      "outputs": [
        {
          "output_type": "execute_result",
          "data": {
            "text/plain": [
              "<matplotlib.axes._subplots.AxesSubplot at 0x7f53b766f550>"
            ]
          },
          "metadata": {},
          "execution_count": 197
        },
        {
          "output_type": "display_data",
          "data": {
            "text/plain": [
              "<Figure size 432x288 with 2 Axes>"
            ],
            "image/png": "[encoded data removed]"
          },
          "metadata": {
            "needs_background": "light"
          }
        }
      ]
    },
    {
      "cell_type": "code",
      "source": [
        "df.corr()['Survived'].sort_values(ascending=False)   # finding correlation of target column with other columns in a sorted order"
      ],
      "metadata": {
        "colab": {
          "base_uri": "https://localhost:8080/"
        },
        "id": "uqB73O1PNOVD",
        "outputId": "24fa1c78-fc91-47b0-cbfe-8af7d95b2ab7"
      },
      "execution_count": 198,
      "outputs": [
        {
          "output_type": "execute_result",
          "data": {
            "text/plain": [
              "Survived    1.000000\n",
              "Fare        0.255290\n",
              "Parch       0.083151\n",
              "SibSp      -0.034040\n",
              "Age        -0.074673\n",
              "Embarked   -0.169718\n",
              "Pclass     -0.335549\n",
              "Sex        -0.541585\n",
              "Name: Survived, dtype: float64"
            ]
          },
          "metadata": {},
          "execution_count": 198
        }
      ]
    },
    {
      "cell_type": "code",
      "source": [
        "def plot_grid(data,data_columns,shape,figure_size):                     # function for plotting histogram\n",
        "  data_columns=np.array(data_columns).reshape(shape[0],shape[1])\n",
        "  fig,axes=plt.subplots(shape[0],shape[1],figsize=figure_size)\n",
        "  for i in range(data_columns.shape[0]):\n",
        "    for j in range(data_columns.shape[1]):\n",
        "      sns.histplot(data=data,x=data_columns[i,j],hue='Survived',stat='density',bins=5,kde=True,palette=[sns.color_palette()[3],sns.color_palette()[0]],element='step',ax=axes[i,j])"
      ],
      "metadata": {
        "id": "hj4uvcxxD2SH"
      },
      "execution_count": 199,
      "outputs": []
    },
    {
      "cell_type": "code",
      "source": [
        "df_columns=df.columns                                    # plotting the histogram for checking the dependencies between individual feature and the target column\n",
        "plot_grid(df,df_columns,shape=(4,2),figure_size=(15,15))"
      ],
      "metadata": {
        "colab": {
          "base_uri": "https://localhost:8080/",
          "height": 877
        },
        "id": "xag2fyG6G9Wc",
        "outputId": "4a847745-fc00-4b33-ed4f-b4664f290518"
      },
      "execution_count": 200,
      "outputs": [
        {
          "output_type": "display_data",
          "data": {
            "text/plain": [
              "<Figure size 1080x1080 with 8 Axes>"
            ],
            "image/png": "[encoded data removed]"
          },
          "metadata": {
            "needs_background": "light"
          }
        }
      ]
    },
    {
      "cell_type": "code",
      "source": [
        "import math   "
      ],
      "metadata": {
        "id": "TaQRYRthqKZ2"
      },
      "execution_count": 201,
      "outputs": []
    },
    {
      "cell_type": "markdown",
      "source": [
        "# **Train and Test Split**"
      ],
      "metadata": {
        "id": "SAyUHjYVJBK5"
      }
    },
    {
      "cell_type": "code",
      "source": [
        "ntrain=math.floor(0.8*df.shape[0])          #spliting the dataset into training(80%) and testing data(20%)\n",
        "train=df[:ntrain]\n",
        "test=df[ntrain:]\n",
        "\n",
        "print(df.shape)\n",
        "print(train.shape)\n",
        "print(test.shape)\n"
      ],
      "metadata": {
        "colab": {
          "base_uri": "https://localhost:8080/"
        },
        "id": "wLrVyXx5Jage",
        "outputId": "08942987-e60c-499f-d658-d1fe564a713f"
      },
      "execution_count": 202,
      "outputs": [
        {
          "output_type": "stream",
          "name": "stdout",
          "text": [
            "(889, 8)\n",
            "(711, 8)\n",
            "(178, 8)\n"
          ]
        }
      ]
    },
    {
      "cell_type": "markdown",
      "source": [
        "# **function for finding prior probability**"
      ],
      "metadata": {
        "id": "ia1lZzQPJKz2"
      }
    },
    {
      "cell_type": "code",
      "source": [
        "def prior(data,target):               # function for finding the prior probability\n",
        "  out=sorted(list(data[target].unique()))\n",
        "  pr=[]\n",
        "  for i in out:\n",
        "    pr.append(len(data[data[target]==i]) / len(data))\n",
        "\n",
        "  return pr\n"
      ],
      "metadata": {
        "id": "boa6VKnN2kON"
      },
      "execution_count": 203,
      "outputs": []
    },
    {
      "cell_type": "markdown",
      "source": [
        "# **function for finding maximum likelihood**"
      ],
      "metadata": {
        "id": "sHHGL6xbJZcp"
      }
    },
    {
      "cell_type": "code",
      "source": [
        "def mle(data,x,y,Y,lbl):   # function for finding the likelihood\n",
        "  data=data[data[Y]==lbl]\n",
        "  p=len(data[data[x]==y])/len(data)\n",
        "\n",
        "  return p "
      ],
      "metadata": {
        "id": "0jIHbSHrssU0"
      },
      "execution_count": 204,
      "outputs": []
    },
    {
      "cell_type": "markdown",
      "source": [
        "# **function for applying naive bayes**"
      ],
      "metadata": {
        "id": "cyhUrLoyJlVI"
      }
    },
    {
      "cell_type": "code",
      "source": [
        "def nb(data,X,Y):    #function for applying  naive bayes \n",
        "  feature=list(data.columns)[1:]\n",
        "  pr=prior(data,Y)\n",
        "  ypred_nb=[]\n",
        "\n",
        "  for i in X:\n",
        "    lbl=sorted(list(data[Y].unique()))\n",
        "    lkl=[1]*len(lbl)\n",
        "\n",
        "    for j in range(len(lbl)):\n",
        "      for k in range(len(feature)):\n",
        "        lkl[j]=lkl[j]*mle(data,feature[k],i[k],Y,lbl[j])\n",
        "        \n",
        "\n",
        "    post_pb= [1]* len(lbl)\n",
        "    for u in range(len(lbl)):\n",
        "      post_pb[u]=lkl[u]*pr[u]\n",
        "    \n",
        "    ypred_nb.append(np.argmax(post_pb))\n",
        "\n",
        "  return np.array(ypred_nb)"
      ],
      "metadata": {
        "id": "IcYsXMMOtqBZ"
      },
      "execution_count": 205,
      "outputs": []
    },
    {
      "cell_type": "code",
      "source": [
        "X_test=test.iloc[:,1:].values     #getting values for testing\n",
        "Y_test=test.iloc[:,0].values\n",
        "# print(X_test)\n",
        "# print(Y_test)\n",
        "# print(X_test.shape)\n",
        "# print(Y_test.shape)\n",
        "\n"
      ],
      "metadata": {
        "id": "_xnQNJa_CK7X"
      },
      "execution_count": 206,
      "outputs": []
    },
    {
      "cell_type": "code",
      "source": [
        "y_pred=nb(train,X_test,'Survived')   #predicting the values"
      ],
      "metadata": {
        "id": "CkZt_j8qASNU"
      },
      "execution_count": 207,
      "outputs": []
    },
    {
      "cell_type": "markdown",
      "source": [
        "True positive,true negative,false positive and false negative"
      ],
      "metadata": {
        "id": "aXTp6HZKxKQd"
      }
    },
    {
      "cell_type": "code",
      "source": [
        "def cmp(Y,Ypred):                       \n",
        "  tpv=sum((Ypred==1)&(Y==1))\n",
        "  tnv=sum((Ypred==0)&(Y==0))\n",
        "  \n",
        "  fpv=sum((Ypred==0)&(Y==1))\n",
        "  fnv=sum((Ypred==0)&(Y==0))\n",
        "\n",
        "  return tpv,tnv,fpv,fnv\n"
      ],
      "metadata": {
        "id": "eOx6Ng0T2tz3"
      },
      "execution_count": 208,
      "outputs": []
    },
    {
      "cell_type": "code",
      "source": [
        "tpv,tnv,fpv,fnv=cmp(Y_test,y_pred)         \n",
        "\n",
        "print(tpv,tnv,fpv,fnv)"
      ],
      "metadata": {
        "colab": {
          "base_uri": "https://localhost:8080/"
        },
        "id": "178IB-ug-00E",
        "outputId": "e8770f19-ef5a-492b-a6f1-e7a02b26ff83"
      },
      "execution_count": 209,
      "outputs": [
        {
          "output_type": "stream",
          "name": "stdout",
          "text": [
            "34 104 29 104\n"
          ]
        }
      ]
    },
    {
      "cell_type": "markdown",
      "source": [
        "# **function for computing F1 score**"
      ],
      "metadata": {
        "id": "K3PwyHsMJ6_5"
      }
    },
    {
      "cell_type": "code",
      "source": [
        "def f1(tp,fp,fn):   #function for calculating the F1 score\n",
        "  prec=tp/(fp+tp)\n",
        "  recll=tp/(tp+fn)\n",
        "\n",
        "  accr=(2*prec*recll)/(prec+recll)\n",
        "  accr=accr*100\n",
        "\n",
        "  err=100-accr\n",
        "  return accr,err"
      ],
      "metadata": {
        "id": "oGge_nV4DGz0"
      },
      "execution_count": 210,
      "outputs": []
    },
    {
      "cell_type": "code",
      "source": [
        "acc,err=f1(tpv,fpv,fnv)   #getting accuracy and error"
      ],
      "metadata": {
        "id": "Sr4HxI9oDado"
      },
      "execution_count": 211,
      "outputs": []
    },
    {
      "cell_type": "code",
      "source": [
        "print(\"accuracy:\",acc)\n",
        "print(\"error:\",err)"
      ],
      "metadata": {
        "colab": {
          "base_uri": "https://localhost:8080/"
        },
        "id": "UhxyGCQ70Rjo",
        "outputId": "bc384c55-1f6a-4c9e-bb64-a02ea5a9fa7e"
      },
      "execution_count": 212,
      "outputs": [
        {
          "output_type": "stream",
          "name": "stdout",
          "text": [
            "accuracy: 33.83084577114428\n",
            "error: 66.16915422885572\n"
          ]
        }
      ]
    },
    {
      "cell_type": "code",
      "source": [],
      "metadata": {
        "id": "UB_NL4RWCQiD"
      },
      "execution_count": null,
      "outputs": []
    }
  ]
}