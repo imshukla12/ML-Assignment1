{
  "nbformat": 4,
  "nbformat_minor": 0,
  "metadata": {
    "colab": {
      "provenance": []
    },
    "kernelspec": {
      "name": "python3",
      "display_name": "Python 3"
    },
    "language_info": {
      "name": "python"
    }
  },
  "cells": [
    {
      "cell_type": "code",
      "execution_count": 3,
      "metadata": {
        "id": "qdOmWDR_eFo1"
      },
      "outputs": [],
      "source": [
        "import numpy as np                     #importing libraries\n",
        "import pandas as pd\n",
        "import matplotlib.pyplot as plt\n",
        "%matplotlib inline\n",
        "import math"
      ]
    },
    {
      "cell_type": "code",
      "source": [
        "from google.colab import drive\n",
        "drive.mount('/content/drive')"
      ],
      "metadata": {
        "colab": {
          "base_uri": "https://localhost:8080/"
        },
        "id": "MfB8VS8teVf4",
        "outputId": "01c9c701-43f0-46a6-92bc-a3e85d508070"
      },
      "execution_count": 4,
      "outputs": [
        {
          "output_type": "stream",
          "name": "stdout",
          "text": [
            "Mounted at /content/drive\n"
          ]
        }
      ]
    },
    {
      "cell_type": "markdown",
      "source": [
        "#**Data Preprocessing**"
      ],
      "metadata": {
        "id": "dUbx_Y5FgBMP"
      }
    },
    {
      "cell_type": "code",
      "source": [
        "data=pd.read_csv('/content/drive/MyDrive/ML_Assignment/diamonds.csv')        #reading the dataset"
      ],
      "metadata": {
        "id": "A65LvfN1ex0A"
      },
      "execution_count": 5,
      "outputs": []
    },
    {
      "cell_type": "code",
      "source": [
        "data.head(15)"
      ],
      "metadata": {
        "colab": {
          "base_uri": "https://localhost:8080/",
          "height": 520
        },
        "id": "b8Jh1Lajfvoq",
        "outputId": "5122d5db-ede2-4ef6-f7f9-d0a435d2f6f7"
      },
      "execution_count": 6,
      "outputs": [
        {
          "output_type": "execute_result",
          "data": {
            "text/plain": [
              "    Unnamed: 0  carat        cut color clarity  depth  table     x     y  \\\n",
              "0            1   0.23      Ideal     E     SI2   61.5   55.0  3.95  3.98   \n",
              "1            2   0.21    Premium     E     SI1   59.8   61.0  3.89  3.84   \n",
              "2            3   0.23       Good     E     VS1   56.9   65.0  4.05  4.07   \n",
              "3            4   0.29    Premium     I     VS2   62.4   58.0  4.20  4.23   \n",
              "4            5   0.31       Good     J     SI2   63.3   58.0  4.34  4.35   \n",
              "5            6   0.24  Very Good     J    VVS2   62.8   57.0  3.94  3.96   \n",
              "6            7   0.24  Very Good     I    VVS1   62.3   57.0  3.95  3.98   \n",
              "7            8   0.26  Very Good     H     SI1   61.9   55.0  4.07  4.11   \n",
              "8            9   0.22       Fair     E     VS2   65.1   61.0  3.87  3.78   \n",
              "9           10   0.23  Very Good     H     VS1   59.4   61.0  4.00  4.05   \n",
              "10          11   0.30       Good     J     SI1   64.0   55.0  4.25  4.28   \n",
              "11          12   0.23      Ideal     J     VS1   62.8   56.0  3.93  3.90   \n",
              "12          13   0.22    Premium     F     SI1   60.4   61.0  3.88  3.84   \n",
              "13          14   0.31      Ideal     J     SI2   62.2   54.0  4.35  4.37   \n",
              "14          15   0.20    Premium     E     SI2   60.2   62.0  3.79  3.75   \n",
              "\n",
              "       z  price  \n",
              "0   2.43    326  \n",
              "1   2.31    326  \n",
              "2   2.31    327  \n",
              "3   2.63    334  \n",
              "4   2.75    335  \n",
              "5   2.48    336  \n",
              "6   2.47    336  \n",
              "7   2.53    337  \n",
              "8   2.49    337  \n",
              "9   2.39    338  \n",
              "10  2.73    339  \n",
              "11  2.46    340  \n",
              "12  2.33    342  \n",
              "13  2.71    344  \n",
              "14  2.27    345  "
            ],
            "text/html": [
              "\n",
              "  <div id=\"df-82e07ade-a396-4171-9913-fbff7066cacc\">\n",
              "    <div class=\"colab-df-container\">\n",
              "      <div>\n",
              "<style scoped>\n",
              "    .dataframe tbody tr th:only-of-type {\n",
              "        vertical-align: middle;\n",
              "    }\n",
              "\n",
              "    .dataframe tbody tr th {\n",
              "        vertical-align: top;\n",
              "    }\n",
              "\n",
              "    .dataframe thead th {\n",
              "        text-align: right;\n",
              "    }\n",
              "</style>\n",
              "<table border=\"1\" class=\"dataframe\">\n",
              "  <thead>\n",
              "    <tr style=\"text-align: right;\">\n",
              "      <th></th>\n",
              "      <th>Unnamed: 0</th>\n",
              "      <th>carat</th>\n",
              "      <th>cut</th>\n",
              "      <th>color</th>\n",
              "      <th>clarity</th>\n",
              "      <th>depth</th>\n",
              "      <th>table</th>\n",
              "      <th>x</th>\n",
              "      <th>y</th>\n",
              "      <th>z</th>\n",
              "      <th>price</th>\n",
              "    </tr>\n",
              "  </thead>\n",
              "  <tbody>\n",
              "    <tr>\n",
              "      <th>0</th>\n",
              "      <td>1</td>\n",
              "      <td>0.23</td>\n",
              "      <td>Ideal</td>\n",
              "      <td>E</td>\n",
              "      <td>SI2</td>\n",
              "      <td>61.5</td>\n",
              "      <td>55.0</td>\n",
              "      <td>3.95</td>\n",
              "      <td>3.98</td>\n",
              "      <td>2.43</td>\n",
              "      <td>326</td>\n",
              "    </tr>\n",
              "    <tr>\n",
              "      <th>1</th>\n",
              "      <td>2</td>\n",
              "      <td>0.21</td>\n",
              "      <td>Premium</td>\n",
              "      <td>E</td>\n",
              "      <td>SI1</td>\n",
              "      <td>59.8</td>\n",
              "      <td>61.0</td>\n",
              "      <td>3.89</td>\n",
              "      <td>3.84</td>\n",
              "      <td>2.31</td>\n",
              "      <td>326</td>\n",
              "    </tr>\n",
              "    <tr>\n",
              "      <th>2</th>\n",
              "      <td>3</td>\n",
              "      <td>0.23</td>\n",
              "      <td>Good</td>\n",
              "      <td>E</td>\n",
              "      <td>VS1</td>\n",
              "      <td>56.9</td>\n",
              "      <td>65.0</td>\n",
              "      <td>4.05</td>\n",
              "      <td>4.07</td>\n",
              "      <td>2.31</td>\n",
              "      <td>327</td>\n",
              "    </tr>\n",
              "    <tr>\n",
              "      <th>3</th>\n",
              "      <td>4</td>\n",
              "      <td>0.29</td>\n",
              "      <td>Premium</td>\n",
              "      <td>I</td>\n",
              "      <td>VS2</td>\n",
              "      <td>62.4</td>\n",
              "      <td>58.0</td>\n",
              "      <td>4.20</td>\n",
              "      <td>4.23</td>\n",
              "      <td>2.63</td>\n",
              "      <td>334</td>\n",
              "    </tr>\n",
              "    <tr>\n",
              "      <th>4</th>\n",
              "      <td>5</td>\n",
              "      <td>0.31</td>\n",
              "      <td>Good</td>\n",
              "      <td>J</td>\n",
              "      <td>SI2</td>\n",
              "      <td>63.3</td>\n",
              "      <td>58.0</td>\n",
              "      <td>4.34</td>\n",
              "      <td>4.35</td>\n",
              "      <td>2.75</td>\n",
              "      <td>335</td>\n",
              "    </tr>\n",
              "    <tr>\n",
              "      <th>5</th>\n",
              "      <td>6</td>\n",
              "      <td>0.24</td>\n",
              "      <td>Very Good</td>\n",
              "      <td>J</td>\n",
              "      <td>VVS2</td>\n",
              "      <td>62.8</td>\n",
              "      <td>57.0</td>\n",
              "      <td>3.94</td>\n",
              "      <td>3.96</td>\n",
              "      <td>2.48</td>\n",
              "      <td>336</td>\n",
              "    </tr>\n",
              "    <tr>\n",
              "      <th>6</th>\n",
              "      <td>7</td>\n",
              "      <td>0.24</td>\n",
              "      <td>Very Good</td>\n",
              "      <td>I</td>\n",
              "      <td>VVS1</td>\n",
              "      <td>62.3</td>\n",
              "      <td>57.0</td>\n",
              "      <td>3.95</td>\n",
              "      <td>3.98</td>\n",
              "      <td>2.47</td>\n",
              "      <td>336</td>\n",
              "    </tr>\n",
              "    <tr>\n",
              "      <th>7</th>\n",
              "      <td>8</td>\n",
              "      <td>0.26</td>\n",
              "      <td>Very Good</td>\n",
              "      <td>H</td>\n",
              "      <td>SI1</td>\n",
              "      <td>61.9</td>\n",
              "      <td>55.0</td>\n",
              "      <td>4.07</td>\n",
              "      <td>4.11</td>\n",
              "      <td>2.53</td>\n",
              "      <td>337</td>\n",
              "    </tr>\n",
              "    <tr>\n",
              "      <th>8</th>\n",
              "      <td>9</td>\n",
              "      <td>0.22</td>\n",
              "      <td>Fair</td>\n",
              "      <td>E</td>\n",
              "      <td>VS2</td>\n",
              "      <td>65.1</td>\n",
              "      <td>61.0</td>\n",
              "      <td>3.87</td>\n",
              "      <td>3.78</td>\n",
              "      <td>2.49</td>\n",
              "      <td>337</td>\n",
              "    </tr>\n",
              "    <tr>\n",
              "      <th>9</th>\n",
              "      <td>10</td>\n",
              "      <td>0.23</td>\n",
              "      <td>Very Good</td>\n",
              "      <td>H</td>\n",
              "      <td>VS1</td>\n",
              "      <td>59.4</td>\n",
              "      <td>61.0</td>\n",
              "      <td>4.00</td>\n",
              "      <td>4.05</td>\n",
              "      <td>2.39</td>\n",
              "      <td>338</td>\n",
              "    </tr>\n",
              "    <tr>\n",
              "      <th>10</th>\n",
              "      <td>11</td>\n",
              "      <td>0.30</td>\n",
              "      <td>Good</td>\n",
              "      <td>J</td>\n",
              "      <td>SI1</td>\n",
              "      <td>64.0</td>\n",
              "      <td>55.0</td>\n",
              "      <td>4.25</td>\n",
              "      <td>4.28</td>\n",
              "      <td>2.73</td>\n",
              "      <td>339</td>\n",
              "    </tr>\n",
              "    <tr>\n",
              "      <th>11</th>\n",
              "      <td>12</td>\n",
              "      <td>0.23</td>\n",
              "      <td>Ideal</td>\n",
              "      <td>J</td>\n",
              "      <td>VS1</td>\n",
              "      <td>62.8</td>\n",
              "      <td>56.0</td>\n",
              "      <td>3.93</td>\n",
              "      <td>3.90</td>\n",
              "      <td>2.46</td>\n",
              "      <td>340</td>\n",
              "    </tr>\n",
              "    <tr>\n",
              "      <th>12</th>\n",
              "      <td>13</td>\n",
              "      <td>0.22</td>\n",
              "      <td>Premium</td>\n",
              "      <td>F</td>\n",
              "      <td>SI1</td>\n",
              "      <td>60.4</td>\n",
              "      <td>61.0</td>\n",
              "      <td>3.88</td>\n",
              "      <td>3.84</td>\n",
              "      <td>2.33</td>\n",
              "      <td>342</td>\n",
              "    </tr>\n",
              "    <tr>\n",
              "      <th>13</th>\n",
              "      <td>14</td>\n",
              "      <td>0.31</td>\n",
              "      <td>Ideal</td>\n",
              "      <td>J</td>\n",
              "      <td>SI2</td>\n",
              "      <td>62.2</td>\n",
              "      <td>54.0</td>\n",
              "      <td>4.35</td>\n",
              "      <td>4.37</td>\n",
              "      <td>2.71</td>\n",
              "      <td>344</td>\n",
              "    </tr>\n",
              "    <tr>\n",
              "      <th>14</th>\n",
              "      <td>15</td>\n",
              "      <td>0.20</td>\n",
              "      <td>Premium</td>\n",
              "      <td>E</td>\n",
              "      <td>SI2</td>\n",
              "      <td>60.2</td>\n",
              "      <td>62.0</td>\n",
              "      <td>3.79</td>\n",
              "      <td>3.75</td>\n",
              "      <td>2.27</td>\n",
              "      <td>345</td>\n",
              "    </tr>\n",
              "  </tbody>\n",
              "</table>\n",
              "</div>\n",
              "      <button class=\"colab-df-convert\" onclick=\"convertToInteractive('df-82e07ade-a396-4171-9913-fbff7066cacc')\"\n",
              "              title=\"Convert this dataframe to an interactive table.\"\n",
              "              style=\"display:none;\">\n",
              "        \n",
              "  <svg xmlns=\"http://www.w3.org/2000/svg\" height=\"24px\"viewBox=\"0 0 24 24\"\n",
              "       width=\"24px\">\n",
              "    <path d=\"M0 0h24v24H0V0z\" fill=\"none\"/>\n",
              "    <path d=\"M18.56 5.44l.94 2.06.94-2.06 2.06-.94-2.06-.94-.94-2.06-.94 2.06-2.06.94zm-11 1L8.5 8.5l.94-2.06 2.06-.94-2.06-.94L8.5 2.5l-.94 2.06-2.06.94zm10 10l.94 2.06.94-2.06 2.06-.94-2.06-.94-.94-2.06-.94 2.06-2.06.94z\"/><path d=\"M17.41 7.96l-1.37-1.37c-.4-.4-.92-.59-1.43-.59-.52 0-1.04.2-1.43.59L10.3 9.45l-7.72 7.72c-.78.78-.78 2.05 0 2.83L4 21.41c.39.39.9.59 1.41.59.51 0 1.02-.2 1.41-.59l7.78-7.78 2.81-2.81c.8-.78.8-2.07 0-2.86zM5.41 20L4 18.59l7.72-7.72 1.47 1.35L5.41 20z\"/>\n",
              "  </svg>\n",
              "      </button>\n",
              "      \n",
              "  <style>\n",
              "    .colab-df-container {\n",
              "      display:flex;\n",
              "      flex-wrap:wrap;\n",
              "      gap: 12px;\n",
              "    }\n",
              "\n",
              "    .colab-df-convert {\n",
              "      background-color: #E8F0FE;\n",
              "      border: none;\n",
              "      border-radius: 50%;\n",
              "      cursor: pointer;\n",
              "      display: none;\n",
              "      fill: #1967D2;\n",
              "      height: 32px;\n",
              "      padding: 0 0 0 0;\n",
              "      width: 32px;\n",
              "    }\n",
              "\n",
              "    .colab-df-convert:hover {\n",
              "      background-color: #E2EBFA;\n",
              "      box-shadow: 0px 1px 2px rgba(60, 64, 67, 0.3), 0px 1px 3px 1px rgba(60, 64, 67, 0.15);\n",
              "      fill: #174EA6;\n",
              "    }\n",
              "\n",
              "    [theme=dark] .colab-df-convert {\n",
              "      background-color: #3B4455;\n",
              "      fill: #D2E3FC;\n",
              "    }\n",
              "\n",
              "    [theme=dark] .colab-df-convert:hover {\n",
              "      background-color: #434B5C;\n",
              "      box-shadow: 0px 1px 3px 1px rgba(0, 0, 0, 0.15);\n",
              "      filter: drop-shadow(0px 1px 2px rgba(0, 0, 0, 0.3));\n",
              "      fill: #FFFFFF;\n",
              "    }\n",
              "  </style>\n",
              "\n",
              "      <script>\n",
              "        const buttonEl =\n",
              "          document.querySelector('#df-82e07ade-a396-4171-9913-fbff7066cacc button.colab-df-convert');\n",
              "        buttonEl.style.display =\n",
              "          google.colab.kernel.accessAllowed ? 'block' : 'none';\n",
              "\n",
              "        async function convertToInteractive(key) {\n",
              "          const element = document.querySelector('#df-82e07ade-a396-4171-9913-fbff7066cacc');\n",
              "          const dataTable =\n",
              "            await google.colab.kernel.invokeFunction('convertToInteractive',\n",
              "                                                     [key], {});\n",
              "          if (!dataTable) return;\n",
              "\n",
              "          const docLinkHtml = 'Like what you see? Visit the ' +\n",
              "            '<a target=\"_blank\" href=https://colab.research.google.com/notebooks/data_table.ipynb>data table notebook</a>'\n",
              "            + ' to learn more about interactive tables.';\n",
              "          element.innerHTML = '';\n",
              "          dataTable['output_type'] = 'display_data';\n",
              "          await google.colab.output.renderOutput(dataTable, element);\n",
              "          const docLink = document.createElement('div');\n",
              "          docLink.innerHTML = docLinkHtml;\n",
              "          element.appendChild(docLink);\n",
              "        }\n",
              "      </script>\n",
              "    </div>\n",
              "  </div>\n",
              "  "
            ]
          },
          "metadata": {},
          "execution_count": 6
        }
      ]
    },
    {
      "cell_type": "code",
      "source": [
        "data.isna().sum()    # no null values present"
      ],
      "metadata": {
        "colab": {
          "base_uri": "https://localhost:8080/"
        },
        "id": "l7M1gxw4fzNk",
        "outputId": "3c8e483b-7f48-4dea-bf3d-028ea9dd329b"
      },
      "execution_count": 7,
      "outputs": [
        {
          "output_type": "execute_result",
          "data": {
            "text/plain": [
              "Unnamed: 0    0\n",
              "carat         0\n",
              "cut           0\n",
              "color         0\n",
              "clarity       0\n",
              "depth         0\n",
              "table         0\n",
              "x             0\n",
              "y             0\n",
              "z             0\n",
              "price         0\n",
              "dtype: int64"
            ]
          },
          "metadata": {},
          "execution_count": 7
        }
      ]
    },
    {
      "cell_type": "code",
      "source": [
        "print(data['cut'].unique())                     #checking the unique values of categorical data\n",
        "print(data['color'].unique())\n",
        "print(data['clarity'].unique())         "
      ],
      "metadata": {
        "colab": {
          "base_uri": "https://localhost:8080/"
        },
        "id": "GMygwlM-gvXc",
        "outputId": "ed6d43a9-c0fb-4582-97f2-4e7cd647b481"
      },
      "execution_count": 8,
      "outputs": [
        {
          "output_type": "stream",
          "name": "stdout",
          "text": [
            "['Ideal' 'Premium' 'Good' 'Very Good' 'Fair']\n",
            "['E' 'I' 'J' 'H' 'F' 'G' 'D']\n",
            "['SI2' 'SI1' 'VS1' 'VS2' 'VVS2' 'VVS1' 'I1' 'IF']\n"
          ]
        }
      ]
    },
    {
      "cell_type": "markdown",
      "source": [
        "# **Label Encoding**"
      ],
      "metadata": {
        "id": "klh6D1RHhYf2"
      }
    },
    {
      "cell_type": "code",
      "source": [
        "from sklearn.preprocessing import LabelEncoder       # encoding the categorical data\n",
        "le=LabelEncoder()\n",
        "l1=le.fit_transform(data['cut'])\n",
        "l2=le.fit_transform(data['color'])\n",
        "l3=le.fit_transform(data['clarity'])\n"
      ],
      "metadata": {
        "id": "5TwdWSz1hNNQ"
      },
      "execution_count": 9,
      "outputs": []
    },
    {
      "cell_type": "code",
      "source": [
        "data=data.drop(['cut','color','clarity'],axis=1)     # dropping the columns which are encoded"
      ],
      "metadata": {
        "id": "DI3QpFa-hjp2"
      },
      "execution_count": 10,
      "outputs": []
    },
    {
      "cell_type": "code",
      "source": [
        "data['cut']=l1                     # adding the encoded labeled column\n",
        "data['color']=l2\n",
        "data['clarity']=l3"
      ],
      "metadata": {
        "id": "9TOuJha5ht2y"
      },
      "execution_count": 11,
      "outputs": []
    },
    {
      "cell_type": "code",
      "source": [
        "data.head()"
      ],
      "metadata": {
        "colab": {
          "base_uri": "https://localhost:8080/",
          "height": 206
        },
        "id": "6_CWArFIh88O",
        "outputId": "b1897907-7e74-4de6-8c87-36fe0f5193b3"
      },
      "execution_count": 12,
      "outputs": [
        {
          "output_type": "execute_result",
          "data": {
            "text/plain": [
              "   Unnamed: 0  carat  depth  table     x     y     z  price  cut  color  \\\n",
              "0           1   0.23   61.5   55.0  3.95  3.98  2.43    326    2      1   \n",
              "1           2   0.21   59.8   61.0  3.89  3.84  2.31    326    3      1   \n",
              "2           3   0.23   56.9   65.0  4.05  4.07  2.31    327    1      1   \n",
              "3           4   0.29   62.4   58.0  4.20  4.23  2.63    334    3      5   \n",
              "4           5   0.31   63.3   58.0  4.34  4.35  2.75    335    1      6   \n",
              "\n",
              "   clarity  \n",
              "0        3  \n",
              "1        2  \n",
              "2        4  \n",
              "3        5  \n",
              "4        3  "
            ],
            "text/html": [
              "\n",
              "  <div id=\"df-e12cf6df-0e18-4b3d-9b8c-721e07c9f023\">\n",
              "    <div class=\"colab-df-container\">\n",
              "      <div>\n",
              "<style scoped>\n",
              "    .dataframe tbody tr th:only-of-type {\n",
              "        vertical-align: middle;\n",
              "    }\n",
              "\n",
              "    .dataframe tbody tr th {\n",
              "        vertical-align: top;\n",
              "    }\n",
              "\n",
              "    .dataframe thead th {\n",
              "        text-align: right;\n",
              "    }\n",
              "</style>\n",
              "<table border=\"1\" class=\"dataframe\">\n",
              "  <thead>\n",
              "    <tr style=\"text-align: right;\">\n",
              "      <th></th>\n",
              "      <th>Unnamed: 0</th>\n",
              "      <th>carat</th>\n",
              "      <th>depth</th>\n",
              "      <th>table</th>\n",
              "      <th>x</th>\n",
              "      <th>y</th>\n",
              "      <th>z</th>\n",
              "      <th>price</th>\n",
              "      <th>cut</th>\n",
              "      <th>color</th>\n",
              "      <th>clarity</th>\n",
              "    </tr>\n",
              "  </thead>\n",
              "  <tbody>\n",
              "    <tr>\n",
              "      <th>0</th>\n",
              "      <td>1</td>\n",
              "      <td>0.23</td>\n",
              "      <td>61.5</td>\n",
              "      <td>55.0</td>\n",
              "      <td>3.95</td>\n",
              "      <td>3.98</td>\n",
              "      <td>2.43</td>\n",
              "      <td>326</td>\n",
              "      <td>2</td>\n",
              "      <td>1</td>\n",
              "      <td>3</td>\n",
              "    </tr>\n",
              "    <tr>\n",
              "      <th>1</th>\n",
              "      <td>2</td>\n",
              "      <td>0.21</td>\n",
              "      <td>59.8</td>\n",
              "      <td>61.0</td>\n",
              "      <td>3.89</td>\n",
              "      <td>3.84</td>\n",
              "      <td>2.31</td>\n",
              "      <td>326</td>\n",
              "      <td>3</td>\n",
              "      <td>1</td>\n",
              "      <td>2</td>\n",
              "    </tr>\n",
              "    <tr>\n",
              "      <th>2</th>\n",
              "      <td>3</td>\n",
              "      <td>0.23</td>\n",
              "      <td>56.9</td>\n",
              "      <td>65.0</td>\n",
              "      <td>4.05</td>\n",
              "      <td>4.07</td>\n",
              "      <td>2.31</td>\n",
              "      <td>327</td>\n",
              "      <td>1</td>\n",
              "      <td>1</td>\n",
              "      <td>4</td>\n",
              "    </tr>\n",
              "    <tr>\n",
              "      <th>3</th>\n",
              "      <td>4</td>\n",
              "      <td>0.29</td>\n",
              "      <td>62.4</td>\n",
              "      <td>58.0</td>\n",
              "      <td>4.20</td>\n",
              "      <td>4.23</td>\n",
              "      <td>2.63</td>\n",
              "      <td>334</td>\n",
              "      <td>3</td>\n",
              "      <td>5</td>\n",
              "      <td>5</td>\n",
              "    </tr>\n",
              "    <tr>\n",
              "      <th>4</th>\n",
              "      <td>5</td>\n",
              "      <td>0.31</td>\n",
              "      <td>63.3</td>\n",
              "      <td>58.0</td>\n",
              "      <td>4.34</td>\n",
              "      <td>4.35</td>\n",
              "      <td>2.75</td>\n",
              "      <td>335</td>\n",
              "      <td>1</td>\n",
              "      <td>6</td>\n",
              "      <td>3</td>\n",
              "    </tr>\n",
              "  </tbody>\n",
              "</table>\n",
              "</div>\n",
              "      <button class=\"colab-df-convert\" onclick=\"convertToInteractive('df-e12cf6df-0e18-4b3d-9b8c-721e07c9f023')\"\n",
              "              title=\"Convert this dataframe to an interactive table.\"\n",
              "              style=\"display:none;\">\n",
              "        \n",
              "  <svg xmlns=\"http://www.w3.org/2000/svg\" height=\"24px\"viewBox=\"0 0 24 24\"\n",
              "       width=\"24px\">\n",
              "    <path d=\"M0 0h24v24H0V0z\" fill=\"none\"/>\n",
              "    <path d=\"M18.56 5.44l.94 2.06.94-2.06 2.06-.94-2.06-.94-.94-2.06-.94 2.06-2.06.94zm-11 1L8.5 8.5l.94-2.06 2.06-.94-2.06-.94L8.5 2.5l-.94 2.06-2.06.94zm10 10l.94 2.06.94-2.06 2.06-.94-2.06-.94-.94-2.06-.94 2.06-2.06.94z\"/><path d=\"M17.41 7.96l-1.37-1.37c-.4-.4-.92-.59-1.43-.59-.52 0-1.04.2-1.43.59L10.3 9.45l-7.72 7.72c-.78.78-.78 2.05 0 2.83L4 21.41c.39.39.9.59 1.41.59.51 0 1.02-.2 1.41-.59l7.78-7.78 2.81-2.81c.8-.78.8-2.07 0-2.86zM5.41 20L4 18.59l7.72-7.72 1.47 1.35L5.41 20z\"/>\n",
              "  </svg>\n",
              "      </button>\n",
              "      \n",
              "  <style>\n",
              "    .colab-df-container {\n",
              "      display:flex;\n",
              "      flex-wrap:wrap;\n",
              "      gap: 12px;\n",
              "    }\n",
              "\n",
              "    .colab-df-convert {\n",
              "      background-color: #E8F0FE;\n",
              "      border: none;\n",
              "      border-radius: 50%;\n",
              "      cursor: pointer;\n",
              "      display: none;\n",
              "      fill: #1967D2;\n",
              "      height: 32px;\n",
              "      padding: 0 0 0 0;\n",
              "      width: 32px;\n",
              "    }\n",
              "\n",
              "    .colab-df-convert:hover {\n",
              "      background-color: #E2EBFA;\n",
              "      box-shadow: 0px 1px 2px rgba(60, 64, 67, 0.3), 0px 1px 3px 1px rgba(60, 64, 67, 0.15);\n",
              "      fill: #174EA6;\n",
              "    }\n",
              "\n",
              "    [theme=dark] .colab-df-convert {\n",
              "      background-color: #3B4455;\n",
              "      fill: #D2E3FC;\n",
              "    }\n",
              "\n",
              "    [theme=dark] .colab-df-convert:hover {\n",
              "      background-color: #434B5C;\n",
              "      box-shadow: 0px 1px 3px 1px rgba(0, 0, 0, 0.15);\n",
              "      filter: drop-shadow(0px 1px 2px rgba(0, 0, 0, 0.3));\n",
              "      fill: #FFFFFF;\n",
              "    }\n",
              "  </style>\n",
              "\n",
              "      <script>\n",
              "        const buttonEl =\n",
              "          document.querySelector('#df-e12cf6df-0e18-4b3d-9b8c-721e07c9f023 button.colab-df-convert');\n",
              "        buttonEl.style.display =\n",
              "          google.colab.kernel.accessAllowed ? 'block' : 'none';\n",
              "\n",
              "        async function convertToInteractive(key) {\n",
              "          const element = document.querySelector('#df-e12cf6df-0e18-4b3d-9b8c-721e07c9f023');\n",
              "          const dataTable =\n",
              "            await google.colab.kernel.invokeFunction('convertToInteractive',\n",
              "                                                     [key], {});\n",
              "          if (!dataTable) return;\n",
              "\n",
              "          const docLinkHtml = 'Like what you see? Visit the ' +\n",
              "            '<a target=\"_blank\" href=https://colab.research.google.com/notebooks/data_table.ipynb>data table notebook</a>'\n",
              "            + ' to learn more about interactive tables.';\n",
              "          element.innerHTML = '';\n",
              "          dataTable['output_type'] = 'display_data';\n",
              "          await google.colab.output.renderOutput(dataTable, element);\n",
              "          const docLink = document.createElement('div');\n",
              "          docLink.innerHTML = docLinkHtml;\n",
              "          element.appendChild(docLink);\n",
              "        }\n",
              "      </script>\n",
              "    </div>\n",
              "  </div>\n",
              "  "
            ]
          },
          "metadata": {},
          "execution_count": 12
        }
      ]
    },
    {
      "cell_type": "markdown",
      "source": [
        "# **Feature Scaling**\n",
        "Min Max Normalization"
      ],
      "metadata": {
        "id": "ny7ni2c2iKU6"
      }
    },
    {
      "cell_type": "code",
      "source": [
        "data['carat']=data['carat'].apply(lambda v:(v-data['carat'].min())/(data['carat'].max()-data['carat'].min(0)))       # scaling the numerical data\n",
        "data['depth']=data['depth'].apply(lambda v:(v-data['depth'].min())/(data['depth'].max()-data['depth'].min(0)))\n",
        "data['table']=data['table'].apply(lambda v:(v-data['table'].min())/(data['table'].max()-data['table'].min(0)))\n",
        "data['price']=data['price'].apply(lambda v:(v-data['price'].min())/(data['price'].max()-data['price'].min(0)))\n",
        "data['x']=data['x'].apply(lambda v:(v-data['x'].min())/(data['x'].max()-data['x'].min(0)))\n",
        "data['y']=data['y'].apply(lambda v:(v-data['y'].min())/(data['y'].max()-data['y'].min(0)))\n",
        "data['z']=data['z'].apply(lambda v:(v-data['z'].min())/(data['z'].max()-data['z'].min(0)))\n"
      ],
      "metadata": {
        "id": "UHeMkGCViFzm"
      },
      "execution_count": 13,
      "outputs": []
    },
    {
      "cell_type": "code",
      "source": [
        "data.head(10)"
      ],
      "metadata": {
        "colab": {
          "base_uri": "https://localhost:8080/",
          "height": 363
        },
        "id": "coVDujUqi6Ox",
        "outputId": "3424a39e-3abf-4862-9c61-c5951bd6de1f"
      },
      "execution_count": 14,
      "outputs": [
        {
          "output_type": "execute_result",
          "data": {
            "text/plain": [
              "   Unnamed: 0     carat     depth     table         x         y         z  \\\n",
              "0           1  0.006237  0.513889  0.230769  0.367784  0.067572  0.076415   \n",
              "1           2  0.002079  0.466667  0.346154  0.362197  0.065195  0.072642   \n",
              "2           3  0.006237  0.386111  0.423077  0.377095  0.069100  0.072642   \n",
              "3           4  0.018711  0.538889  0.288462  0.391061  0.071817  0.082704   \n",
              "4           5  0.022869  0.563889  0.288462  0.404097  0.073854  0.086478   \n",
              "5           6  0.008316  0.550000  0.269231  0.366853  0.067233  0.077987   \n",
              "6           7  0.008316  0.536111  0.269231  0.367784  0.067572  0.077673   \n",
              "7           8  0.012474  0.525000  0.230769  0.378957  0.069779  0.079560   \n",
              "8           9  0.004158  0.613889  0.346154  0.360335  0.064177  0.078302   \n",
              "9          10  0.006237  0.455556  0.346154  0.372439  0.068761  0.075157   \n",
              "\n",
              "      price  cut  color  clarity  \n",
              "0  0.000000    2      1        3  \n",
              "1  0.000000    3      1        2  \n",
              "2  0.000054    1      1        4  \n",
              "3  0.000433    3      5        5  \n",
              "4  0.000487    1      6        3  \n",
              "5  0.000541    4      6        7  \n",
              "6  0.000541    4      5        6  \n",
              "7  0.000595    4      4        2  \n",
              "8  0.000595    0      1        5  \n",
              "9  0.000649    4      4        4  "
            ],
            "text/html": [
              "\n",
              "  <div id=\"df-cca29a10-ea80-4b25-a501-27d5e3558e12\">\n",
              "    <div class=\"colab-df-container\">\n",
              "      <div>\n",
              "<style scoped>\n",
              "    .dataframe tbody tr th:only-of-type {\n",
              "        vertical-align: middle;\n",
              "    }\n",
              "\n",
              "    .dataframe tbody tr th {\n",
              "        vertical-align: top;\n",
              "    }\n",
              "\n",
              "    .dataframe thead th {\n",
              "        text-align: right;\n",
              "    }\n",
              "</style>\n",
              "<table border=\"1\" class=\"dataframe\">\n",
              "  <thead>\n",
              "    <tr style=\"text-align: right;\">\n",
              "      <th></th>\n",
              "      <th>Unnamed: 0</th>\n",
              "      <th>carat</th>\n",
              "      <th>depth</th>\n",
              "      <th>table</th>\n",
              "      <th>x</th>\n",
              "      <th>y</th>\n",
              "      <th>z</th>\n",
              "      <th>price</th>\n",
              "      <th>cut</th>\n",
              "      <th>color</th>\n",
              "      <th>clarity</th>\n",
              "    </tr>\n",
              "  </thead>\n",
              "  <tbody>\n",
              "    <tr>\n",
              "      <th>0</th>\n",
              "      <td>1</td>\n",
              "      <td>0.006237</td>\n",
              "      <td>0.513889</td>\n",
              "      <td>0.230769</td>\n",
              "      <td>0.367784</td>\n",
              "      <td>0.067572</td>\n",
              "      <td>0.076415</td>\n",
              "      <td>0.000000</td>\n",
              "      <td>2</td>\n",
              "      <td>1</td>\n",
              "      <td>3</td>\n",
              "    </tr>\n",
              "    <tr>\n",
              "      <th>1</th>\n",
              "      <td>2</td>\n",
              "      <td>0.002079</td>\n",
              "      <td>0.466667</td>\n",
              "      <td>0.346154</td>\n",
              "      <td>0.362197</td>\n",
              "      <td>0.065195</td>\n",
              "      <td>0.072642</td>\n",
              "      <td>0.000000</td>\n",
              "      <td>3</td>\n",
              "      <td>1</td>\n",
              "      <td>2</td>\n",
              "    </tr>\n",
              "    <tr>\n",
              "      <th>2</th>\n",
              "      <td>3</td>\n",
              "      <td>0.006237</td>\n",
              "      <td>0.386111</td>\n",
              "      <td>0.423077</td>\n",
              "      <td>0.377095</td>\n",
              "      <td>0.069100</td>\n",
              "      <td>0.072642</td>\n",
              "      <td>0.000054</td>\n",
              "      <td>1</td>\n",
              "      <td>1</td>\n",
              "      <td>4</td>\n",
              "    </tr>\n",
              "    <tr>\n",
              "      <th>3</th>\n",
              "      <td>4</td>\n",
              "      <td>0.018711</td>\n",
              "      <td>0.538889</td>\n",
              "      <td>0.288462</td>\n",
              "      <td>0.391061</td>\n",
              "      <td>0.071817</td>\n",
              "      <td>0.082704</td>\n",
              "      <td>0.000433</td>\n",
              "      <td>3</td>\n",
              "      <td>5</td>\n",
              "      <td>5</td>\n",
              "    </tr>\n",
              "    <tr>\n",
              "      <th>4</th>\n",
              "      <td>5</td>\n",
              "      <td>0.022869</td>\n",
              "      <td>0.563889</td>\n",
              "      <td>0.288462</td>\n",
              "      <td>0.404097</td>\n",
              "      <td>0.073854</td>\n",
              "      <td>0.086478</td>\n",
              "      <td>0.000487</td>\n",
              "      <td>1</td>\n",
              "      <td>6</td>\n",
              "      <td>3</td>\n",
              "    </tr>\n",
              "    <tr>\n",
              "      <th>5</th>\n",
              "      <td>6</td>\n",
              "      <td>0.008316</td>\n",
              "      <td>0.550000</td>\n",
              "      <td>0.269231</td>\n",
              "      <td>0.366853</td>\n",
              "      <td>0.067233</td>\n",
              "      <td>0.077987</td>\n",
              "      <td>0.000541</td>\n",
              "      <td>4</td>\n",
              "      <td>6</td>\n",
              "      <td>7</td>\n",
              "    </tr>\n",
              "    <tr>\n",
              "      <th>6</th>\n",
              "      <td>7</td>\n",
              "      <td>0.008316</td>\n",
              "      <td>0.536111</td>\n",
              "      <td>0.269231</td>\n",
              "      <td>0.367784</td>\n",
              "      <td>0.067572</td>\n",
              "      <td>0.077673</td>\n",
              "      <td>0.000541</td>\n",
              "      <td>4</td>\n",
              "      <td>5</td>\n",
              "      <td>6</td>\n",
              "    </tr>\n",
              "    <tr>\n",
              "      <th>7</th>\n",
              "      <td>8</td>\n",
              "      <td>0.012474</td>\n",
              "      <td>0.525000</td>\n",
              "      <td>0.230769</td>\n",
              "      <td>0.378957</td>\n",
              "      <td>0.069779</td>\n",
              "      <td>0.079560</td>\n",
              "      <td>0.000595</td>\n",
              "      <td>4</td>\n",
              "      <td>4</td>\n",
              "      <td>2</td>\n",
              "    </tr>\n",
              "    <tr>\n",
              "      <th>8</th>\n",
              "      <td>9</td>\n",
              "      <td>0.004158</td>\n",
              "      <td>0.613889</td>\n",
              "      <td>0.346154</td>\n",
              "      <td>0.360335</td>\n",
              "      <td>0.064177</td>\n",
              "      <td>0.078302</td>\n",
              "      <td>0.000595</td>\n",
              "      <td>0</td>\n",
              "      <td>1</td>\n",
              "      <td>5</td>\n",
              "    </tr>\n",
              "    <tr>\n",
              "      <th>9</th>\n",
              "      <td>10</td>\n",
              "      <td>0.006237</td>\n",
              "      <td>0.455556</td>\n",
              "      <td>0.346154</td>\n",
              "      <td>0.372439</td>\n",
              "      <td>0.068761</td>\n",
              "      <td>0.075157</td>\n",
              "      <td>0.000649</td>\n",
              "      <td>4</td>\n",
              "      <td>4</td>\n",
              "      <td>4</td>\n",
              "    </tr>\n",
              "  </tbody>\n",
              "</table>\n",
              "</div>\n",
              "      <button class=\"colab-df-convert\" onclick=\"convertToInteractive('df-cca29a10-ea80-4b25-a501-27d5e3558e12')\"\n",
              "              title=\"Convert this dataframe to an interactive table.\"\n",
              "              style=\"display:none;\">\n",
              "        \n",
              "  <svg xmlns=\"http://www.w3.org/2000/svg\" height=\"24px\"viewBox=\"0 0 24 24\"\n",
              "       width=\"24px\">\n",
              "    <path d=\"M0 0h24v24H0V0z\" fill=\"none\"/>\n",
              "    <path d=\"M18.56 5.44l.94 2.06.94-2.06 2.06-.94-2.06-.94-.94-2.06-.94 2.06-2.06.94zm-11 1L8.5 8.5l.94-2.06 2.06-.94-2.06-.94L8.5 2.5l-.94 2.06-2.06.94zm10 10l.94 2.06.94-2.06 2.06-.94-2.06-.94-.94-2.06-.94 2.06-2.06.94z\"/><path d=\"M17.41 7.96l-1.37-1.37c-.4-.4-.92-.59-1.43-.59-.52 0-1.04.2-1.43.59L10.3 9.45l-7.72 7.72c-.78.78-.78 2.05 0 2.83L4 21.41c.39.39.9.59 1.41.59.51 0 1.02-.2 1.41-.59l7.78-7.78 2.81-2.81c.8-.78.8-2.07 0-2.86zM5.41 20L4 18.59l7.72-7.72 1.47 1.35L5.41 20z\"/>\n",
              "  </svg>\n",
              "      </button>\n",
              "      \n",
              "  <style>\n",
              "    .colab-df-container {\n",
              "      display:flex;\n",
              "      flex-wrap:wrap;\n",
              "      gap: 12px;\n",
              "    }\n",
              "\n",
              "    .colab-df-convert {\n",
              "      background-color: #E8F0FE;\n",
              "      border: none;\n",
              "      border-radius: 50%;\n",
              "      cursor: pointer;\n",
              "      display: none;\n",
              "      fill: #1967D2;\n",
              "      height: 32px;\n",
              "      padding: 0 0 0 0;\n",
              "      width: 32px;\n",
              "    }\n",
              "\n",
              "    .colab-df-convert:hover {\n",
              "      background-color: #E2EBFA;\n",
              "      box-shadow: 0px 1px 2px rgba(60, 64, 67, 0.3), 0px 1px 3px 1px rgba(60, 64, 67, 0.15);\n",
              "      fill: #174EA6;\n",
              "    }\n",
              "\n",
              "    [theme=dark] .colab-df-convert {\n",
              "      background-color: #3B4455;\n",
              "      fill: #D2E3FC;\n",
              "    }\n",
              "\n",
              "    [theme=dark] .colab-df-convert:hover {\n",
              "      background-color: #434B5C;\n",
              "      box-shadow: 0px 1px 3px 1px rgba(0, 0, 0, 0.15);\n",
              "      filter: drop-shadow(0px 1px 2px rgba(0, 0, 0, 0.3));\n",
              "      fill: #FFFFFF;\n",
              "    }\n",
              "  </style>\n",
              "\n",
              "      <script>\n",
              "        const buttonEl =\n",
              "          document.querySelector('#df-cca29a10-ea80-4b25-a501-27d5e3558e12 button.colab-df-convert');\n",
              "        buttonEl.style.display =\n",
              "          google.colab.kernel.accessAllowed ? 'block' : 'none';\n",
              "\n",
              "        async function convertToInteractive(key) {\n",
              "          const element = document.querySelector('#df-cca29a10-ea80-4b25-a501-27d5e3558e12');\n",
              "          const dataTable =\n",
              "            await google.colab.kernel.invokeFunction('convertToInteractive',\n",
              "                                                     [key], {});\n",
              "          if (!dataTable) return;\n",
              "\n",
              "          const docLinkHtml = 'Like what you see? Visit the ' +\n",
              "            '<a target=\"_blank\" href=https://colab.research.google.com/notebooks/data_table.ipynb>data table notebook</a>'\n",
              "            + ' to learn more about interactive tables.';\n",
              "          element.innerHTML = '';\n",
              "          dataTable['output_type'] = 'display_data';\n",
              "          await google.colab.output.renderOutput(dataTable, element);\n",
              "          const docLink = document.createElement('div');\n",
              "          docLink.innerHTML = docLinkHtml;\n",
              "          element.appendChild(docLink);\n",
              "        }\n",
              "      </script>\n",
              "    </div>\n",
              "  </div>\n",
              "  "
            ]
          },
          "metadata": {},
          "execution_count": 14
        }
      ]
    },
    {
      "cell_type": "code",
      "source": [
        "data=data.drop(['Unnamed: 0'],axis=1)     # dropping Unnamed column\n",
        "data.head(2)\n"
      ],
      "metadata": {
        "colab": {
          "base_uri": "https://localhost:8080/",
          "height": 112
        },
        "id": "RcXrAgY9kAbq",
        "outputId": "230de32b-ae5b-4ee8-dc9b-bddbdfd22ea2"
      },
      "execution_count": 15,
      "outputs": [
        {
          "output_type": "execute_result",
          "data": {
            "text/plain": [
              "      carat     depth     table         x         y         z  price  cut  \\\n",
              "0  0.006237  0.513889  0.230769  0.367784  0.067572  0.076415    0.0    2   \n",
              "1  0.002079  0.466667  0.346154  0.362197  0.065195  0.072642    0.0    3   \n",
              "\n",
              "   color  clarity  \n",
              "0      1        3  \n",
              "1      1        2  "
            ],
            "text/html": [
              "\n",
              "  <div id=\"df-cce8e2c9-190a-4b3d-b536-b7a306176cf1\">\n",
              "    <div class=\"colab-df-container\">\n",
              "      <div>\n",
              "<style scoped>\n",
              "    .dataframe tbody tr th:only-of-type {\n",
              "        vertical-align: middle;\n",
              "    }\n",
              "\n",
              "    .dataframe tbody tr th {\n",
              "        vertical-align: top;\n",
              "    }\n",
              "\n",
              "    .dataframe thead th {\n",
              "        text-align: right;\n",
              "    }\n",
              "</style>\n",
              "<table border=\"1\" class=\"dataframe\">\n",
              "  <thead>\n",
              "    <tr style=\"text-align: right;\">\n",
              "      <th></th>\n",
              "      <th>carat</th>\n",
              "      <th>depth</th>\n",
              "      <th>table</th>\n",
              "      <th>x</th>\n",
              "      <th>y</th>\n",
              "      <th>z</th>\n",
              "      <th>price</th>\n",
              "      <th>cut</th>\n",
              "      <th>color</th>\n",
              "      <th>clarity</th>\n",
              "    </tr>\n",
              "  </thead>\n",
              "  <tbody>\n",
              "    <tr>\n",
              "      <th>0</th>\n",
              "      <td>0.006237</td>\n",
              "      <td>0.513889</td>\n",
              "      <td>0.230769</td>\n",
              "      <td>0.367784</td>\n",
              "      <td>0.067572</td>\n",
              "      <td>0.076415</td>\n",
              "      <td>0.0</td>\n",
              "      <td>2</td>\n",
              "      <td>1</td>\n",
              "      <td>3</td>\n",
              "    </tr>\n",
              "    <tr>\n",
              "      <th>1</th>\n",
              "      <td>0.002079</td>\n",
              "      <td>0.466667</td>\n",
              "      <td>0.346154</td>\n",
              "      <td>0.362197</td>\n",
              "      <td>0.065195</td>\n",
              "      <td>0.072642</td>\n",
              "      <td>0.0</td>\n",
              "      <td>3</td>\n",
              "      <td>1</td>\n",
              "      <td>2</td>\n",
              "    </tr>\n",
              "  </tbody>\n",
              "</table>\n",
              "</div>\n",
              "      <button class=\"colab-df-convert\" onclick=\"convertToInteractive('df-cce8e2c9-190a-4b3d-b536-b7a306176cf1')\"\n",
              "              title=\"Convert this dataframe to an interactive table.\"\n",
              "              style=\"display:none;\">\n",
              "        \n",
              "  <svg xmlns=\"http://www.w3.org/2000/svg\" height=\"24px\"viewBox=\"0 0 24 24\"\n",
              "       width=\"24px\">\n",
              "    <path d=\"M0 0h24v24H0V0z\" fill=\"none\"/>\n",
              "    <path d=\"M18.56 5.44l.94 2.06.94-2.06 2.06-.94-2.06-.94-.94-2.06-.94 2.06-2.06.94zm-11 1L8.5 8.5l.94-2.06 2.06-.94-2.06-.94L8.5 2.5l-.94 2.06-2.06.94zm10 10l.94 2.06.94-2.06 2.06-.94-2.06-.94-.94-2.06-.94 2.06-2.06.94z\"/><path d=\"M17.41 7.96l-1.37-1.37c-.4-.4-.92-.59-1.43-.59-.52 0-1.04.2-1.43.59L10.3 9.45l-7.72 7.72c-.78.78-.78 2.05 0 2.83L4 21.41c.39.39.9.59 1.41.59.51 0 1.02-.2 1.41-.59l7.78-7.78 2.81-2.81c.8-.78.8-2.07 0-2.86zM5.41 20L4 18.59l7.72-7.72 1.47 1.35L5.41 20z\"/>\n",
              "  </svg>\n",
              "      </button>\n",
              "      \n",
              "  <style>\n",
              "    .colab-df-container {\n",
              "      display:flex;\n",
              "      flex-wrap:wrap;\n",
              "      gap: 12px;\n",
              "    }\n",
              "\n",
              "    .colab-df-convert {\n",
              "      background-color: #E8F0FE;\n",
              "      border: none;\n",
              "      border-radius: 50%;\n",
              "      cursor: pointer;\n",
              "      display: none;\n",
              "      fill: #1967D2;\n",
              "      height: 32px;\n",
              "      padding: 0 0 0 0;\n",
              "      width: 32px;\n",
              "    }\n",
              "\n",
              "    .colab-df-convert:hover {\n",
              "      background-color: #E2EBFA;\n",
              "      box-shadow: 0px 1px 2px rgba(60, 64, 67, 0.3), 0px 1px 3px 1px rgba(60, 64, 67, 0.15);\n",
              "      fill: #174EA6;\n",
              "    }\n",
              "\n",
              "    [theme=dark] .colab-df-convert {\n",
              "      background-color: #3B4455;\n",
              "      fill: #D2E3FC;\n",
              "    }\n",
              "\n",
              "    [theme=dark] .colab-df-convert:hover {\n",
              "      background-color: #434B5C;\n",
              "      box-shadow: 0px 1px 3px 1px rgba(0, 0, 0, 0.15);\n",
              "      filter: drop-shadow(0px 1px 2px rgba(0, 0, 0, 0.3));\n",
              "      fill: #FFFFFF;\n",
              "    }\n",
              "  </style>\n",
              "\n",
              "      <script>\n",
              "        const buttonEl =\n",
              "          document.querySelector('#df-cce8e2c9-190a-4b3d-b536-b7a306176cf1 button.colab-df-convert');\n",
              "        buttonEl.style.display =\n",
              "          google.colab.kernel.accessAllowed ? 'block' : 'none';\n",
              "\n",
              "        async function convertToInteractive(key) {\n",
              "          const element = document.querySelector('#df-cce8e2c9-190a-4b3d-b536-b7a306176cf1');\n",
              "          const dataTable =\n",
              "            await google.colab.kernel.invokeFunction('convertToInteractive',\n",
              "                                                     [key], {});\n",
              "          if (!dataTable) return;\n",
              "\n",
              "          const docLinkHtml = 'Like what you see? Visit the ' +\n",
              "            '<a target=\"_blank\" href=https://colab.research.google.com/notebooks/data_table.ipynb>data table notebook</a>'\n",
              "            + ' to learn more about interactive tables.';\n",
              "          element.innerHTML = '';\n",
              "          dataTable['output_type'] = 'display_data';\n",
              "          await google.colab.output.renderOutput(dataTable, element);\n",
              "          const docLink = document.createElement('div');\n",
              "          docLink.innerHTML = docLinkHtml;\n",
              "          element.appendChild(docLink);\n",
              "        }\n",
              "      </script>\n",
              "    </div>\n",
              "  </div>\n",
              "  "
            ]
          },
          "metadata": {},
          "execution_count": 15
        }
      ]
    },
    {
      "cell_type": "code",
      "source": [
        "df=data      \n",
        "df.to_csv(\"Diamonds.csv\")     #storing the preprocessed data in other variable for later use \n",
        "# print(data.head(2))\n",
        "# print(df.head(2))"
      ],
      "metadata": {
        "id": "2qlWP3cYpxIF"
      },
      "execution_count": 16,
      "outputs": []
    },
    {
      "cell_type": "markdown",
      "source": [
        "# **Checking for outliers**"
      ],
      "metadata": {
        "id": "57_J4ZaNkwYP"
      }
    },
    {
      "cell_type": "code",
      "source": [
        "data.plot.box()                                                                      # on plotting box plot model we have seen that there are not many outliers so we ignore them\n",
        "plt.xticks(list(range(len(data.columns))),data.columns,rotation='vertical')             \n"
      ],
      "metadata": {
        "colab": {
          "base_uri": "https://localhost:8080/",
          "height": 634
        },
        "id": "EWSyD_-akKFA",
        "outputId": "07964c4a-c990-4668-cbdf-e9e5bdd6e007"
      },
      "execution_count": 18,
      "outputs": [
        {
          "output_type": "execute_result",
          "data": {
            "text/plain": [
              "([<matplotlib.axis.XTick at 0x7f7e70153650>,\n",
              "  <matplotlib.axis.XTick at 0x7f7e70153610>,\n",
              "  <matplotlib.axis.XTick at 0x7f7e70153210>,\n",
              "  <matplotlib.axis.XTick at 0x7f7e70108b50>,\n",
              "  <matplotlib.axis.XTick at 0x7f7e70108d10>,\n",
              "  <matplotlib.axis.XTick at 0x7f7e7019d610>,\n",
              "  <matplotlib.axis.XTick at 0x7f7e7019db90>,\n",
              "  <matplotlib.axis.XTick at 0x7f7e7019d710>,\n",
              "  <matplotlib.axis.XTick at 0x7f7e701bf650>,\n",
              "  <matplotlib.axis.XTick at 0x7f7e701bfb90>],\n",
              " [Text(0, 0, 'carat'),\n",
              "  Text(0, 0, 'depth'),\n",
              "  Text(0, 0, 'table'),\n",
              "  Text(0, 0, 'x'),\n",
              "  Text(0, 0, 'y'),\n",
              "  Text(0, 0, 'z'),\n",
              "  Text(0, 0, 'price'),\n",
              "  Text(0, 0, 'cut'),\n",
              "  Text(0, 0, 'color'),\n",
              "  Text(0, 0, 'clarity')])"
            ]
          },
          "metadata": {},
          "execution_count": 18
        },
        {
          "output_type": "display_data",
          "data": {
            "text/plain": [
              "<Figure size 432x288 with 1 Axes>"
            ],
            "image/png": "[encoded data removed]"
          },
          "metadata": {
            "needs_background": "light"
          }
        }
      ]
    },
    {
      "cell_type": "markdown",
      "source": [
        "# **Training and Testing data split**"
      ],
      "metadata": {
        "id": "11ndX23xrawL"
      }
    },
    {
      "cell_type": "code",
      "source": [
        "data.head(3)"
      ],
      "metadata": {
        "colab": {
          "base_uri": "https://localhost:8080/",
          "height": 143
        },
        "id": "A803jykwsg3T",
        "outputId": "82caa63e-dd19-48bb-c7e7-54c99818b4ce"
      },
      "execution_count": 19,
      "outputs": [
        {
          "output_type": "execute_result",
          "data": {
            "text/plain": [
              "      carat     depth     table         x         y         z     price  cut  \\\n",
              "0  0.006237  0.513889  0.230769  0.367784  0.067572  0.076415  0.000000    2   \n",
              "1  0.002079  0.466667  0.346154  0.362197  0.065195  0.072642  0.000000    3   \n",
              "2  0.006237  0.386111  0.423077  0.377095  0.069100  0.072642  0.000054    1   \n",
              "\n",
              "   color  clarity  \n",
              "0      1        3  \n",
              "1      1        2  \n",
              "2      1        4  "
            ],
            "text/html": [
              "\n",
              "  <div id=\"df-46611db2-935d-4ff4-902d-0d668f01295a\">\n",
              "    <div class=\"colab-df-container\">\n",
              "      <div>\n",
              "<style scoped>\n",
              "    .dataframe tbody tr th:only-of-type {\n",
              "        vertical-align: middle;\n",
              "    }\n",
              "\n",
              "    .dataframe tbody tr th {\n",
              "        vertical-align: top;\n",
              "    }\n",
              "\n",
              "    .dataframe thead th {\n",
              "        text-align: right;\n",
              "    }\n",
              "</style>\n",
              "<table border=\"1\" class=\"dataframe\">\n",
              "  <thead>\n",
              "    <tr style=\"text-align: right;\">\n",
              "      <th></th>\n",
              "      <th>carat</th>\n",
              "      <th>depth</th>\n",
              "      <th>table</th>\n",
              "      <th>x</th>\n",
              "      <th>y</th>\n",
              "      <th>z</th>\n",
              "      <th>price</th>\n",
              "      <th>cut</th>\n",
              "      <th>color</th>\n",
              "      <th>clarity</th>\n",
              "    </tr>\n",
              "  </thead>\n",
              "  <tbody>\n",
              "    <tr>\n",
              "      <th>0</th>\n",
              "      <td>0.006237</td>\n",
              "      <td>0.513889</td>\n",
              "      <td>0.230769</td>\n",
              "      <td>0.367784</td>\n",
              "      <td>0.067572</td>\n",
              "      <td>0.076415</td>\n",
              "      <td>0.000000</td>\n",
              "      <td>2</td>\n",
              "      <td>1</td>\n",
              "      <td>3</td>\n",
              "    </tr>\n",
              "    <tr>\n",
              "      <th>1</th>\n",
              "      <td>0.002079</td>\n",
              "      <td>0.466667</td>\n",
              "      <td>0.346154</td>\n",
              "      <td>0.362197</td>\n",
              "      <td>0.065195</td>\n",
              "      <td>0.072642</td>\n",
              "      <td>0.000000</td>\n",
              "      <td>3</td>\n",
              "      <td>1</td>\n",
              "      <td>2</td>\n",
              "    </tr>\n",
              "    <tr>\n",
              "      <th>2</th>\n",
              "      <td>0.006237</td>\n",
              "      <td>0.386111</td>\n",
              "      <td>0.423077</td>\n",
              "      <td>0.377095</td>\n",
              "      <td>0.069100</td>\n",
              "      <td>0.072642</td>\n",
              "      <td>0.000054</td>\n",
              "      <td>1</td>\n",
              "      <td>1</td>\n",
              "      <td>4</td>\n",
              "    </tr>\n",
              "  </tbody>\n",
              "</table>\n",
              "</div>\n",
              "      <button class=\"colab-df-convert\" onclick=\"convertToInteractive('df-46611db2-935d-4ff4-902d-0d668f01295a')\"\n",
              "              title=\"Convert this dataframe to an interactive table.\"\n",
              "              style=\"display:none;\">\n",
              "        \n",
              "  <svg xmlns=\"http://www.w3.org/2000/svg\" height=\"24px\"viewBox=\"0 0 24 24\"\n",
              "       width=\"24px\">\n",
              "    <path d=\"M0 0h24v24H0V0z\" fill=\"none\"/>\n",
              "    <path d=\"M18.56 5.44l.94 2.06.94-2.06 2.06-.94-2.06-.94-.94-2.06-.94 2.06-2.06.94zm-11 1L8.5 8.5l.94-2.06 2.06-.94-2.06-.94L8.5 2.5l-.94 2.06-2.06.94zm10 10l.94 2.06.94-2.06 2.06-.94-2.06-.94-.94-2.06-.94 2.06-2.06.94z\"/><path d=\"M17.41 7.96l-1.37-1.37c-.4-.4-.92-.59-1.43-.59-.52 0-1.04.2-1.43.59L10.3 9.45l-7.72 7.72c-.78.78-.78 2.05 0 2.83L4 21.41c.39.39.9.59 1.41.59.51 0 1.02-.2 1.41-.59l7.78-7.78 2.81-2.81c.8-.78.8-2.07 0-2.86zM5.41 20L4 18.59l7.72-7.72 1.47 1.35L5.41 20z\"/>\n",
              "  </svg>\n",
              "      </button>\n",
              "      \n",
              "  <style>\n",
              "    .colab-df-container {\n",
              "      display:flex;\n",
              "      flex-wrap:wrap;\n",
              "      gap: 12px;\n",
              "    }\n",
              "\n",
              "    .colab-df-convert {\n",
              "      background-color: #E8F0FE;\n",
              "      border: none;\n",
              "      border-radius: 50%;\n",
              "      cursor: pointer;\n",
              "      display: none;\n",
              "      fill: #1967D2;\n",
              "      height: 32px;\n",
              "      padding: 0 0 0 0;\n",
              "      width: 32px;\n",
              "    }\n",
              "\n",
              "    .colab-df-convert:hover {\n",
              "      background-color: #E2EBFA;\n",
              "      box-shadow: 0px 1px 2px rgba(60, 64, 67, 0.3), 0px 1px 3px 1px rgba(60, 64, 67, 0.15);\n",
              "      fill: #174EA6;\n",
              "    }\n",
              "\n",
              "    [theme=dark] .colab-df-convert {\n",
              "      background-color: #3B4455;\n",
              "      fill: #D2E3FC;\n",
              "    }\n",
              "\n",
              "    [theme=dark] .colab-df-convert:hover {\n",
              "      background-color: #434B5C;\n",
              "      box-shadow: 0px 1px 3px 1px rgba(0, 0, 0, 0.15);\n",
              "      filter: drop-shadow(0px 1px 2px rgba(0, 0, 0, 0.3));\n",
              "      fill: #FFFFFF;\n",
              "    }\n",
              "  </style>\n",
              "\n",
              "      <script>\n",
              "        const buttonEl =\n",
              "          document.querySelector('#df-46611db2-935d-4ff4-902d-0d668f01295a button.colab-df-convert');\n",
              "        buttonEl.style.display =\n",
              "          google.colab.kernel.accessAllowed ? 'block' : 'none';\n",
              "\n",
              "        async function convertToInteractive(key) {\n",
              "          const element = document.querySelector('#df-46611db2-935d-4ff4-902d-0d668f01295a');\n",
              "          const dataTable =\n",
              "            await google.colab.kernel.invokeFunction('convertToInteractive',\n",
              "                                                     [key], {});\n",
              "          if (!dataTable) return;\n",
              "\n",
              "          const docLinkHtml = 'Like what you see? Visit the ' +\n",
              "            '<a target=\"_blank\" href=https://colab.research.google.com/notebooks/data_table.ipynb>data table notebook</a>'\n",
              "            + ' to learn more about interactive tables.';\n",
              "          element.innerHTML = '';\n",
              "          dataTable['output_type'] = 'display_data';\n",
              "          await google.colab.output.renderOutput(dataTable, element);\n",
              "          const docLink = document.createElement('div');\n",
              "          docLink.innerHTML = docLinkHtml;\n",
              "          element.appendChild(docLink);\n",
              "        }\n",
              "      </script>\n",
              "    </div>\n",
              "  </div>\n",
              "  "
            ]
          },
          "metadata": {},
          "execution_count": 19
        }
      ]
    },
    {
      "cell_type": "code",
      "source": [
        "data.shape"
      ],
      "metadata": {
        "colab": {
          "base_uri": "https://localhost:8080/",
          "height": 0
        },
        "id": "8QtKCAuFsVrt",
        "outputId": "a964c8a5-c9ba-4b92-ef3f-dc80be6f6000"
      },
      "execution_count": 20,
      "outputs": [
        {
          "output_type": "execute_result",
          "data": {
            "text/plain": [
              "(53940, 10)"
            ]
          },
          "metadata": {},
          "execution_count": 20
        }
      ]
    },
    {
      "cell_type": "code",
      "source": [
        "data=data.sample(frac=1)                           #shuffling the dataset to avoid bias"
      ],
      "metadata": {
        "id": "ooDAlcjAqTEo"
      },
      "execution_count": 21,
      "outputs": []
    },
    {
      "cell_type": "code",
      "source": [
        "X=np.array(data.drop(['price'],1))                 #storing the values of input features in a variable X\n",
        "X.shape"
      ],
      "metadata": {
        "colab": {
          "base_uri": "https://localhost:8080/",
          "height": 0
        },
        "id": "GQIz98hmsFd5",
        "outputId": "ee59f7c5-105d-4a52-f584-685f4088b57a"
      },
      "execution_count": 22,
      "outputs": [
        {
          "output_type": "stream",
          "name": "stderr",
          "text": [
            "/usr/local/lib/python3.7/dist-packages/ipykernel_launcher.py:1: FutureWarning: In a future version of pandas all arguments of DataFrame.drop except for the argument 'labels' will be keyword-only\n",
            "  \"\"\"Entry point for launching an IPython kernel.\n"
          ]
        },
        {
          "output_type": "execute_result",
          "data": {
            "text/plain": [
              "(53940, 9)"
            ]
          },
          "metadata": {},
          "execution_count": 22
        }
      ]
    },
    {
      "cell_type": "code",
      "source": [
        "Y=np.array(data['price'])                        # storing the output values in variable Y\n",
        "Y.shape"
      ],
      "metadata": {
        "colab": {
          "base_uri": "https://localhost:8080/",
          "height": 0
        },
        "id": "JCNsHxdRsZDm",
        "outputId": "ce7f5e4e-d030-41b1-9ac6-33a9f578d966"
      },
      "execution_count": 23,
      "outputs": [
        {
          "output_type": "execute_result",
          "data": {
            "text/plain": [
              "(53940,)"
            ]
          },
          "metadata": {},
          "execution_count": 23
        }
      ]
    },
    {
      "cell_type": "code",
      "source": [
        "n_train=math.floor(0.8*X.shape[0])          # spliting the dataset for training and testing \n",
        "n_test=math.ceil(0.2*X.shape[0])            # 80% training data and 20% testing data\n",
        "\n",
        "train_x=X[:n_train]\n",
        "train_y=Y[:n_train]\n",
        "test_x=X[n_train:]\n",
        "test_y=Y[n_train:]\n",
        "print(train_x.shape)\n",
        "print(test_x.shape)\n",
        "print(train_y.shape)\n",
        "print(test_y.shape)"
      ],
      "metadata": {
        "colab": {
          "base_uri": "https://localhost:8080/",
          "height": 0
        },
        "id": "CRCzQdzhtQBP",
        "outputId": "74147858-9c9d-401c-911b-4b96a22ac535"
      },
      "execution_count": 24,
      "outputs": [
        {
          "output_type": "stream",
          "name": "stdout",
          "text": [
            "(43152, 9)\n",
            "(10788, 9)\n",
            "(43152,)\n",
            "(10788,)\n"
          ]
        }
      ]
    },
    {
      "cell_type": "markdown",
      "source": [
        "# **Univariate Linear Regression**"
      ],
      "metadata": {
        "id": "SmWUcCgrvUM1"
      }
    },
    {
      "cell_type": "code",
      "source": [
        "data.corr()       # finding the correlation between the features"
      ],
      "metadata": {
        "colab": {
          "base_uri": "https://localhost:8080/",
          "height": 363
        },
        "id": "dq7Y-Tfbu_bZ",
        "outputId": "d0606291-0960-424d-d177-2fb28db5e067"
      },
      "execution_count": 25,
      "outputs": [
        {
          "output_type": "execute_result",
          "data": {
            "text/plain": [
              "            carat     depth     table         x         y         z     price  \\\n",
              "carat    1.000000  0.028224  0.181618  0.975094  0.951722  0.953387  0.921591   \n",
              "depth    0.028224  1.000000 -0.295779 -0.025289 -0.029341  0.094924 -0.010647   \n",
              "table    0.181618 -0.295779  1.000000  0.195344  0.183760  0.150929  0.127134   \n",
              "x        0.975094 -0.025289  0.195344  1.000000  0.974701  0.970772  0.884435   \n",
              "y        0.951722 -0.029341  0.183760  0.974701  1.000000  0.952006  0.865421   \n",
              "z        0.953387  0.094924  0.150929  0.970772  0.952006  1.000000  0.861249   \n",
              "price    0.921591 -0.010647  0.127134  0.884435  0.865421  0.861249  1.000000   \n",
              "cut      0.017124 -0.194249  0.150327  0.022342  0.027572  0.002037  0.039860   \n",
              "color    0.291437  0.047279  0.026465  0.270287  0.263584  0.268227  0.172511   \n",
              "clarity -0.214290 -0.053080 -0.088223 -0.225721 -0.217616 -0.224263 -0.071535   \n",
              "\n",
              "              cut     color   clarity  \n",
              "carat    0.017124  0.291437 -0.214290  \n",
              "depth   -0.194249  0.047279 -0.053080  \n",
              "table    0.150327  0.026465 -0.088223  \n",
              "x        0.022342  0.270287 -0.225721  \n",
              "y        0.027572  0.263584 -0.217616  \n",
              "z        0.002037  0.268227 -0.224263  \n",
              "price    0.039860  0.172511 -0.071535  \n",
              "cut      1.000000  0.000304  0.028235  \n",
              "color    0.000304  1.000000 -0.027795  \n",
              "clarity  0.028235 -0.027795  1.000000  "
            ],
            "text/html": [
              "\n",
              "  <div id=\"df-9dd5fdb9-d32f-4e46-a058-8fdecba4f55a\">\n",
              "    <div class=\"colab-df-container\">\n",
              "      <div>\n",
              "<style scoped>\n",
              "    .dataframe tbody tr th:only-of-type {\n",
              "        vertical-align: middle;\n",
              "    }\n",
              "\n",
              "    .dataframe tbody tr th {\n",
              "        vertical-align: top;\n",
              "    }\n",
              "\n",
              "    .dataframe thead th {\n",
              "        text-align: right;\n",
              "    }\n",
              "</style>\n",
              "<table border=\"1\" class=\"dataframe\">\n",
              "  <thead>\n",
              "    <tr style=\"text-align: right;\">\n",
              "      <th></th>\n",
              "      <th>carat</th>\n",
              "      <th>depth</th>\n",
              "      <th>table</th>\n",
              "      <th>x</th>\n",
              "      <th>y</th>\n",
              "      <th>z</th>\n",
              "      <th>price</th>\n",
              "      <th>cut</th>\n",
              "      <th>color</th>\n",
              "      <th>clarity</th>\n",
              "    </tr>\n",
              "  </thead>\n",
              "  <tbody>\n",
              "    <tr>\n",
              "      <th>carat</th>\n",
              "      <td>1.000000</td>\n",
              "      <td>0.028224</td>\n",
              "      <td>0.181618</td>\n",
              "      <td>0.975094</td>\n",
              "      <td>0.951722</td>\n",
              "      <td>0.953387</td>\n",
              "      <td>0.921591</td>\n",
              "      <td>0.017124</td>\n",
              "      <td>0.291437</td>\n",
              "      <td>-0.214290</td>\n",
              "    </tr>\n",
              "    <tr>\n",
              "      <th>depth</th>\n",
              "      <td>0.028224</td>\n",
              "      <td>1.000000</td>\n",
              "      <td>-0.295779</td>\n",
              "      <td>-0.025289</td>\n",
              "      <td>-0.029341</td>\n",
              "      <td>0.094924</td>\n",
              "      <td>-0.010647</td>\n",
              "      <td>-0.194249</td>\n",
              "      <td>0.047279</td>\n",
              "      <td>-0.053080</td>\n",
              "    </tr>\n",
              "    <tr>\n",
              "      <th>table</th>\n",
              "      <td>0.181618</td>\n",
              "      <td>-0.295779</td>\n",
              "      <td>1.000000</td>\n",
              "      <td>0.195344</td>\n",
              "      <td>0.183760</td>\n",
              "      <td>0.150929</td>\n",
              "      <td>0.127134</td>\n",
              "      <td>0.150327</td>\n",
              "      <td>0.026465</td>\n",
              "      <td>-0.088223</td>\n",
              "    </tr>\n",
              "    <tr>\n",
              "      <th>x</th>\n",
              "      <td>0.975094</td>\n",
              "      <td>-0.025289</td>\n",
              "      <td>0.195344</td>\n",
              "      <td>1.000000</td>\n",
              "      <td>0.974701</td>\n",
              "      <td>0.970772</td>\n",
              "      <td>0.884435</td>\n",
              "      <td>0.022342</td>\n",
              "      <td>0.270287</td>\n",
              "      <td>-0.225721</td>\n",
              "    </tr>\n",
              "    <tr>\n",
              "      <th>y</th>\n",
              "      <td>0.951722</td>\n",
              "      <td>-0.029341</td>\n",
              "      <td>0.183760</td>\n",
              "      <td>0.974701</td>\n",
              "      <td>1.000000</td>\n",
              "      <td>0.952006</td>\n",
              "      <td>0.865421</td>\n",
              "      <td>0.027572</td>\n",
              "      <td>0.263584</td>\n",
              "      <td>-0.217616</td>\n",
              "    </tr>\n",
              "    <tr>\n",
              "      <th>z</th>\n",
              "      <td>0.953387</td>\n",
              "      <td>0.094924</td>\n",
              "      <td>0.150929</td>\n",
              "      <td>0.970772</td>\n",
              "      <td>0.952006</td>\n",
              "      <td>1.000000</td>\n",
              "      <td>0.861249</td>\n",
              "      <td>0.002037</td>\n",
              "      <td>0.268227</td>\n",
              "      <td>-0.224263</td>\n",
              "    </tr>\n",
              "    <tr>\n",
              "      <th>price</th>\n",
              "      <td>0.921591</td>\n",
              "      <td>-0.010647</td>\n",
              "      <td>0.127134</td>\n",
              "      <td>0.884435</td>\n",
              "      <td>0.865421</td>\n",
              "      <td>0.861249</td>\n",
              "      <td>1.000000</td>\n",
              "      <td>0.039860</td>\n",
              "      <td>0.172511</td>\n",
              "      <td>-0.071535</td>\n",
              "    </tr>\n",
              "    <tr>\n",
              "      <th>cut</th>\n",
              "      <td>0.017124</td>\n",
              "      <td>-0.194249</td>\n",
              "      <td>0.150327</td>\n",
              "      <td>0.022342</td>\n",
              "      <td>0.027572</td>\n",
              "      <td>0.002037</td>\n",
              "      <td>0.039860</td>\n",
              "      <td>1.000000</td>\n",
              "      <td>0.000304</td>\n",
              "      <td>0.028235</td>\n",
              "    </tr>\n",
              "    <tr>\n",
              "      <th>color</th>\n",
              "      <td>0.291437</td>\n",
              "      <td>0.047279</td>\n",
              "      <td>0.026465</td>\n",
              "      <td>0.270287</td>\n",
              "      <td>0.263584</td>\n",
              "      <td>0.268227</td>\n",
              "      <td>0.172511</td>\n",
              "      <td>0.000304</td>\n",
              "      <td>1.000000</td>\n",
              "      <td>-0.027795</td>\n",
              "    </tr>\n",
              "    <tr>\n",
              "      <th>clarity</th>\n",
              "      <td>-0.214290</td>\n",
              "      <td>-0.053080</td>\n",
              "      <td>-0.088223</td>\n",
              "      <td>-0.225721</td>\n",
              "      <td>-0.217616</td>\n",
              "      <td>-0.224263</td>\n",
              "      <td>-0.071535</td>\n",
              "      <td>0.028235</td>\n",
              "      <td>-0.027795</td>\n",
              "      <td>1.000000</td>\n",
              "    </tr>\n",
              "  </tbody>\n",
              "</table>\n",
              "</div>\n",
              "      <button class=\"colab-df-convert\" onclick=\"convertToInteractive('df-9dd5fdb9-d32f-4e46-a058-8fdecba4f55a')\"\n",
              "              title=\"Convert this dataframe to an interactive table.\"\n",
              "              style=\"display:none;\">\n",
              "        \n",
              "  <svg xmlns=\"http://www.w3.org/2000/svg\" height=\"24px\"viewBox=\"0 0 24 24\"\n",
              "       width=\"24px\">\n",
              "    <path d=\"M0 0h24v24H0V0z\" fill=\"none\"/>\n",
              "    <path d=\"M18.56 5.44l.94 2.06.94-2.06 2.06-.94-2.06-.94-.94-2.06-.94 2.06-2.06.94zm-11 1L8.5 8.5l.94-2.06 2.06-.94-2.06-.94L8.5 2.5l-.94 2.06-2.06.94zm10 10l.94 2.06.94-2.06 2.06-.94-2.06-.94-.94-2.06-.94 2.06-2.06.94z\"/><path d=\"M17.41 7.96l-1.37-1.37c-.4-.4-.92-.59-1.43-.59-.52 0-1.04.2-1.43.59L10.3 9.45l-7.72 7.72c-.78.78-.78 2.05 0 2.83L4 21.41c.39.39.9.59 1.41.59.51 0 1.02-.2 1.41-.59l7.78-7.78 2.81-2.81c.8-.78.8-2.07 0-2.86zM5.41 20L4 18.59l7.72-7.72 1.47 1.35L5.41 20z\"/>\n",
              "  </svg>\n",
              "      </button>\n",
              "      \n",
              "  <style>\n",
              "    .colab-df-container {\n",
              "      display:flex;\n",
              "      flex-wrap:wrap;\n",
              "      gap: 12px;\n",
              "    }\n",
              "\n",
              "    .colab-df-convert {\n",
              "      background-color: #E8F0FE;\n",
              "      border: none;\n",
              "      border-radius: 50%;\n",
              "      cursor: pointer;\n",
              "      display: none;\n",
              "      fill: #1967D2;\n",
              "      height: 32px;\n",
              "      padding: 0 0 0 0;\n",
              "      width: 32px;\n",
              "    }\n",
              "\n",
              "    .colab-df-convert:hover {\n",
              "      background-color: #E2EBFA;\n",
              "      box-shadow: 0px 1px 2px rgba(60, 64, 67, 0.3), 0px 1px 3px 1px rgba(60, 64, 67, 0.15);\n",
              "      fill: #174EA6;\n",
              "    }\n",
              "\n",
              "    [theme=dark] .colab-df-convert {\n",
              "      background-color: #3B4455;\n",
              "      fill: #D2E3FC;\n",
              "    }\n",
              "\n",
              "    [theme=dark] .colab-df-convert:hover {\n",
              "      background-color: #434B5C;\n",
              "      box-shadow: 0px 1px 3px 1px rgba(0, 0, 0, 0.15);\n",
              "      filter: drop-shadow(0px 1px 2px rgba(0, 0, 0, 0.3));\n",
              "      fill: #FFFFFF;\n",
              "    }\n",
              "  </style>\n",
              "\n",
              "      <script>\n",
              "        const buttonEl =\n",
              "          document.querySelector('#df-9dd5fdb9-d32f-4e46-a058-8fdecba4f55a button.colab-df-convert');\n",
              "        buttonEl.style.display =\n",
              "          google.colab.kernel.accessAllowed ? 'block' : 'none';\n",
              "\n",
              "        async function convertToInteractive(key) {\n",
              "          const element = document.querySelector('#df-9dd5fdb9-d32f-4e46-a058-8fdecba4f55a');\n",
              "          const dataTable =\n",
              "            await google.colab.kernel.invokeFunction('convertToInteractive',\n",
              "                                                     [key], {});\n",
              "          if (!dataTable) return;\n",
              "\n",
              "          const docLinkHtml = 'Like what you see? Visit the ' +\n",
              "            '<a target=\"_blank\" href=https://colab.research.google.com/notebooks/data_table.ipynb>data table notebook</a>'\n",
              "            + ' to learn more about interactive tables.';\n",
              "          element.innerHTML = '';\n",
              "          dataTable['output_type'] = 'display_data';\n",
              "          await google.colab.output.renderOutput(dataTable, element);\n",
              "          const docLink = document.createElement('div');\n",
              "          docLink.innerHTML = docLinkHtml;\n",
              "          element.appendChild(docLink);\n",
              "        }\n",
              "      </script>\n",
              "    </div>\n",
              "  </div>\n",
              "  "
            ]
          },
          "metadata": {},
          "execution_count": 25
        }
      ]
    },
    {
      "cell_type": "code",
      "source": [
        "data.corr()['price'].sort_values(ascending=False)    # carat feature is highly corelated to the output price value so we will use carat feature for univariate regression"
      ],
      "metadata": {
        "colab": {
          "base_uri": "https://localhost:8080/",
          "height": 0
        },
        "id": "IxhyQDURvnBj",
        "outputId": "7c1bdf14-bb7c-446d-985b-b17dc6cf4fb7"
      },
      "execution_count": 26,
      "outputs": [
        {
          "output_type": "execute_result",
          "data": {
            "text/plain": [
              "price      1.000000\n",
              "carat      0.921591\n",
              "x          0.884435\n",
              "y          0.865421\n",
              "z          0.861249\n",
              "color      0.172511\n",
              "table      0.127134\n",
              "cut        0.039860\n",
              "depth     -0.010647\n",
              "clarity   -0.071535\n",
              "Name: price, dtype: float64"
            ]
          },
          "metadata": {},
          "execution_count": 26
        }
      ]
    },
    {
      "cell_type": "code",
      "source": [
        "print(\"Xtrain:\",train_x)       \n",
        "print(\"Ytrain:\",train_y)\n",
        "print(\"Xtest:\",test_x)\n",
        "print(\"Ytest:\",test_y)"
      ],
      "metadata": {
        "colab": {
          "base_uri": "https://localhost:8080/",
          "height": 0
        },
        "id": "h_xih10-z3ov",
        "outputId": "cbc71dd9-4361-4a7e-ec58-0ddeef9affeb"
      },
      "execution_count": 27,
      "outputs": [
        {
          "output_type": "stream",
          "name": "stdout",
          "text": [
            "Xtrain: [[0.16839917 0.575      0.28846154 ... 1.         3.         3.        ]\n",
            " [0.18711019 0.52777778 0.26923077 ... 2.         2.         1.        ]\n",
            " [0.1039501  0.63333333 0.25       ... 0.         4.         4.        ]\n",
            " ...\n",
            " [0.03742204 0.51666667 0.23076923 ... 2.         1.         7.        ]\n",
            " [0.04573805 0.55833333 0.25       ... 4.         2.         2.        ]\n",
            " [0.31600832 0.525      0.25       ... 3.         4.         5.        ]]\n",
            "Ytrain: [0.19446397 0.58966319 0.11293723 ... 0.0459534  0.03243769 0.69178786]\n",
            "Xtest: [[0.18711019 0.49166667 0.23076923 ... 3.         0.         2.        ]\n",
            " [0.02286902 0.54722222 0.26923077 ... 2.         2.         5.        ]\n",
            " [0.41995842 0.54722222 0.35       ... 1.         5.         3.        ]\n",
            " ...\n",
            " [0.02286902 0.55277778 0.28846154 ... 3.         3.         7.        ]\n",
            " [0.27027027 0.48888889 0.34615385 ... 3.         4.         5.        ]\n",
            " [0.20997921 0.475      0.28846154 ... 3.         2.         4.        ]]\n",
            "Ytest: [0.33205385 0.0257339  0.75466292 ... 0.0314105  0.55911769 0.49316105]\n"
          ]
        }
      ]
    },
    {
      "cell_type": "markdown",
      "source": [
        "# **Univariate Linear Regression:Closed Form**"
      ],
      "metadata": {
        "id": "Mywr3BEgD1cI"
      }
    },
    {
      "cell_type": "code",
      "source": [
        "X_u=pd.DataFrame(train_x[:,0]) #training dataset\n",
        "Y_u=pd.DataFrame(train_y)\n",
        "#Y_u.reshape(X_u.shape[0],1)\n",
        "Xt_u=pd.DataFrame(test_x[:,0]) #testing dataset\n",
        "Yt_u=pd.DataFrame(test_y)\n",
        "Xtu_u=Xt_u.to_numpy()\n",
        "\n",
        "\n",
        "# univariate linear regression closed form\n",
        "W=np.dot(np.linalg.inv(np.dot(X_u.T,X_u)),np.dot(X_u.T,Y_u))\n",
        "\n",
        "ypred=np.dot(Xt_u,W)\n",
        "\n",
        "print(X_u.shape)\n",
        "print(Y_u.shape)\n",
        "print(Xt_u.shape)\n",
        "print(Yt_u.shape)"
      ],
      "metadata": {
        "colab": {
          "base_uri": "https://localhost:8080/",
          "height": 0
        },
        "id": "QA1LVJcxvcPk",
        "outputId": "53360759-1f0b-42ee-8ee6-77f261463aea"
      },
      "execution_count": 61,
      "outputs": [
        {
          "output_type": "stream",
          "name": "stdout",
          "text": [
            "(43152, 1)\n",
            "(43152, 1)\n",
            "(10788, 1)\n",
            "(10788, 1)\n"
          ]
        }
      ]
    },
    {
      "cell_type": "code",
      "source": [
        "t_Xu=X_u.to_numpy()\n",
        "t_Yu=Y_u.to_numpy()\n"
      ],
      "metadata": {
        "id": "eApbY8sh-Cnx"
      },
      "execution_count": 70,
      "outputs": []
    },
    {
      "cell_type": "code",
      "source": [
        "plt.scatter(X_u,Y_u)   # plotting the curve for visualisation of the dataset"
      ],
      "metadata": {
        "colab": {
          "base_uri": "https://localhost:8080/",
          "height": 282
        },
        "id": "bFavpEhwjhKm",
        "outputId": "20e2e877-7428-4053-fc5b-98276d42e3aa"
      },
      "execution_count": 62,
      "outputs": [
        {
          "output_type": "execute_result",
          "data": {
            "text/plain": [
              "<matplotlib.collections.PathCollection at 0x7f7e6c3c8a90>"
            ]
          },
          "metadata": {},
          "execution_count": 62
        },
        {
          "output_type": "display_data",
          "data": {
            "text/plain": [
              "<Figure size 432x288 with 1 Axes>"
            ],
            "image/png": "[encoded data removed]"
          },
          "metadata": {
            "needs_background": "light"
          }
        }
      ]
    },
    {
      "cell_type": "code",
      "source": [
        "ypred     # printing the predicted values"
      ],
      "metadata": {
        "colab": {
          "base_uri": "https://localhost:8080/",
          "height": 0
        },
        "id": "S7NbFOZCzmCh",
        "outputId": "202a9020-6168-4719-aa21-33ed2c90ffe8"
      },
      "execution_count": 63,
      "outputs": [
        {
          "output_type": "execute_result",
          "data": {
            "text/plain": [
              "array([[0.3264119 ],\n",
              "       [0.03989479],\n",
              "       [0.73261337],\n",
              "       ...,\n",
              "       [0.03989479],\n",
              "       [0.47148385],\n",
              "       [0.36630669]])"
            ]
          },
          "metadata": {},
          "execution_count": 63
        }
      ]
    },
    {
      "cell_type": "code",
      "source": [
        "loss=(np.dot(np.subtract(ypred,Yt_u).T,np.subtract(ypred,Yt_u)))/Yt_u.shape[0]               # computing the mean squared error\n",
        "loss"
      ],
      "metadata": {
        "colab": {
          "base_uri": "https://localhost:8080/",
          "height": 0
        },
        "id": "IcQrGdzZ5e5a",
        "outputId": "2761af1e-3f2d-4099-ef77-f58492846694"
      },
      "execution_count": 64,
      "outputs": [
        {
          "output_type": "execute_result",
          "data": {
            "text/plain": [
              "array([[0.00803961]])"
            ]
          },
          "metadata": {},
          "execution_count": 64
        }
      ]
    },
    {
      "cell_type": "code",
      "source": [
        "# X_u=pd.DataFrame(X_u)\n",
        "# Xt_u=pd.DataFrame(Xt_u)\n",
        "\n",
        "# Y_u=pd.DataFrame(Y_u)\n",
        "# Yt_u=pd.DataFrame(Y_u)\n"
      ],
      "metadata": {
        "id": "OBh3i5XI86yt"
      },
      "execution_count": 65,
      "outputs": []
    },
    {
      "cell_type": "code",
      "source": [
        "plt.scatter(X_u,Y_u)           # plotting the curve for the predicted value\n",
        "plt.plot( Xtu_u ,ypred,color='red')\n",
        "plt.xlabel('X-input')\n",
        "plt.ylabel('Y-target')"
      ],
      "metadata": {
        "colab": {
          "base_uri": "https://localhost:8080/",
          "height": 296
        },
        "id": "msvjtmsqCYDH",
        "outputId": "a8d22f0f-c181-4cf2-a694-7ee1e0bec3bf"
      },
      "execution_count": 66,
      "outputs": [
        {
          "output_type": "execute_result",
          "data": {
            "text/plain": [
              "Text(0, 0.5, 'Y-target')"
            ]
          },
          "metadata": {},
          "execution_count": 66
        },
        {
          "output_type": "display_data",
          "data": {
            "text/plain": [
              "<Figure size 432x288 with 1 Axes>"
            ],
            "image/png": "[encoded data removed]"
          },
          "metadata": {
            "needs_background": "light"
          }
        }
      ]
    },
    {
      "cell_type": "markdown",
      "source": [
        "# **Univariate Linear Regression:Gradient Descent**"
      ],
      "metadata": {
        "id": "2xCmrCsLD_Hf"
      }
    },
    {
      "cell_type": "code",
      "source": [
        "m=0     #slope\n",
        "c=0     #intercept\n",
        "iterations=1000  #no of iterations\n",
        "alpha=0.09   #learning rate\n",
        "\n",
        "n=float(len(t_Xu))\n",
        "\n",
        "for i in range(iterations):\n",
        "  ypred_gr=m*t_Xu+c;\n",
        "  dM=(-2/n)*sum(t_Xu*(t_Yu-ypred_gr))          #derivate with respect to m\n",
        "  dC=(-2/n)*sum(t_Xu-ypred_gr)                #derivative with respect to c\n",
        "  m=m-alpha*dM\n",
        "  c=c-alpha*dC\n",
        "  if(i%(iterations/10)==0):\n",
        "    print(m,c)\n",
        "print(m,c)                     # calculating the value of slope and intercept\n"
      ],
      "metadata": {
        "colab": {
          "base_uri": "https://localhost:8080/",
          "height": 0
        },
        "id": "7EqDhrhNDBtx",
        "outputId": "a3792828-d181-403e-911e-024be3ddca99"
      },
      "execution_count": 71,
      "outputs": [
        {
          "output_type": "stream",
          "name": "stdout",
          "text": [
            "[0.00789396] [0.02235052]\n",
            "[0.48084046] [0.06739728]\n",
            "[0.86803418] [0.01885495]\n",
            "[1.1938969] [-0.02199833]\n",
            "[1.46814339] [-0.05638051]\n",
            "[1.69894958] [-0.08531659]\n",
            "[1.89319637] [-0.10966923]\n",
            "[2.05667471] [-0.13016445]\n",
            "[2.19425829] [-0.14741325]\n",
            "[2.31004881] [-0.16192986]\n",
            "[2.40660461] [-0.17403503]\n"
          ]
        }
      ]
    },
    {
      "cell_type": "code",
      "source": [
        "slope=m             #computing the final predicted value using the final value of slope and intercept\n",
        "intercept=c\n",
        "\n",
        "yfinal_gr=slope*Xt_u+intercept\n",
        "\n",
        "mn_s_err=np.square(np.subtract(yfinal_gr,Yt_u)).mean()            #computing mean squared error\n",
        "\n",
        "mn_s_err           # printing mean square error value"
      ],
      "metadata": {
        "colab": {
          "base_uri": "https://localhost:8080/",
          "height": 0
        },
        "id": "H1xhZUy-VOLI",
        "outputId": "44c32a21-6e48-4adb-991b-c8a8c1887287"
      },
      "execution_count": 72,
      "outputs": [
        {
          "output_type": "execute_result",
          "data": {
            "text/plain": [
              "0    0.013113\n",
              "dtype: float64"
            ]
          },
          "metadata": {},
          "execution_count": 72
        }
      ]
    },
    {
      "cell_type": "code",
      "source": [
        "t_xtu=Xt_u.to_numpy()\n",
        "Yfinal_gr=yfinal_gr.to_numpy()"
      ],
      "metadata": {
        "id": "aHHnW9Pj_S-c"
      },
      "execution_count": 75,
      "outputs": []
    },
    {
      "cell_type": "code",
      "source": [
        "plt.scatter(X_u,Y_u)                                        # plotting the curve for univariate gradient descent\n",
        "plt.plot(t_xtu,Yfinal_gr,color='orange')\n",
        "plt.xlabel(\"test_x\")\n",
        "plt.ylabel(\"predicted price\")"
      ],
      "metadata": {
        "colab": {
          "base_uri": "https://localhost:8080/",
          "height": 297
        },
        "id": "ugFSTi7IZeLq",
        "outputId": "ee45d441-6b31-4ee9-e50a-c7b0b61e8d16"
      },
      "execution_count": 76,
      "outputs": [
        {
          "output_type": "execute_result",
          "data": {
            "text/plain": [
              "Text(0, 0.5, 'predicted price')"
            ]
          },
          "metadata": {},
          "execution_count": 76
        },
        {
          "output_type": "display_data",
          "data": {
            "text/plain": [
              "<Figure size 432x288 with 1 Axes>"
            ],
            "image/png": "[encoded data removed]"
          },
          "metadata": {
            "needs_background": "light"
          }
        }
      ]
    },
    {
      "cell_type": "markdown",
      "source": [
        "# **Multivariate Linear Regression**"
      ],
      "metadata": {
        "id": "S4AAL1WEgGj7"
      }
    },
    {
      "cell_type": "markdown",
      "source": [
        "**Closed form**"
      ],
      "metadata": {
        "id": "UNGma4Lhj_Sy"
      }
    },
    {
      "cell_type": "code",
      "source": [
        "df=pd.read_csv(\"Diamonds.csv\")                         # reading the above save preprocessed data\n",
        "df=df.drop(['Unnamed: 0'],axis=1)                      # droppint the unnamed column\n",
        "df.head(3)"
      ],
      "metadata": {
        "colab": {
          "base_uri": "https://localhost:8080/",
          "height": 143
        },
        "id": "wNAs7UR-AWCu",
        "outputId": "f3c47ac5-fea4-41bf-8981-60a2f5f96c51"
      },
      "execution_count": 17,
      "outputs": [
        {
          "output_type": "execute_result",
          "data": {
            "text/plain": [
              "      carat     depth     table         x         y         z     price  cut  \\\n",
              "0  0.006237  0.513889  0.230769  0.367784  0.067572  0.076415  0.000000    2   \n",
              "1  0.002079  0.466667  0.346154  0.362197  0.065195  0.072642  0.000000    3   \n",
              "2  0.006237  0.386111  0.423077  0.377095  0.069100  0.072642  0.000054    1   \n",
              "\n",
              "   color  clarity  \n",
              "0      1        3  \n",
              "1      1        2  \n",
              "2      1        4  "
            ],
            "text/html": [
              "\n",
              "  <div id=\"df-60a19ab3-9dac-445d-b096-598d9c6e26df\">\n",
              "    <div class=\"colab-df-container\">\n",
              "      <div>\n",
              "<style scoped>\n",
              "    .dataframe tbody tr th:only-of-type {\n",
              "        vertical-align: middle;\n",
              "    }\n",
              "\n",
              "    .dataframe tbody tr th {\n",
              "        vertical-align: top;\n",
              "    }\n",
              "\n",
              "    .dataframe thead th {\n",
              "        text-align: right;\n",
              "    }\n",
              "</style>\n",
              "<table border=\"1\" class=\"dataframe\">\n",
              "  <thead>\n",
              "    <tr style=\"text-align: right;\">\n",
              "      <th></th>\n",
              "      <th>carat</th>\n",
              "      <th>depth</th>\n",
              "      <th>table</th>\n",
              "      <th>x</th>\n",
              "      <th>y</th>\n",
              "      <th>z</th>\n",
              "      <th>price</th>\n",
              "      <th>cut</th>\n",
              "      <th>color</th>\n",
              "      <th>clarity</th>\n",
              "    </tr>\n",
              "  </thead>\n",
              "  <tbody>\n",
              "    <tr>\n",
              "      <th>0</th>\n",
              "      <td>0.006237</td>\n",
              "      <td>0.513889</td>\n",
              "      <td>0.230769</td>\n",
              "      <td>0.367784</td>\n",
              "      <td>0.067572</td>\n",
              "      <td>0.076415</td>\n",
              "      <td>0.000000</td>\n",
              "      <td>2</td>\n",
              "      <td>1</td>\n",
              "      <td>3</td>\n",
              "    </tr>\n",
              "    <tr>\n",
              "      <th>1</th>\n",
              "      <td>0.002079</td>\n",
              "      <td>0.466667</td>\n",
              "      <td>0.346154</td>\n",
              "      <td>0.362197</td>\n",
              "      <td>0.065195</td>\n",
              "      <td>0.072642</td>\n",
              "      <td>0.000000</td>\n",
              "      <td>3</td>\n",
              "      <td>1</td>\n",
              "      <td>2</td>\n",
              "    </tr>\n",
              "    <tr>\n",
              "      <th>2</th>\n",
              "      <td>0.006237</td>\n",
              "      <td>0.386111</td>\n",
              "      <td>0.423077</td>\n",
              "      <td>0.377095</td>\n",
              "      <td>0.069100</td>\n",
              "      <td>0.072642</td>\n",
              "      <td>0.000054</td>\n",
              "      <td>1</td>\n",
              "      <td>1</td>\n",
              "      <td>4</td>\n",
              "    </tr>\n",
              "  </tbody>\n",
              "</table>\n",
              "</div>\n",
              "      <button class=\"colab-df-convert\" onclick=\"convertToInteractive('df-60a19ab3-9dac-445d-b096-598d9c6e26df')\"\n",
              "              title=\"Convert this dataframe to an interactive table.\"\n",
              "              style=\"display:none;\">\n",
              "        \n",
              "  <svg xmlns=\"http://www.w3.org/2000/svg\" height=\"24px\"viewBox=\"0 0 24 24\"\n",
              "       width=\"24px\">\n",
              "    <path d=\"M0 0h24v24H0V0z\" fill=\"none\"/>\n",
              "    <path d=\"M18.56 5.44l.94 2.06.94-2.06 2.06-.94-2.06-.94-.94-2.06-.94 2.06-2.06.94zm-11 1L8.5 8.5l.94-2.06 2.06-.94-2.06-.94L8.5 2.5l-.94 2.06-2.06.94zm10 10l.94 2.06.94-2.06 2.06-.94-2.06-.94-.94-2.06-.94 2.06-2.06.94z\"/><path d=\"M17.41 7.96l-1.37-1.37c-.4-.4-.92-.59-1.43-.59-.52 0-1.04.2-1.43.59L10.3 9.45l-7.72 7.72c-.78.78-.78 2.05 0 2.83L4 21.41c.39.39.9.59 1.41.59.51 0 1.02-.2 1.41-.59l7.78-7.78 2.81-2.81c.8-.78.8-2.07 0-2.86zM5.41 20L4 18.59l7.72-7.72 1.47 1.35L5.41 20z\"/>\n",
              "  </svg>\n",
              "      </button>\n",
              "      \n",
              "  <style>\n",
              "    .colab-df-container {\n",
              "      display:flex;\n",
              "      flex-wrap:wrap;\n",
              "      gap: 12px;\n",
              "    }\n",
              "\n",
              "    .colab-df-convert {\n",
              "      background-color: #E8F0FE;\n",
              "      border: none;\n",
              "      border-radius: 50%;\n",
              "      cursor: pointer;\n",
              "      display: none;\n",
              "      fill: #1967D2;\n",
              "      height: 32px;\n",
              "      padding: 0 0 0 0;\n",
              "      width: 32px;\n",
              "    }\n",
              "\n",
              "    .colab-df-convert:hover {\n",
              "      background-color: #E2EBFA;\n",
              "      box-shadow: 0px 1px 2px rgba(60, 64, 67, 0.3), 0px 1px 3px 1px rgba(60, 64, 67, 0.15);\n",
              "      fill: #174EA6;\n",
              "    }\n",
              "\n",
              "    [theme=dark] .colab-df-convert {\n",
              "      background-color: #3B4455;\n",
              "      fill: #D2E3FC;\n",
              "    }\n",
              "\n",
              "    [theme=dark] .colab-df-convert:hover {\n",
              "      background-color: #434B5C;\n",
              "      box-shadow: 0px 1px 3px 1px rgba(0, 0, 0, 0.15);\n",
              "      filter: drop-shadow(0px 1px 2px rgba(0, 0, 0, 0.3));\n",
              "      fill: #FFFFFF;\n",
              "    }\n",
              "  </style>\n",
              "\n",
              "      <script>\n",
              "        const buttonEl =\n",
              "          document.querySelector('#df-60a19ab3-9dac-445d-b096-598d9c6e26df button.colab-df-convert');\n",
              "        buttonEl.style.display =\n",
              "          google.colab.kernel.accessAllowed ? 'block' : 'none';\n",
              "\n",
              "        async function convertToInteractive(key) {\n",
              "          const element = document.querySelector('#df-60a19ab3-9dac-445d-b096-598d9c6e26df');\n",
              "          const dataTable =\n",
              "            await google.colab.kernel.invokeFunction('convertToInteractive',\n",
              "                                                     [key], {});\n",
              "          if (!dataTable) return;\n",
              "\n",
              "          const docLinkHtml = 'Like what you see? Visit the ' +\n",
              "            '<a target=\"_blank\" href=https://colab.research.google.com/notebooks/data_table.ipynb>data table notebook</a>'\n",
              "            + ' to learn more about interactive tables.';\n",
              "          element.innerHTML = '';\n",
              "          dataTable['output_type'] = 'display_data';\n",
              "          await google.colab.output.renderOutput(dataTable, element);\n",
              "          const docLink = document.createElement('div');\n",
              "          docLink.innerHTML = docLinkHtml;\n",
              "          element.appendChild(docLink);\n",
              "        }\n",
              "      </script>\n",
              "    </div>\n",
              "  </div>\n",
              "  "
            ]
          },
          "metadata": {},
          "execution_count": 17
        }
      ]
    },
    {
      "cell_type": "code",
      "source": [
        "df.cov()         #checking for dependence among the columns"
      ],
      "metadata": {
        "colab": {
          "base_uri": "https://localhost:8080/",
          "height": 363
        },
        "id": "dTBV5FpEj-YC",
        "outputId": "4a6e5aa4-23e0-4e4c-ebfb-440b4673ad72"
      },
      "execution_count": 18,
      "outputs": [
        {
          "output_type": "execute_result",
          "data": {
            "text/plain": [
              "            carat     depth     table         x         y         z     price  \\\n",
              "carat    0.009712  0.000111  0.000769  0.010037  0.001819  0.002085  0.019588   \n",
              "depth    0.000111  0.001584 -0.000506 -0.000105 -0.000023  0.000084 -0.000091   \n",
              "table    0.000769 -0.000506  0.001847  0.000877  0.000153  0.000144  0.001178   \n",
              "x        0.010037 -0.000105  0.000877  0.010909  0.001974  0.002250  0.019924   \n",
              "y        0.001819 -0.000023  0.000153  0.001974  0.000376  0.000410  0.003619   \n",
              "z        0.002085  0.000084  0.000144  0.002250  0.000410  0.000492  0.004122   \n",
              "price    0.019588 -0.000091  0.001178  0.019924  0.003619  0.004122  0.046518   \n",
              "cut      0.001734 -0.007944  0.006639  0.002398  0.000549  0.000046  0.008835   \n",
              "color    0.048856  0.003201  0.001935  0.048023  0.008695  0.010126  0.063293   \n",
              "clarity -0.036419 -0.003643 -0.006538 -0.040659 -0.007277 -0.008583 -0.026608   \n",
              "\n",
              "              cut     color   clarity  \n",
              "carat    0.001734  0.048856 -0.036419  \n",
              "depth   -0.007944  0.003201 -0.003643  \n",
              "table    0.006639  0.001935 -0.006538  \n",
              "x        0.002398  0.048023 -0.040659  \n",
              "y        0.000549  0.008695 -0.007277  \n",
              "z        0.000046  0.010126 -0.008583  \n",
              "price    0.008835  0.063293 -0.026608  \n",
              "cut      1.056183  0.000532  0.050044  \n",
              "color    0.000532  2.893757 -0.081544  \n",
              "clarity  0.050044 -0.081544  2.974214  "
            ],
            "text/html": [
              "\n",
              "  <div id=\"df-07fff12b-8707-4a10-bd2f-e619e0922e36\">\n",
              "    <div class=\"colab-df-container\">\n",
              "      <div>\n",
              "<style scoped>\n",
              "    .dataframe tbody tr th:only-of-type {\n",
              "        vertical-align: middle;\n",
              "    }\n",
              "\n",
              "    .dataframe tbody tr th {\n",
              "        vertical-align: top;\n",
              "    }\n",
              "\n",
              "    .dataframe thead th {\n",
              "        text-align: right;\n",
              "    }\n",
              "</style>\n",
              "<table border=\"1\" class=\"dataframe\">\n",
              "  <thead>\n",
              "    <tr style=\"text-align: right;\">\n",
              "      <th></th>\n",
              "      <th>carat</th>\n",
              "      <th>depth</th>\n",
              "      <th>table</th>\n",
              "      <th>x</th>\n",
              "      <th>y</th>\n",
              "      <th>z</th>\n",
              "      <th>price</th>\n",
              "      <th>cut</th>\n",
              "      <th>color</th>\n",
              "      <th>clarity</th>\n",
              "    </tr>\n",
              "  </thead>\n",
              "  <tbody>\n",
              "    <tr>\n",
              "      <th>carat</th>\n",
              "      <td>0.009712</td>\n",
              "      <td>0.000111</td>\n",
              "      <td>0.000769</td>\n",
              "      <td>0.010037</td>\n",
              "      <td>0.001819</td>\n",
              "      <td>0.002085</td>\n",
              "      <td>0.019588</td>\n",
              "      <td>0.001734</td>\n",
              "      <td>0.048856</td>\n",
              "      <td>-0.036419</td>\n",
              "    </tr>\n",
              "    <tr>\n",
              "      <th>depth</th>\n",
              "      <td>0.000111</td>\n",
              "      <td>0.001584</td>\n",
              "      <td>-0.000506</td>\n",
              "      <td>-0.000105</td>\n",
              "      <td>-0.000023</td>\n",
              "      <td>0.000084</td>\n",
              "      <td>-0.000091</td>\n",
              "      <td>-0.007944</td>\n",
              "      <td>0.003201</td>\n",
              "      <td>-0.003643</td>\n",
              "    </tr>\n",
              "    <tr>\n",
              "      <th>table</th>\n",
              "      <td>0.000769</td>\n",
              "      <td>-0.000506</td>\n",
              "      <td>0.001847</td>\n",
              "      <td>0.000877</td>\n",
              "      <td>0.000153</td>\n",
              "      <td>0.000144</td>\n",
              "      <td>0.001178</td>\n",
              "      <td>0.006639</td>\n",
              "      <td>0.001935</td>\n",
              "      <td>-0.006538</td>\n",
              "    </tr>\n",
              "    <tr>\n",
              "      <th>x</th>\n",
              "      <td>0.010037</td>\n",
              "      <td>-0.000105</td>\n",
              "      <td>0.000877</td>\n",
              "      <td>0.010909</td>\n",
              "      <td>0.001974</td>\n",
              "      <td>0.002250</td>\n",
              "      <td>0.019924</td>\n",
              "      <td>0.002398</td>\n",
              "      <td>0.048023</td>\n",
              "      <td>-0.040659</td>\n",
              "    </tr>\n",
              "    <tr>\n",
              "      <th>y</th>\n",
              "      <td>0.001819</td>\n",
              "      <td>-0.000023</td>\n",
              "      <td>0.000153</td>\n",
              "      <td>0.001974</td>\n",
              "      <td>0.000376</td>\n",
              "      <td>0.000410</td>\n",
              "      <td>0.003619</td>\n",
              "      <td>0.000549</td>\n",
              "      <td>0.008695</td>\n",
              "      <td>-0.007277</td>\n",
              "    </tr>\n",
              "    <tr>\n",
              "      <th>z</th>\n",
              "      <td>0.002085</td>\n",
              "      <td>0.000084</td>\n",
              "      <td>0.000144</td>\n",
              "      <td>0.002250</td>\n",
              "      <td>0.000410</td>\n",
              "      <td>0.000492</td>\n",
              "      <td>0.004122</td>\n",
              "      <td>0.000046</td>\n",
              "      <td>0.010126</td>\n",
              "      <td>-0.008583</td>\n",
              "    </tr>\n",
              "    <tr>\n",
              "      <th>price</th>\n",
              "      <td>0.019588</td>\n",
              "      <td>-0.000091</td>\n",
              "      <td>0.001178</td>\n",
              "      <td>0.019924</td>\n",
              "      <td>0.003619</td>\n",
              "      <td>0.004122</td>\n",
              "      <td>0.046518</td>\n",
              "      <td>0.008835</td>\n",
              "      <td>0.063293</td>\n",
              "      <td>-0.026608</td>\n",
              "    </tr>\n",
              "    <tr>\n",
              "      <th>cut</th>\n",
              "      <td>0.001734</td>\n",
              "      <td>-0.007944</td>\n",
              "      <td>0.006639</td>\n",
              "      <td>0.002398</td>\n",
              "      <td>0.000549</td>\n",
              "      <td>0.000046</td>\n",
              "      <td>0.008835</td>\n",
              "      <td>1.056183</td>\n",
              "      <td>0.000532</td>\n",
              "      <td>0.050044</td>\n",
              "    </tr>\n",
              "    <tr>\n",
              "      <th>color</th>\n",
              "      <td>0.048856</td>\n",
              "      <td>0.003201</td>\n",
              "      <td>0.001935</td>\n",
              "      <td>0.048023</td>\n",
              "      <td>0.008695</td>\n",
              "      <td>0.010126</td>\n",
              "      <td>0.063293</td>\n",
              "      <td>0.000532</td>\n",
              "      <td>2.893757</td>\n",
              "      <td>-0.081544</td>\n",
              "    </tr>\n",
              "    <tr>\n",
              "      <th>clarity</th>\n",
              "      <td>-0.036419</td>\n",
              "      <td>-0.003643</td>\n",
              "      <td>-0.006538</td>\n",
              "      <td>-0.040659</td>\n",
              "      <td>-0.007277</td>\n",
              "      <td>-0.008583</td>\n",
              "      <td>-0.026608</td>\n",
              "      <td>0.050044</td>\n",
              "      <td>-0.081544</td>\n",
              "      <td>2.974214</td>\n",
              "    </tr>\n",
              "  </tbody>\n",
              "</table>\n",
              "</div>\n",
              "      <button class=\"colab-df-convert\" onclick=\"convertToInteractive('df-07fff12b-8707-4a10-bd2f-e619e0922e36')\"\n",
              "              title=\"Convert this dataframe to an interactive table.\"\n",
              "              style=\"display:none;\">\n",
              "        \n",
              "  <svg xmlns=\"http://www.w3.org/2000/svg\" height=\"24px\"viewBox=\"0 0 24 24\"\n",
              "       width=\"24px\">\n",
              "    <path d=\"M0 0h24v24H0V0z\" fill=\"none\"/>\n",
              "    <path d=\"M18.56 5.44l.94 2.06.94-2.06 2.06-.94-2.06-.94-.94-2.06-.94 2.06-2.06.94zm-11 1L8.5 8.5l.94-2.06 2.06-.94-2.06-.94L8.5 2.5l-.94 2.06-2.06.94zm10 10l.94 2.06.94-2.06 2.06-.94-2.06-.94-.94-2.06-.94 2.06-2.06.94z\"/><path d=\"M17.41 7.96l-1.37-1.37c-.4-.4-.92-.59-1.43-.59-.52 0-1.04.2-1.43.59L10.3 9.45l-7.72 7.72c-.78.78-.78 2.05 0 2.83L4 21.41c.39.39.9.59 1.41.59.51 0 1.02-.2 1.41-.59l7.78-7.78 2.81-2.81c.8-.78.8-2.07 0-2.86zM5.41 20L4 18.59l7.72-7.72 1.47 1.35L5.41 20z\"/>\n",
              "  </svg>\n",
              "      </button>\n",
              "      \n",
              "  <style>\n",
              "    .colab-df-container {\n",
              "      display:flex;\n",
              "      flex-wrap:wrap;\n",
              "      gap: 12px;\n",
              "    }\n",
              "\n",
              "    .colab-df-convert {\n",
              "      background-color: #E8F0FE;\n",
              "      border: none;\n",
              "      border-radius: 50%;\n",
              "      cursor: pointer;\n",
              "      display: none;\n",
              "      fill: #1967D2;\n",
              "      height: 32px;\n",
              "      padding: 0 0 0 0;\n",
              "      width: 32px;\n",
              "    }\n",
              "\n",
              "    .colab-df-convert:hover {\n",
              "      background-color: #E2EBFA;\n",
              "      box-shadow: 0px 1px 2px rgba(60, 64, 67, 0.3), 0px 1px 3px 1px rgba(60, 64, 67, 0.15);\n",
              "      fill: #174EA6;\n",
              "    }\n",
              "\n",
              "    [theme=dark] .colab-df-convert {\n",
              "      background-color: #3B4455;\n",
              "      fill: #D2E3FC;\n",
              "    }\n",
              "\n",
              "    [theme=dark] .colab-df-convert:hover {\n",
              "      background-color: #434B5C;\n",
              "      box-shadow: 0px 1px 3px 1px rgba(0, 0, 0, 0.15);\n",
              "      filter: drop-shadow(0px 1px 2px rgba(0, 0, 0, 0.3));\n",
              "      fill: #FFFFFF;\n",
              "    }\n",
              "  </style>\n",
              "\n",
              "      <script>\n",
              "        const buttonEl =\n",
              "          document.querySelector('#df-07fff12b-8707-4a10-bd2f-e619e0922e36 button.colab-df-convert');\n",
              "        buttonEl.style.display =\n",
              "          google.colab.kernel.accessAllowed ? 'block' : 'none';\n",
              "\n",
              "        async function convertToInteractive(key) {\n",
              "          const element = document.querySelector('#df-07fff12b-8707-4a10-bd2f-e619e0922e36');\n",
              "          const dataTable =\n",
              "            await google.colab.kernel.invokeFunction('convertToInteractive',\n",
              "                                                     [key], {});\n",
              "          if (!dataTable) return;\n",
              "\n",
              "          const docLinkHtml = 'Like what you see? Visit the ' +\n",
              "            '<a target=\"_blank\" href=https://colab.research.google.com/notebooks/data_table.ipynb>data table notebook</a>'\n",
              "            + ' to learn more about interactive tables.';\n",
              "          element.innerHTML = '';\n",
              "          dataTable['output_type'] = 'display_data';\n",
              "          await google.colab.output.renderOutput(dataTable, element);\n",
              "          const docLink = document.createElement('div');\n",
              "          docLink.innerHTML = docLinkHtml;\n",
              "          element.appendChild(docLink);\n",
              "        }\n",
              "      </script>\n",
              "    </div>\n",
              "  </div>\n",
              "  "
            ]
          },
          "metadata": {},
          "execution_count": 18
        }
      ]
    },
    {
      "cell_type": "code",
      "source": [
        "df=df.reindex(columns=[col for col in df.columns if col!='price']+['price'])          # moving the dependent column price to the end\n",
        "print(df.shape)\n",
        "df.head(3)"
      ],
      "metadata": {
        "colab": {
          "base_uri": "https://localhost:8080/",
          "height": 161
        },
        "id": "ooyUMIgKloHU",
        "outputId": "20e88f33-a136-447b-cbe0-c1a0f295edea"
      },
      "execution_count": 19,
      "outputs": [
        {
          "output_type": "stream",
          "name": "stdout",
          "text": [
            "(53940, 10)\n"
          ]
        },
        {
          "output_type": "execute_result",
          "data": {
            "text/plain": [
              "      carat     depth     table         x         y         z  cut  color  \\\n",
              "0  0.006237  0.513889  0.230769  0.367784  0.067572  0.076415    2      1   \n",
              "1  0.002079  0.466667  0.346154  0.362197  0.065195  0.072642    3      1   \n",
              "2  0.006237  0.386111  0.423077  0.377095  0.069100  0.072642    1      1   \n",
              "\n",
              "   clarity     price  \n",
              "0        3  0.000000  \n",
              "1        2  0.000000  \n",
              "2        4  0.000054  "
            ],
            "text/html": [
              "\n",
              "  <div id=\"df-2144a51b-98d3-4bbd-894d-2e4ba7235b1d\">\n",
              "    <div class=\"colab-df-container\">\n",
              "      <div>\n",
              "<style scoped>\n",
              "    .dataframe tbody tr th:only-of-type {\n",
              "        vertical-align: middle;\n",
              "    }\n",
              "\n",
              "    .dataframe tbody tr th {\n",
              "        vertical-align: top;\n",
              "    }\n",
              "\n",
              "    .dataframe thead th {\n",
              "        text-align: right;\n",
              "    }\n",
              "</style>\n",
              "<table border=\"1\" class=\"dataframe\">\n",
              "  <thead>\n",
              "    <tr style=\"text-align: right;\">\n",
              "      <th></th>\n",
              "      <th>carat</th>\n",
              "      <th>depth</th>\n",
              "      <th>table</th>\n",
              "      <th>x</th>\n",
              "      <th>y</th>\n",
              "      <th>z</th>\n",
              "      <th>cut</th>\n",
              "      <th>color</th>\n",
              "      <th>clarity</th>\n",
              "      <th>price</th>\n",
              "    </tr>\n",
              "  </thead>\n",
              "  <tbody>\n",
              "    <tr>\n",
              "      <th>0</th>\n",
              "      <td>0.006237</td>\n",
              "      <td>0.513889</td>\n",
              "      <td>0.230769</td>\n",
              "      <td>0.367784</td>\n",
              "      <td>0.067572</td>\n",
              "      <td>0.076415</td>\n",
              "      <td>2</td>\n",
              "      <td>1</td>\n",
              "      <td>3</td>\n",
              "      <td>0.000000</td>\n",
              "    </tr>\n",
              "    <tr>\n",
              "      <th>1</th>\n",
              "      <td>0.002079</td>\n",
              "      <td>0.466667</td>\n",
              "      <td>0.346154</td>\n",
              "      <td>0.362197</td>\n",
              "      <td>0.065195</td>\n",
              "      <td>0.072642</td>\n",
              "      <td>3</td>\n",
              "      <td>1</td>\n",
              "      <td>2</td>\n",
              "      <td>0.000000</td>\n",
              "    </tr>\n",
              "    <tr>\n",
              "      <th>2</th>\n",
              "      <td>0.006237</td>\n",
              "      <td>0.386111</td>\n",
              "      <td>0.423077</td>\n",
              "      <td>0.377095</td>\n",
              "      <td>0.069100</td>\n",
              "      <td>0.072642</td>\n",
              "      <td>1</td>\n",
              "      <td>1</td>\n",
              "      <td>4</td>\n",
              "      <td>0.000054</td>\n",
              "    </tr>\n",
              "  </tbody>\n",
              "</table>\n",
              "</div>\n",
              "      <button class=\"colab-df-convert\" onclick=\"convertToInteractive('df-2144a51b-98d3-4bbd-894d-2e4ba7235b1d')\"\n",
              "              title=\"Convert this dataframe to an interactive table.\"\n",
              "              style=\"display:none;\">\n",
              "        \n",
              "  <svg xmlns=\"http://www.w3.org/2000/svg\" height=\"24px\"viewBox=\"0 0 24 24\"\n",
              "       width=\"24px\">\n",
              "    <path d=\"M0 0h24v24H0V0z\" fill=\"none\"/>\n",
              "    <path d=\"M18.56 5.44l.94 2.06.94-2.06 2.06-.94-2.06-.94-.94-2.06-.94 2.06-2.06.94zm-11 1L8.5 8.5l.94-2.06 2.06-.94-2.06-.94L8.5 2.5l-.94 2.06-2.06.94zm10 10l.94 2.06.94-2.06 2.06-.94-2.06-.94-.94-2.06-.94 2.06-2.06.94z\"/><path d=\"M17.41 7.96l-1.37-1.37c-.4-.4-.92-.59-1.43-.59-.52 0-1.04.2-1.43.59L10.3 9.45l-7.72 7.72c-.78.78-.78 2.05 0 2.83L4 21.41c.39.39.9.59 1.41.59.51 0 1.02-.2 1.41-.59l7.78-7.78 2.81-2.81c.8-.78.8-2.07 0-2.86zM5.41 20L4 18.59l7.72-7.72 1.47 1.35L5.41 20z\"/>\n",
              "  </svg>\n",
              "      </button>\n",
              "      \n",
              "  <style>\n",
              "    .colab-df-container {\n",
              "      display:flex;\n",
              "      flex-wrap:wrap;\n",
              "      gap: 12px;\n",
              "    }\n",
              "\n",
              "    .colab-df-convert {\n",
              "      background-color: #E8F0FE;\n",
              "      border: none;\n",
              "      border-radius: 50%;\n",
              "      cursor: pointer;\n",
              "      display: none;\n",
              "      fill: #1967D2;\n",
              "      height: 32px;\n",
              "      padding: 0 0 0 0;\n",
              "      width: 32px;\n",
              "    }\n",
              "\n",
              "    .colab-df-convert:hover {\n",
              "      background-color: #E2EBFA;\n",
              "      box-shadow: 0px 1px 2px rgba(60, 64, 67, 0.3), 0px 1px 3px 1px rgba(60, 64, 67, 0.15);\n",
              "      fill: #174EA6;\n",
              "    }\n",
              "\n",
              "    [theme=dark] .colab-df-convert {\n",
              "      background-color: #3B4455;\n",
              "      fill: #D2E3FC;\n",
              "    }\n",
              "\n",
              "    [theme=dark] .colab-df-convert:hover {\n",
              "      background-color: #434B5C;\n",
              "      box-shadow: 0px 1px 3px 1px rgba(0, 0, 0, 0.15);\n",
              "      filter: drop-shadow(0px 1px 2px rgba(0, 0, 0, 0.3));\n",
              "      fill: #FFFFFF;\n",
              "    }\n",
              "  </style>\n",
              "\n",
              "      <script>\n",
              "        const buttonEl =\n",
              "          document.querySelector('#df-2144a51b-98d3-4bbd-894d-2e4ba7235b1d button.colab-df-convert');\n",
              "        buttonEl.style.display =\n",
              "          google.colab.kernel.accessAllowed ? 'block' : 'none';\n",
              "\n",
              "        async function convertToInteractive(key) {\n",
              "          const element = document.querySelector('#df-2144a51b-98d3-4bbd-894d-2e4ba7235b1d');\n",
              "          const dataTable =\n",
              "            await google.colab.kernel.invokeFunction('convertToInteractive',\n",
              "                                                     [key], {});\n",
              "          if (!dataTable) return;\n",
              "\n",
              "          const docLinkHtml = 'Like what you see? Visit the ' +\n",
              "            '<a target=\"_blank\" href=https://colab.research.google.com/notebooks/data_table.ipynb>data table notebook</a>'\n",
              "            + ' to learn more about interactive tables.';\n",
              "          element.innerHTML = '';\n",
              "          dataTable['output_type'] = 'display_data';\n",
              "          await google.colab.output.renderOutput(dataTable, element);\n",
              "          const docLink = document.createElement('div');\n",
              "          docLink.innerHTML = docLinkHtml;\n",
              "          element.appendChild(docLink);\n",
              "        }\n",
              "      </script>\n",
              "    </div>\n",
              "  </div>\n",
              "  "
            ]
          },
          "metadata": {},
          "execution_count": 19
        }
      ]
    },
    {
      "cell_type": "code",
      "source": [
        "df=df.sample(frac=1)                                 # shuffling the dataset"
      ],
      "metadata": {
        "id": "HZAc48n9KJsV"
      },
      "execution_count": 20,
      "outputs": []
    },
    {
      "cell_type": "code",
      "source": [
        "XM=np.array(data.drop(['price'],1))                 #storing the values of input features in a variable XM\n",
        "XM.shape"
      ],
      "metadata": {
        "colab": {
          "base_uri": "https://localhost:8080/"
        },
        "id": "6g2Q1GPgCKyo",
        "outputId": "6a108c28-adf1-4e69-e969-5eebc0c5570e"
      },
      "execution_count": 21,
      "outputs": [
        {
          "output_type": "stream",
          "name": "stderr",
          "text": [
            "/usr/local/lib/python3.7/dist-packages/ipykernel_launcher.py:1: FutureWarning: In a future version of pandas all arguments of DataFrame.drop except for the argument 'labels' will be keyword-only\n",
            "  \"\"\"Entry point for launching an IPython kernel.\n"
          ]
        },
        {
          "output_type": "execute_result",
          "data": {
            "text/plain": [
              "(53940, 9)"
            ]
          },
          "metadata": {},
          "execution_count": 21
        }
      ]
    },
    {
      "cell_type": "code",
      "source": [
        "YM=np.array(data['price'])                        # storing the output values in variable YM\n",
        "YM.shape"
      ],
      "metadata": {
        "colab": {
          "base_uri": "https://localhost:8080/"
        },
        "id": "sc3_2PeWDEmi",
        "outputId": "5b37270c-772f-46ee-b07c-ab5e20e79357"
      },
      "execution_count": 22,
      "outputs": [
        {
          "output_type": "execute_result",
          "data": {
            "text/plain": [
              "(53940,)"
            ]
          },
          "metadata": {},
          "execution_count": 22
        }
      ]
    },
    {
      "cell_type": "code",
      "source": [
        "M_train=math.floor(0.8*XM.shape[0])   #spliting the data for training(80%) and testing(20%)\n",
        "M_test=math.ceil(0.2*XM.shape[0])\n",
        "\n",
        "train_xm=XM[:M_train]\n",
        "train_ym=YM[:M_train]\n",
        "test_xm=XM[M_train:]\n",
        "test_ym=YM[M_train:]\n",
        "print(train_xm.shape)\n",
        "print(test_xm.shape)\n",
        "print(train_ym.shape)\n",
        "print(test_ym.shape)"
      ],
      "metadata": {
        "colab": {
          "base_uri": "https://localhost:8080/"
        },
        "id": "o2Y7ZFZ_DMIA",
        "outputId": "b93843e9-d0fe-45d5-a463-0501c4dd94b1"
      },
      "execution_count": 23,
      "outputs": [
        {
          "output_type": "stream",
          "name": "stdout",
          "text": [
            "(43152, 9)\n",
            "(10788, 9)\n",
            "(43152,)\n",
            "(10788,)\n"
          ]
        }
      ]
    },
    {
      "cell_type": "code",
      "source": [
        "X_m= pd.DataFrame(train_xm)               # storing the value for the training data into another variable\n",
        "Y_m= pd.DataFrame(train_ym)\n",
        "\n",
        "Xt_m= pd.DataFrame(test_xm)\n",
        "Yt_m= pd.DataFrame(test_ym)\n",
        "print(X_m.shape)\n",
        "print(Y_m.shape)\n",
        "print(Xt_m.shape)\n",
        "print(Yt_m.shape)"
      ],
      "metadata": {
        "colab": {
          "base_uri": "https://localhost:8080/"
        },
        "id": "WsW55pcvJwEG",
        "outputId": "7e7e3a5f-176e-4c20-b241-ce1edbbcf089"
      },
      "execution_count": 24,
      "outputs": [
        {
          "output_type": "stream",
          "name": "stdout",
          "text": [
            "(43152, 9)\n",
            "(43152, 1)\n",
            "(10788, 9)\n",
            "(10788, 1)\n"
          ]
        }
      ]
    },
    {
      "cell_type": "code",
      "source": [
        "Xp_m=np.append(X_m,np.ones((X_m.shape[0],1)),axis=1)                # appending 1 column to the feature training and testing data\n",
        "print(Xp_m.shape)                                                   \n",
        "Xtp_m=np.append(Xt_m,np.ones((Xt_m.shape[0],1)),axis=1)\n",
        "print(Xtp_m.shape)\n"
      ],
      "metadata": {
        "colab": {
          "base_uri": "https://localhost:8080/"
        },
        "id": "aFLYVU1wMCTd",
        "outputId": "e4f38c72-0154-4b2d-83bb-98103413e747"
      },
      "execution_count": 25,
      "outputs": [
        {
          "output_type": "stream",
          "name": "stdout",
          "text": [
            "(43152, 10)\n",
            "(10788, 10)\n"
          ]
        }
      ]
    },
    {
      "cell_type": "code",
      "source": [
        "W_m=np.dot(np.linalg.inv(np.dot(Xp_m.T,Xp_m)),np.dot(Xp_m.T,Y_m))   #calculation of parameter vector using normal equation \n",
        "W_m                           # printing the parameter vector"
      ],
      "metadata": {
        "colab": {
          "base_uri": "https://localhost:8080/"
        },
        "id": "Oqr9xWD3PHfb",
        "outputId": "072255f8-62c8-458f-b28a-f46fae131a25"
      },
      "execution_count": 26,
      "outputs": [
        {
          "output_type": "execute_result",
          "data": {
            "text/plain": [
              "array([[ 2.71478736],\n",
              "       [-0.31303385],\n",
              "       [-0.29949162],\n",
              "       [-0.55910406],\n",
              "       [ 0.18344711],\n",
              "       [ 0.03637396],\n",
              "       [ 0.00437525],\n",
              "       [-0.01601578],\n",
              "       [ 0.01740105],\n",
              "       [ 0.34820713]])"
            ]
          },
          "metadata": {},
          "execution_count": 26
        }
      ]
    },
    {
      "cell_type": "code",
      "source": [
        "# print(Xt_m.shape)\n",
        "# print(W_m.shape)\n",
        "ypred_m=np.dot(Xtp_m,W_m)      #calculation of predicted value\n",
        "ypred_m                        # printing the predicted values"
      ],
      "metadata": {
        "colab": {
          "base_uri": "https://localhost:8080/"
        },
        "id": "8MnHbtYkQaBD",
        "outputId": "2ac2ab6f-500b-4a11-f7dd-a013cc0b1320"
      },
      "execution_count": 27,
      "outputs": [
        {
          "output_type": "execute_result",
          "data": {
            "text/plain": [
              "array([[0.06685354],\n",
              "       [0.06378915],\n",
              "       [0.06571948],\n",
              "       ...,\n",
              "       [0.13974715],\n",
              "       [0.18225302],\n",
              "       [0.20246584]])"
            ]
          },
          "metadata": {},
          "execution_count": 27
        }
      ]
    },
    {
      "cell_type": "code",
      "source": [
        "loss_m=(np.dot(np.subtract(ypred_m,Yt_m).T,np.subtract(ypred_m,Yt_m)))/Yt_m.shape[0]         #calculating mean squared error\n",
        "loss_m                                               # printing the error value"
      ],
      "metadata": {
        "colab": {
          "base_uri": "https://localhost:8080/"
        },
        "id": "cG8OYvT0Qs7B",
        "outputId": "4ce3f0fc-ab63-4200-df94-58053e5398bd"
      },
      "execution_count": 28,
      "outputs": [
        {
          "output_type": "execute_result",
          "data": {
            "text/plain": [
              "array([[0.0017809]])"
            ]
          },
          "metadata": {},
          "execution_count": 28
        }
      ]
    },
    {
      "cell_type": "markdown",
      "source": [
        "# **Multivariate Linear Regression**"
      ],
      "metadata": {
        "id": "cyhHW7HvWYvj"
      }
    },
    {
      "cell_type": "markdown",
      "source": [
        "Gradient Descent"
      ],
      "metadata": {
        "id": "52jq8v77WgIH"
      }
    },
    {
      "cell_type": "code",
      "source": [
        "import math                            # making a function for computing the cost\n",
        "def cost_function(X, y, theta):\n",
        "    m_e = y.size\n",
        "    ypred_mm=np.dot(X,theta)\n",
        "    err=ypred_mm-y\n",
        "    cost = 1/(2*m_e) * np.sum(np.square(err))\n",
        "    return cost,err\n"
      ],
      "metadata": {
        "id": "ZoKXTDfUjIjL"
      },
      "execution_count": 29,
      "outputs": []
    },
    {
      "cell_type": "code",
      "source": [
        "def gradient_descent(X, y, theta, alpha, iters):  # function for computing the gradient descent \n",
        "    cost_array = np.zeros(iters)\n",
        "    m_g = y.size\n",
        "    for i in range(iters):\n",
        "        cost,err= cost_function(X, y, theta)\n",
        "        theta = theta - (alpha * ((1/m_g) * np.dot(X.T,err)))\n",
        "        cost_array[i] = cost\n",
        "    return theta, cost_array"
      ],
      "metadata": {
        "id": "011WgQcQjRuh"
      },
      "execution_count": 30,
      "outputs": []
    },
    {
      "cell_type": "code",
      "source": [
        "                           # computation of loss for multivariate linear regression using gradient descent\n",
        "alpha_gr=0.002            # learning rate                 \n",
        "iters=1000\n",
        "\n",
        "m=Y_m.size                \n",
        "n=X_m.shape[1]\n",
        "print(m)\n",
        "print(X_m.shape)\n",
        "print(Y_m.shape)\n",
        "#Y_mgr=Y_m.reshape((m,1))\n",
        "theta=np.zeros((n,1))\n",
        "\n",
        "W_mgr,Cst=gradient_descent(X_m,Y_m,theta, alpha_gr,iters)"
      ],
      "metadata": {
        "colab": {
          "base_uri": "https://localhost:8080/"
        },
        "id": "1toVDJQjjY57",
        "outputId": "b7ef84cb-46cc-4406-ee08-9d4437c39ce5"
      },
      "execution_count": 43,
      "outputs": [
        {
          "output_type": "stream",
          "name": "stdout",
          "text": [
            "43152\n",
            "(43152, 9)\n",
            "(43152, 1)\n"
          ]
        }
      ]
    },
    {
      "cell_type": "code",
      "source": [
        "rng=np.arange(iters)          # plotting the curve between cost and iterations\n",
        "plt.plot(rng,Cst)"
      ],
      "metadata": {
        "colab": {
          "base_uri": "https://localhost:8080/",
          "height": 282
        },
        "id": "9x6SMkGDsEhQ",
        "outputId": "afeea51e-1938-46e4-9d21-3fe083123b06"
      },
      "execution_count": 44,
      "outputs": [
        {
          "output_type": "execute_result",
          "data": {
            "text/plain": [
              "[<matplotlib.lines.Line2D at 0x7fb078d547d0>]"
            ]
          },
          "metadata": {},
          "execution_count": 44
        },
        {
          "output_type": "display_data",
          "data": {
            "text/plain": [
              "<Figure size 432x288 with 1 Axes>"
            ],
            "image/png": "[encoded data removed]"
          },
          "metadata": {
            "needs_background": "light"
          }
        }
      ]
    },
    {
      "cell_type": "code",
      "source": [
        "ypred_mt=np.dot(Xt_m,theta)                       # computation of predicted value from the trained model\n",
        "error=(1/Xt_m.shape[0])*np.sum(np.square(ypred_mt-Yt_m))   # finding the mean squared error\n",
        "error                                                     # printing the error value"
      ],
      "metadata": {
        "colab": {
          "base_uri": "https://localhost:8080/"
        },
        "id": "2oTZQtZj2cBL",
        "outputId": "703483b8-243c-4c47-a33d-a9084ceb1a27"
      },
      "execution_count": 45,
      "outputs": [
        {
          "output_type": "execute_result",
          "data": {
            "text/plain": [
              "0    0.008073\n",
              "dtype: float64"
            ]
          },
          "metadata": {},
          "execution_count": 45
        }
      ]
    },
    {
      "cell_type": "code",
      "source": [],
      "metadata": {
        "id": "CfyENnu_6EL7"
      },
      "execution_count": null,
      "outputs": []
    }
  ]
}